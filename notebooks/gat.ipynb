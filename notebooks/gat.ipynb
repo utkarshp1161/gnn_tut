{
 "cells": [
  {
   "cell_type": "code",
   "execution_count": 24,
   "metadata": {},
   "outputs": [],
   "source": [
    "import torch\n",
    "import torch.nn.functional as F\n",
    "from torch_geometric.data import DataLoader\n",
    "from torch_geometric.datasets import MD17\n",
    "from torch_geometric.nn import GATConv, global_add_pool\n",
    "from torch_geometric.nn import GATv2Conv\n",
    "import os\n",
    "os.environ['CUDA_LAUNCH_BLOCKING'] = '1'\n",
    "\n",
    "#from torch_geometric.transforms import KNNGraph\n",
    "from torch_geometric.transforms import RadiusGraph\n",
    "device = torch.device(\"cuda\" if torch.cuda.is_available() else \"cpu\")\n",
    "#device = torch.device(\"cpu\")\n",
    "from tqdm import tqdm"
   ]
  },
  {
   "cell_type": "code",
   "execution_count": 2,
   "metadata": {},
   "outputs": [],
   "source": [
    "# Compute edge indices\n",
    "#knn_graph = KNNGraph(k=6) "
   ]
  },
  {
   "cell_type": "code",
   "execution_count": 3,
   "metadata": {},
   "outputs": [],
   "source": [
    "# Load the MD17 dataset\n",
    "#https://pytorch-geometric.readthedocs.io/en/latest/_modules/torch_geometric/datasets/md17.html#MD17\n",
    "path = \"/home/sire/phd/srz228573/benchmarking_datasets/baseline_model_dataset/gat\"\n",
    "#dataset = MD17(root=path, name = 'revised benzene', transform=KNNGraph(k=6))\n",
    "dataset = MD17(root=path, name = 'revised benzene', transform= RadiusGraph(r=2))"
   ]
  },
  {
   "cell_type": "code",
   "execution_count": 65,
   "metadata": {},
   "outputs": [
    {
     "name": "stderr",
     "output_type": "stream",
     "text": [
      "100%|██████████| 100000/100000 [00:24<00:00, 4148.72it/s]"
     ]
    },
    {
     "name": "stdout",
     "output_type": "stream",
     "text": [
      "MD17 (#graphs=100000):\n",
      "+------------+----------+----------+\n",
      "|            |   #nodes |   #edges |\n",
      "|------------+----------+----------|\n",
      "| mean       |       12 |     24   |\n",
      "| std        |        0 |      0.2 |\n",
      "| min        |       12 |     24   |\n",
      "| quantile25 |       12 |     24   |\n",
      "| median     |       12 |     24   |\n",
      "| quantile75 |       12 |     24   |\n",
      "| max        |       12 |     28   |\n",
      "+------------+----------+----------+\n"
     ]
    },
    {
     "name": "stderr",
     "output_type": "stream",
     "text": [
      "\n"
     ]
    }
   ],
   "source": [
    "dataset.print_summary()"
   ]
  },
  {
   "cell_type": "code",
   "execution_count": 29,
   "metadata": {},
   "outputs": [
    {
     "data": {
      "text/plain": [
       "Data(pos=[12, 3], z=[12], energy=[1], force=[12, 3], edge_index=[2, 24])"
      ]
     },
     "execution_count": 29,
     "metadata": {},
     "output_type": "execute_result"
    }
   ],
   "source": [
    "dataset[0]"
   ]
  },
  {
   "cell_type": "code",
   "execution_count": 77,
   "metadata": {},
   "outputs": [],
   "source": [
    "# # Prepare the data\n",
    "# for data in dataset:\n",
    "#     data.z = data.z.unsqueeze(-1).float()  # Use atomic numbers as node features\n"
   ]
  },
  {
   "cell_type": "code",
   "execution_count": 4,
   "metadata": {},
   "outputs": [],
   "source": [
    "# Use 80% of the data for training, and 20% for testing\n",
    "train_dataset = dataset[:int(0.8 * len(dataset))]\n",
    "test_dataset = dataset[int(0.8 * len(dataset)):]"
   ]
  },
  {
   "cell_type": "code",
   "execution_count": 5,
   "metadata": {},
   "outputs": [
    {
     "data": {
      "text/plain": [
       "Data(pos=[12, 3], z=[12], energy=[1], force=[12, 3], edge_index=[2, 24])"
      ]
     },
     "execution_count": 5,
     "metadata": {},
     "output_type": "execute_result"
    }
   ],
   "source": [
    "train_dataset[0]"
   ]
  },
  {
   "cell_type": "code",
   "execution_count": 6,
   "metadata": {},
   "outputs": [
    {
     "name": "stderr",
     "output_type": "stream",
     "text": [
      "/home/sire/phd/srz228573/anaconda3/envs/bebam/lib/python3.10/site-packages/torch_geometric/deprecation.py:22: UserWarning: 'data.DataLoader' is deprecated, use 'loader.DataLoader' instead\n",
      "  warnings.warn(out)\n"
     ]
    }
   ],
   "source": [
    "\n",
    "train_loader = DataLoader(train_dataset, batch_size=32, shuffle=True)\n",
    "test_loader = DataLoader(test_dataset, batch_size=32, shuffle=False)"
   ]
  },
  {
   "cell_type": "code",
   "execution_count": 15,
   "metadata": {},
   "outputs": [],
   "source": [
    "# class GAT(torch.nn.Module):\n",
    "#     def __init__(self, num_features, hidden_channels, num_classes):\n",
    "#         super(GAT, self).__init__()\n",
    "#         self.conv1 = GATConv(num_features, hidden_channels)\n",
    "#         self.conv2 = GATConv(hidden_channels, hidden_channels)\n",
    "#         self.fc1 = torch.nn.Linear(hidden_channels, hidden_channels)\n",
    "#         self.fc2 = torch.nn.Linear(hidden_channels, num_classes)\n",
    "\n",
    "#     def forward(self, x, edge_index, batch):\n",
    "#         x = self.conv1(x, edge_index)\n",
    "#         x = F.relu(x)\n",
    "#         x = F.dropout(x, p=0.6, training=self.training)\n",
    "#         x = self.conv2(x, edge_index)\n",
    "#         x = F.relu(x)\n",
    "#         x = global_add_pool(x, batch)  # Pooling to obtain graph-level representation\n",
    "#         x = self.fc1(x)\n",
    "#         x = F.relu(x)\n",
    "#         x = self.fc2(x)\n",
    "#         return x\n",
    "class GAT(torch.nn.Module):\n",
    "    def __init__(self, num_features, hidden_channels, num_classes):\n",
    "        super(GAT, self).__init__()\n",
    "        self.embedding = torch.nn.Embedding(num_features, hidden_channels)\n",
    "        self.conv1 = GATv2Conv(hidden_channels, hidden_channels)\n",
    "        self.conv2 = GATv2Conv(hidden_channels, hidden_channels)\n",
    "        self.fc1 = torch.nn.Linear(hidden_channels, hidden_channels)\n",
    "        self.fc2 = torch.nn.Linear(hidden_channels, num_classes)\n",
    "\n",
    "    def forward(self, z, edge_index, batch):\n",
    "        #print(\"inside_forward\")\n",
    "        x = self.embedding(z)\n",
    "        x = self.conv1(x, edge_index)\n",
    "        x = F.relu(x)\n",
    "        x = F.dropout(x, p=0.6, training=self.training)\n",
    "        x = self.conv2(x, edge_index)\n",
    "        x = F.relu(x)\n",
    "        x = global_add_pool(x, batch)  # Pooling to obtain graph-level representation\n",
    "        x = self.fc1(x)\n",
    "        x = F.relu(x)\n",
    "        x = self.fc2(x)\n",
    "        return x"
   ]
  },
  {
   "cell_type": "code",
   "execution_count": 16,
   "metadata": {},
   "outputs": [],
   "source": [
    "#num_features = max([data.z.max().item() for data in dataset]) - 1 + 2\n",
    "num_features = 7\n"
   ]
  },
  {
   "cell_type": "code",
   "execution_count": 17,
   "metadata": {},
   "outputs": [],
   "source": [
    "\n",
    "model = GAT(num_features, hidden_channels=64, num_classes=1).to(device)\n",
    "optimizer = torch.optim.Adam(model.parameters(), lr=0.005, weight_decay=5e-4)\n"
   ]
  },
  {
   "cell_type": "code",
   "execution_count": 25,
   "metadata": {},
   "outputs": [],
   "source": [
    "def train():\n",
    "    model.train()\n",
    "    for data in tqdm(train_loader):\n",
    "        data = data.to(device)\n",
    "        optimizer.zero_grad()\n",
    "        output = model(data.z, data.edge_index, data.batch)\n",
    "        loss = F.mse_loss(output, data.energy)\n",
    "        loss.backward()\n",
    "        optimizer.step()\n",
    "        print(loss.item())\n"
   ]
  },
  {
   "cell_type": "code",
   "execution_count": 26,
   "metadata": {},
   "outputs": [],
   "source": [
    "def test(loader):\n",
    "    model.eval()\n",
    "    loss = 0\n",
    "    for data in loader:\n",
    "        data = data.to(device)\n",
    "        with torch.no_grad():\n",
    "            output = model(data.z, data.edge_index, data.batch)\n",
    "        loss += F.mse_loss(output, data.energy).item()\n",
    "    return loss / len(loader)"
   ]
  },
  {
   "cell_type": "code",
   "execution_count": 27,
   "metadata": {},
   "outputs": [
    {
     "name": "stderr",
     "output_type": "stream",
     "text": [
      "  0%|          | 0/2500 [00:00<?, ?it/s]/tmp/ipykernel_20700/1564437284.py:7: UserWarning: Using a target size (torch.Size([32])) that is different to the input size (torch.Size([32, 1])). This will likely lead to incorrect results due to broadcasting. Please ensure they have the same size.\n",
      "  loss = F.mse_loss(output, data.energy)\n",
      "  1%|          | 16/2500 [00:00<00:33, 75.26it/s]"
     ]
    },
    {
     "name": "stdout",
     "output_type": "stream",
     "text": [
      "76126672.0\n",
      "63429720.0\n",
      "73283264.0\n",
      "62057356.0\n",
      "78749248.0\n",
      "43225416.0\n",
      "50657884.0\n",
      "106223248.0\n",
      "68042096.0\n",
      "93731240.0\n",
      "81159296.0\n",
      "96039168.0\n",
      "64975632.0\n",
      "62031152.0\n",
      "81222592.0\n",
      "98196040.0\n"
     ]
    },
    {
     "name": "stderr",
     "output_type": "stream",
     "text": [
      "  1%|▏         | 32/2500 [00:00<00:32, 76.47it/s]"
     ]
    },
    {
     "name": "stdout",
     "output_type": "stream",
     "text": [
      "65133992.0\n",
      "65976296.0\n",
      "74943760.0\n",
      "45755300.0\n",
      "57412532.0\n",
      "59149832.0\n",
      "69477976.0\n",
      "78662024.0\n",
      "53990172.0\n",
      "98724920.0\n",
      "67183040.0\n",
      "60354484.0\n",
      "65485008.0\n",
      "69115168.0\n",
      "48870360.0\n",
      "70392096.0\n"
     ]
    },
    {
     "name": "stderr",
     "output_type": "stream",
     "text": [
      "  2%|▏         | 49/2500 [00:00<00:31, 78.64it/s]"
     ]
    },
    {
     "name": "stdout",
     "output_type": "stream",
     "text": [
      "80259296.0\n",
      "70707200.0\n",
      "49576480.0\n",
      "45636408.0\n",
      "62999368.0\n",
      "66161556.0\n",
      "78690016.0\n",
      "63463488.0\n",
      "55404512.0\n",
      "58407668.0\n",
      "71869680.0\n",
      "43322284.0\n",
      "62332936.0\n",
      "69846320.0\n",
      "73351712.0\n",
      "73680096.0\n",
      "48925832.0\n"
     ]
    },
    {
     "name": "stderr",
     "output_type": "stream",
     "text": [
      "  2%|▏         | 58/2500 [00:00<00:30, 79.24it/s]"
     ]
    },
    {
     "name": "stdout",
     "output_type": "stream",
     "text": [
      "61163220.0\n",
      "36581900.0\n",
      "66057768.0\n",
      "92920768.0\n",
      "61893488.0\n",
      "73960552.0\n",
      "86905096.0\n",
      "60738416.0\n",
      "82987776.0\n",
      "82572808.0\n",
      "66608876.0\n",
      "79106208.0\n",
      "55595224.0\n",
      "51207392.0\n",
      "85150192.0\n",
      "74003296.0\n",
      "80753328.0\n"
     ]
    },
    {
     "name": "stderr",
     "output_type": "stream",
     "text": [
      "  3%|▎         | 76/2500 [00:00<00:30, 80.11it/s]"
     ]
    },
    {
     "name": "stdout",
     "output_type": "stream",
     "text": [
      "76138080.0\n",
      "82223936.0\n",
      "89560240.0\n",
      "48148888.0\n",
      "45820032.0\n",
      "61137820.0\n",
      "45775336.0\n",
      "83722128.0\n",
      "52356640.0\n",
      "84381480.0\n",
      "73913792.0\n",
      "67340848.0\n",
      "71318976.0\n",
      "75936712.0\n",
      "68457968.0\n",
      "64740748.0\n",
      "83859552.0\n"
     ]
    },
    {
     "name": "stderr",
     "output_type": "stream",
     "text": [
      "  4%|▍         | 94/2500 [00:01<00:29, 80.80it/s]"
     ]
    },
    {
     "name": "stdout",
     "output_type": "stream",
     "text": [
      "116407488.0\n",
      "81164512.0\n",
      "85970440.0\n",
      "49814272.0\n",
      "43041620.0\n",
      "67689088.0\n",
      "46778184.0\n",
      "97512712.0\n",
      "70801720.0\n",
      "43477640.0\n",
      "90199104.0\n",
      "32988576.0\n",
      "50998200.0\n",
      "64321428.0\n",
      "94457744.0\n",
      "65969244.0\n",
      "68301072.0\n"
     ]
    },
    {
     "name": "stderr",
     "output_type": "stream",
     "text": [
      "  4%|▍         | 112/2500 [00:01<00:29, 81.61it/s]"
     ]
    },
    {
     "name": "stdout",
     "output_type": "stream",
     "text": [
      "40203280.0\n",
      "64868852.0\n",
      "96524584.0\n",
      "42202152.0\n",
      "89910480.0\n",
      "79102096.0\n",
      "76372304.0\n",
      "52022252.0\n",
      "47410520.0\n",
      "65090832.0\n",
      "57608568.0\n",
      "67748952.0\n",
      "67470360.0\n",
      "41893336.0\n",
      "72055200.0\n",
      "82341024.0\n",
      "102751408.0\n"
     ]
    },
    {
     "name": "stderr",
     "output_type": "stream",
     "text": [
      "  5%|▌         | 130/2500 [00:01<00:29, 81.61it/s]"
     ]
    },
    {
     "name": "stdout",
     "output_type": "stream",
     "text": [
      "80516160.0\n",
      "71619920.0\n",
      "87886192.0\n",
      "72531768.0\n",
      "69426928.0\n",
      "44118232.0\n",
      "62981640.0\n",
      "69999120.0\n",
      "68987648.0\n",
      "70486256.0\n",
      "68742712.0\n",
      "64166376.0\n",
      "75246048.0\n",
      "76107656.0\n",
      "62716972.0\n",
      "81809952.0\n",
      "75306304.0\n"
     ]
    },
    {
     "name": "stderr",
     "output_type": "stream",
     "text": [
      "  6%|▌         | 148/2500 [00:01<00:28, 81.63it/s]"
     ]
    },
    {
     "name": "stdout",
     "output_type": "stream",
     "text": [
      "53301672.0\n",
      "89739280.0\n",
      "80957992.0\n",
      "83081896.0\n",
      "100925632.0\n",
      "61031592.0\n",
      "77889832.0\n",
      "55267736.0\n",
      "52573544.0\n",
      "59064300.0\n",
      "83056200.0\n",
      "95623456.0\n",
      "74441072.0\n",
      "80814456.0\n",
      "76821056.0\n",
      "75273184.0\n",
      "50707108.0\n"
     ]
    },
    {
     "name": "stderr",
     "output_type": "stream",
     "text": [
      "  7%|▋         | 166/2500 [00:02<00:28, 81.50it/s]"
     ]
    },
    {
     "name": "stdout",
     "output_type": "stream",
     "text": [
      "81298992.0\n",
      "33282106.0\n",
      "73447688.0\n",
      "51710832.0\n",
      "38475840.0\n",
      "59555600.0\n",
      "87186504.0\n",
      "62852104.0\n",
      "58334456.0\n",
      "76590376.0\n",
      "109606048.0\n",
      "68361760.0\n",
      "43623992.0\n",
      "50480208.0\n",
      "59799928.0\n",
      "76979488.0\n",
      "100115472.0\n"
     ]
    },
    {
     "name": "stderr",
     "output_type": "stream",
     "text": [
      "  7%|▋         | 184/2500 [00:02<00:28, 81.53it/s]"
     ]
    },
    {
     "name": "stdout",
     "output_type": "stream",
     "text": [
      "65416368.0\n",
      "48951416.0\n",
      "77401376.0\n",
      "41042900.0\n",
      "116473784.0\n",
      "70157216.0\n",
      "70305400.0\n",
      "50930688.0\n",
      "88439416.0\n",
      "35236504.0\n",
      "57142700.0\n",
      "91521200.0\n",
      "87082880.0\n",
      "76939080.0\n",
      "85061072.0\n",
      "56326648.0\n",
      "93040784.0\n"
     ]
    },
    {
     "name": "stderr",
     "output_type": "stream",
     "text": [
      "  8%|▊         | 202/2500 [00:02<00:28, 81.33it/s]"
     ]
    },
    {
     "name": "stdout",
     "output_type": "stream",
     "text": [
      "85897680.0\n",
      "82931816.0\n",
      "72342944.0\n",
      "77123200.0\n",
      "89364712.0\n",
      "106277944.0\n",
      "52405100.0\n",
      "81421160.0\n",
      "63199796.0\n",
      "65103860.0\n",
      "51210584.0\n",
      "71334672.0\n",
      "53000596.0\n",
      "59356516.0\n",
      "94392384.0\n",
      "72554208.0\n",
      "74249864.0\n"
     ]
    },
    {
     "name": "stderr",
     "output_type": "stream",
     "text": [
      "  8%|▊         | 211/2500 [00:02<00:28, 81.15it/s]"
     ]
    },
    {
     "name": "stdout",
     "output_type": "stream",
     "text": [
      "123112352.0\n",
      "60038664.0\n",
      "70026576.0\n",
      "62706516.0\n",
      "111984264.0\n",
      "80597008.0\n",
      "82314320.0\n",
      "82421040.0\n",
      "58149040.0\n",
      "84072184.0\n",
      "87395992.0\n",
      "76949600.0\n",
      "74418312.0\n",
      "80253712.0\n",
      "76449424.0\n",
      "64778884.0\n",
      "85838528.0\n"
     ]
    },
    {
     "name": "stderr",
     "output_type": "stream",
     "text": [
      "  9%|▉         | 229/2500 [00:02<00:27, 81.30it/s]"
     ]
    },
    {
     "name": "stdout",
     "output_type": "stream",
     "text": [
      "39808416.0\n",
      "77485704.0\n",
      "62857904.0\n",
      "52907400.0\n",
      "85254768.0\n",
      "91877776.0\n",
      "99948832.0\n",
      "93888272.0\n",
      "55133248.0\n",
      "80927200.0\n",
      "81787872.0\n",
      "65267248.0\n",
      "83727600.0\n",
      "67587536.0\n",
      "77648432.0\n",
      "37108184.0\n",
      "58311924.0\n"
     ]
    },
    {
     "name": "stderr",
     "output_type": "stream",
     "text": [
      " 10%|▉         | 247/2500 [00:03<00:28, 79.87it/s]"
     ]
    },
    {
     "name": "stdout",
     "output_type": "stream",
     "text": [
      "62119724.0\n",
      "100025136.0\n",
      "35633120.0\n",
      "65665444.0\n",
      "58565152.0\n",
      "102945744.0\n",
      "52378424.0\n",
      "74685808.0\n",
      "81420856.0\n",
      "84781872.0\n",
      "48969032.0\n",
      "65270844.0\n",
      "62430448.0\n",
      "82551936.0\n",
      "89988208.0\n",
      "72982712.0\n"
     ]
    },
    {
     "name": "stderr",
     "output_type": "stream",
     "text": [
      " 11%|█         | 263/2500 [00:03<00:28, 79.06it/s]"
     ]
    },
    {
     "name": "stdout",
     "output_type": "stream",
     "text": [
      "65296952.0\n",
      "64395412.0\n",
      "97684464.0\n",
      "63064916.0\n",
      "74251792.0\n",
      "110550736.0\n",
      "76157696.0\n",
      "66314768.0\n",
      "93684480.0\n",
      "67274064.0\n",
      "91836536.0\n",
      "71755008.0\n",
      "47930232.0\n",
      "55370952.0\n",
      "87964272.0\n",
      "96874440.0\n"
     ]
    },
    {
     "name": "stderr",
     "output_type": "stream",
     "text": [
      " 11%|█         | 279/2500 [00:03<00:28, 78.59it/s]"
     ]
    },
    {
     "name": "stdout",
     "output_type": "stream",
     "text": [
      "50655556.0\n",
      "75560152.0\n",
      "92591240.0\n",
      "61150296.0\n",
      "69639392.0\n",
      "81241968.0\n",
      "62954712.0\n",
      "49100328.0\n",
      "53036080.0\n",
      "83268944.0\n",
      "69603872.0\n",
      "100307056.0\n",
      "42115368.0\n",
      "66390908.0\n",
      "53803480.0\n",
      "49204624.0\n"
     ]
    },
    {
     "name": "stderr",
     "output_type": "stream",
     "text": [
      " 12%|█▏        | 296/2500 [00:03<00:27, 79.40it/s]"
     ]
    },
    {
     "name": "stdout",
     "output_type": "stream",
     "text": [
      "85616304.0\n",
      "67565472.0\n",
      "63599392.0\n",
      "64074204.0\n",
      "46683560.0\n",
      "88187064.0\n",
      "47242316.0\n",
      "79504224.0\n",
      "60855704.0\n",
      "66948932.0\n",
      "103079504.0\n",
      "92837152.0\n",
      "67663664.0\n",
      "98741128.0\n",
      "71271728.0\n",
      "59917632.0\n",
      "85379640.0\n"
     ]
    },
    {
     "name": "stderr",
     "output_type": "stream",
     "text": [
      " 13%|█▎        | 314/2500 [00:03<00:27, 80.33it/s]"
     ]
    },
    {
     "name": "stdout",
     "output_type": "stream",
     "text": [
      "63676080.0\n",
      "98920120.0\n",
      "58458912.0\n",
      "108150928.0\n",
      "87250480.0\n",
      "59661144.0\n",
      "78214592.0\n",
      "111527064.0\n",
      "123814848.0\n",
      "80924152.0\n",
      "67329504.0\n",
      "87973024.0\n",
      "51336088.0\n",
      "54840024.0\n",
      "82587056.0\n",
      "60935248.0\n",
      "70894880.0\n"
     ]
    },
    {
     "name": "stderr",
     "output_type": "stream",
     "text": [
      " 13%|█▎        | 332/2500 [00:04<00:26, 80.79it/s]"
     ]
    },
    {
     "name": "stdout",
     "output_type": "stream",
     "text": [
      "68093224.0\n",
      "74855456.0\n",
      "82305248.0\n",
      "63458096.0\n",
      "57706320.0\n",
      "59876920.0\n",
      "85011264.0\n",
      "90223984.0\n",
      "105324120.0\n",
      "57279048.0\n",
      "93592840.0\n",
      "85198120.0\n",
      "77949752.0\n",
      "49132048.0\n",
      "97039424.0\n",
      "38663824.0\n",
      "90492064.0\n"
     ]
    },
    {
     "name": "stderr",
     "output_type": "stream",
     "text": [
      " 14%|█▍        | 350/2500 [00:04<00:26, 81.19it/s]"
     ]
    },
    {
     "name": "stdout",
     "output_type": "stream",
     "text": [
      "68956312.0\n",
      "92460912.0\n",
      "61374000.0\n",
      "77774544.0\n",
      "67779224.0\n",
      "71314832.0\n",
      "73723840.0\n",
      "66788808.0\n",
      "69213968.0\n",
      "85806184.0\n",
      "79140512.0\n",
      "67666112.0\n",
      "107582896.0\n",
      "60971288.0\n",
      "44503336.0\n",
      "67647808.0\n",
      "128256440.0\n"
     ]
    },
    {
     "name": "stderr",
     "output_type": "stream",
     "text": [
      " 15%|█▍        | 368/2500 [00:04<00:26, 81.08it/s]"
     ]
    },
    {
     "name": "stdout",
     "output_type": "stream",
     "text": [
      "74186368.0\n",
      "53819176.0\n",
      "65453440.0\n",
      "81762080.0\n",
      "57274764.0\n",
      "90276848.0\n",
      "89804544.0\n",
      "55209984.0\n",
      "96722976.0\n",
      "61453888.0\n",
      "71735144.0\n",
      "63088756.0\n",
      "77631472.0\n",
      "82425056.0\n",
      "47580116.0\n",
      "75859456.0\n",
      "53227240.0\n"
     ]
    },
    {
     "name": "stderr",
     "output_type": "stream",
     "text": [
      " 15%|█▌        | 386/2500 [00:04<00:26, 80.93it/s]"
     ]
    },
    {
     "name": "stdout",
     "output_type": "stream",
     "text": [
      "65335256.0\n",
      "75199184.0\n",
      "74087136.0\n",
      "59703680.0\n",
      "74874208.0\n",
      "68722200.0\n",
      "105117760.0\n",
      "58581044.0\n",
      "56136988.0\n",
      "104244752.0\n",
      "90837112.0\n",
      "57863824.0\n",
      "43704408.0\n",
      "122005344.0\n",
      "88601240.0\n",
      "62669856.0\n",
      "111259304.0\n"
     ]
    },
    {
     "name": "stderr",
     "output_type": "stream",
     "text": [
      " 16%|█▌        | 395/2500 [00:04<00:25, 81.21it/s]"
     ]
    },
    {
     "name": "stdout",
     "output_type": "stream",
     "text": [
      "71834352.0\n",
      "58486292.0\n",
      "41018272.0\n",
      "81393200.0\n",
      "85198392.0\n",
      "57349048.0\n",
      "59749796.0\n",
      "71645728.0\n",
      "64653576.0\n",
      "61044192.0\n",
      "60086536.0\n",
      "61812352.0\n",
      "51921760.0\n",
      "102838752.0\n",
      "75466592.0\n",
      "39878492.0\n",
      "59611640.0\n"
     ]
    },
    {
     "name": "stderr",
     "output_type": "stream",
     "text": [
      " 17%|█▋        | 413/2500 [00:05<00:25, 80.79it/s]"
     ]
    },
    {
     "name": "stdout",
     "output_type": "stream",
     "text": [
      "70766944.0\n",
      "85175976.0\n",
      "43074800.0\n",
      "94677824.0\n",
      "88505424.0\n",
      "64502672.0\n",
      "63721904.0\n",
      "99968760.0\n",
      "63191144.0\n",
      "107289640.0\n",
      "110357776.0\n",
      "82623488.0\n",
      "61501448.0\n",
      "60955912.0\n",
      "77277968.0\n",
      "106372008.0\n",
      "54191972.0\n"
     ]
    },
    {
     "name": "stderr",
     "output_type": "stream",
     "text": [
      " 17%|█▋        | 431/2500 [00:05<00:25, 80.59it/s]"
     ]
    },
    {
     "name": "stdout",
     "output_type": "stream",
     "text": [
      "65127632.0\n",
      "79984104.0\n",
      "98313616.0\n",
      "54063948.0\n",
      "69406912.0\n",
      "95335704.0\n",
      "56974920.0\n",
      "66898860.0\n",
      "59708784.0\n",
      "83082296.0\n",
      "67205600.0\n",
      "96193072.0\n",
      "75065016.0\n",
      "75621288.0\n",
      "93903792.0\n",
      "52331824.0\n",
      "45754700.0\n"
     ]
    },
    {
     "name": "stderr",
     "output_type": "stream",
     "text": [
      " 18%|█▊        | 449/2500 [00:05<00:25, 79.55it/s]"
     ]
    },
    {
     "name": "stdout",
     "output_type": "stream",
     "text": [
      "49511080.0\n",
      "59188896.0\n",
      "75375688.0\n",
      "40910088.0\n",
      "64437344.0\n",
      "37270400.0\n",
      "96734304.0\n",
      "61833608.0\n",
      "108804096.0\n",
      "52690444.0\n",
      "43208672.0\n",
      "63670632.0\n",
      "86031664.0\n",
      "73963312.0\n",
      "70335056.0\n",
      "88285768.0\n"
     ]
    },
    {
     "name": "stderr",
     "output_type": "stream",
     "text": [
      " 19%|█▊        | 465/2500 [00:05<00:25, 78.91it/s]"
     ]
    },
    {
     "name": "stdout",
     "output_type": "stream",
     "text": [
      "69302736.0\n",
      "49731096.0\n",
      "91612016.0\n",
      "109637576.0\n",
      "78864720.0\n",
      "71196312.0\n",
      "54572672.0\n",
      "66677560.0\n",
      "58207136.0\n",
      "64998512.0\n",
      "60325040.0\n",
      "67757008.0\n",
      "70284640.0\n",
      "98693808.0\n",
      "76355376.0\n",
      "65181672.0\n"
     ]
    },
    {
     "name": "stderr",
     "output_type": "stream",
     "text": [
      " 19%|█▉        | 483/2500 [00:06<00:25, 79.59it/s]"
     ]
    },
    {
     "name": "stdout",
     "output_type": "stream",
     "text": [
      "81228456.0\n",
      "69251728.0\n",
      "47761572.0\n",
      "74463056.0\n",
      "63754792.0\n",
      "20309668.0\n",
      "71407632.0\n",
      "88604128.0\n",
      "93376144.0\n",
      "68294168.0\n",
      "66197688.0\n",
      "72242064.0\n",
      "77888768.0\n",
      "69531936.0\n",
      "77114592.0\n",
      "52040688.0\n",
      "62821816.0\n"
     ]
    },
    {
     "name": "stderr",
     "output_type": "stream",
     "text": [
      " 20%|██        | 501/2500 [00:06<00:24, 80.22it/s]"
     ]
    },
    {
     "name": "stdout",
     "output_type": "stream",
     "text": [
      "62911072.0\n",
      "87237408.0\n",
      "36477916.0\n",
      "75852472.0\n",
      "50739720.0\n",
      "35413120.0\n",
      "77683368.0\n",
      "113337416.0\n",
      "55668592.0\n",
      "60578616.0\n",
      "67647280.0\n",
      "56150136.0\n",
      "76242416.0\n",
      "70385376.0\n",
      "84772016.0\n",
      "47736176.0\n",
      "67598424.0\n"
     ]
    },
    {
     "name": "stderr",
     "output_type": "stream",
     "text": [
      " 21%|██        | 519/2500 [00:06<00:24, 80.58it/s]"
     ]
    },
    {
     "name": "stdout",
     "output_type": "stream",
     "text": [
      "69931032.0\n",
      "93585448.0\n",
      "67431056.0\n",
      "46015252.0\n",
      "99150424.0\n",
      "105103400.0\n",
      "75628048.0\n",
      "77351888.0\n",
      "49816352.0\n",
      "87119960.0\n",
      "87972592.0\n",
      "63284048.0\n",
      "55946608.0\n",
      "42027836.0\n",
      "75742688.0\n",
      "71706832.0\n",
      "75072984.0\n"
     ]
    },
    {
     "name": "stderr",
     "output_type": "stream",
     "text": [
      " 21%|██▏       | 537/2500 [00:06<00:24, 81.18it/s]"
     ]
    },
    {
     "name": "stdout",
     "output_type": "stream",
     "text": [
      "74249288.0\n",
      "51479956.0\n",
      "46821668.0\n",
      "55328088.0\n",
      "54379576.0\n",
      "51049776.0\n",
      "73676888.0\n",
      "80890576.0\n",
      "54893208.0\n",
      "32637438.0\n",
      "74905352.0\n",
      "64949328.0\n",
      "78789712.0\n",
      "68986408.0\n",
      "45747072.0\n",
      "69430912.0\n",
      "45499864.0\n"
     ]
    },
    {
     "name": "stderr",
     "output_type": "stream",
     "text": [
      " 22%|██▏       | 546/2500 [00:06<00:24, 81.18it/s]"
     ]
    },
    {
     "name": "stdout",
     "output_type": "stream",
     "text": [
      "64519928.0\n",
      "44968124.0\n",
      "77656368.0\n",
      "55675984.0\n",
      "60368408.0\n",
      "69521344.0\n",
      "84552032.0\n",
      "50847456.0\n",
      "103897872.0\n",
      "48598492.0\n",
      "64272348.0\n",
      "85090232.0\n",
      "46346272.0\n",
      "77879584.0\n",
      "94303264.0\n",
      "39262732.0\n",
      "59570844.0\n"
     ]
    },
    {
     "name": "stderr",
     "output_type": "stream",
     "text": [
      " 23%|██▎       | 564/2500 [00:07<00:23, 81.12it/s]"
     ]
    },
    {
     "name": "stdout",
     "output_type": "stream",
     "text": [
      "126525672.0\n",
      "67554216.0\n",
      "58392668.0\n",
      "53749496.0\n",
      "76222064.0\n",
      "94692496.0\n",
      "78991984.0\n",
      "46441600.0\n",
      "66182348.0\n",
      "69015920.0\n",
      "48133920.0\n",
      "72751112.0\n",
      "41662836.0\n",
      "71650664.0\n",
      "91339952.0\n",
      "52400128.0\n"
     ]
    },
    {
     "name": "stderr",
     "output_type": "stream",
     "text": [
      " 23%|██▎       | 582/2500 [00:07<00:24, 79.85it/s]"
     ]
    },
    {
     "name": "stdout",
     "output_type": "stream",
     "text": [
      "37005952.0\n",
      "93222080.0\n",
      "79840992.0\n",
      "69267840.0\n",
      "73086512.0\n",
      "61720016.0\n",
      "39548492.0\n",
      "71895952.0\n",
      "84197808.0\n",
      "71002376.0\n",
      "64538276.0\n",
      "52296968.0\n",
      "59175508.0\n",
      "85019840.0\n",
      "68100488.0\n",
      "69119184.0\n"
     ]
    },
    {
     "name": "stderr",
     "output_type": "stream",
     "text": [
      " 24%|██▍       | 600/2500 [00:07<00:23, 80.38it/s]"
     ]
    },
    {
     "name": "stdout",
     "output_type": "stream",
     "text": [
      "70621696.0\n",
      "55639560.0\n",
      "56983680.0\n",
      "73087920.0\n",
      "74995232.0\n",
      "149004208.0\n",
      "49521056.0\n",
      "49430480.0\n",
      "73871552.0\n",
      "82821712.0\n",
      "90980880.0\n",
      "64132360.0\n",
      "62311760.0\n",
      "74986128.0\n",
      "74360928.0\n",
      "127626424.0\n",
      "67972224.0\n"
     ]
    },
    {
     "name": "stderr",
     "output_type": "stream",
     "text": [
      " 25%|██▍       | 618/2500 [00:07<00:23, 80.74it/s]"
     ]
    },
    {
     "name": "stdout",
     "output_type": "stream",
     "text": [
      "62353656.0\n",
      "97143112.0\n",
      "95417112.0\n",
      "72128960.0\n",
      "59802852.0\n",
      "92184736.0\n",
      "84538416.0\n",
      "84512696.0\n",
      "92254056.0\n",
      "93317488.0\n",
      "66701808.0\n",
      "114435416.0\n",
      "71633976.0\n",
      "54590392.0\n",
      "79107008.0\n",
      "94776544.0\n",
      "75957328.0\n"
     ]
    },
    {
     "name": "stderr",
     "output_type": "stream",
     "text": [
      " 25%|██▌       | 636/2500 [00:07<00:22, 81.09it/s]"
     ]
    },
    {
     "name": "stdout",
     "output_type": "stream",
     "text": [
      "57498276.0\n",
      "88361600.0\n",
      "94982576.0\n",
      "120417200.0\n",
      "79255920.0\n",
      "60373936.0\n",
      "72975648.0\n",
      "98440576.0\n",
      "89233184.0\n",
      "50273920.0\n",
      "54061540.0\n",
      "75014544.0\n",
      "91036824.0\n",
      "123460136.0\n",
      "88377984.0\n",
      "89361568.0\n",
      "42351696.0\n"
     ]
    },
    {
     "name": "stderr",
     "output_type": "stream",
     "text": [
      " 26%|██▌       | 654/2500 [00:08<00:22, 81.29it/s]"
     ]
    },
    {
     "name": "stdout",
     "output_type": "stream",
     "text": [
      "60080172.0\n",
      "42557928.0\n",
      "62061204.0\n",
      "72615168.0\n",
      "60449048.0\n",
      "48280488.0\n",
      "80139696.0\n",
      "86739880.0\n",
      "79942648.0\n",
      "99993968.0\n",
      "91598936.0\n",
      "54037952.0\n",
      "94771560.0\n",
      "63133072.0\n",
      "59411604.0\n",
      "113665464.0\n",
      "85415408.0\n"
     ]
    },
    {
     "name": "stderr",
     "output_type": "stream",
     "text": [
      " 27%|██▋       | 663/2500 [00:08<00:22, 80.16it/s]"
     ]
    },
    {
     "name": "stdout",
     "output_type": "stream",
     "text": [
      "60138228.0\n",
      "85698720.0\n",
      "38261000.0\n",
      "42286128.0\n",
      "89062760.0\n",
      "50968772.0\n",
      "41261296.0\n",
      "68923136.0\n",
      "76975376.0\n",
      "69551680.0\n",
      "103670360.0\n",
      "98563808.0\n",
      "60498408.0\n",
      "79529632.0\n",
      "127030912.0\n",
      "79619520.0\n"
     ]
    },
    {
     "name": "stderr",
     "output_type": "stream",
     "text": [
      " 27%|██▋       | 681/2500 [00:08<00:22, 80.54it/s]"
     ]
    },
    {
     "name": "stdout",
     "output_type": "stream",
     "text": [
      "59629888.0\n",
      "102109392.0\n",
      "65167008.0\n",
      "76741712.0\n",
      "63256664.0\n",
      "52339952.0\n",
      "56244880.0\n",
      "66545376.0\n",
      "79882336.0\n",
      "77751464.0\n",
      "135616608.0\n",
      "63288888.0\n",
      "45951288.0\n",
      "106127432.0\n",
      "109034576.0\n",
      "57911232.0\n",
      "59286936.0\n"
     ]
    },
    {
     "name": "stderr",
     "output_type": "stream",
     "text": [
      " 28%|██▊       | 699/2500 [00:08<00:22, 80.71it/s]"
     ]
    },
    {
     "name": "stdout",
     "output_type": "stream",
     "text": [
      "76194272.0\n",
      "83740928.0\n",
      "55904784.0\n",
      "73758240.0\n",
      "81421264.0\n",
      "42788736.0\n",
      "99466600.0\n",
      "83300208.0\n",
      "45711064.0\n",
      "76104368.0\n",
      "36062688.0\n",
      "93120856.0\n",
      "84071728.0\n",
      "44886872.0\n",
      "76312448.0\n",
      "68929088.0\n",
      "62026972.0\n"
     ]
    },
    {
     "name": "stderr",
     "output_type": "stream",
     "text": [
      " 29%|██▊       | 717/2500 [00:08<00:21, 81.19it/s]"
     ]
    },
    {
     "name": "stdout",
     "output_type": "stream",
     "text": [
      "40293352.0\n",
      "95872656.0\n",
      "51256192.0\n",
      "71420816.0\n",
      "64034264.0\n",
      "73331744.0\n",
      "46603520.0\n",
      "63666796.0\n",
      "92417792.0\n",
      "90835920.0\n",
      "95490048.0\n",
      "63042492.0\n",
      "89500008.0\n",
      "51117504.0\n",
      "83773360.0\n",
      "70277168.0\n",
      "55338504.0\n"
     ]
    },
    {
     "name": "stderr",
     "output_type": "stream",
     "text": [
      " 29%|██▉       | 735/2500 [00:09<00:21, 80.97it/s]"
     ]
    },
    {
     "name": "stdout",
     "output_type": "stream",
     "text": [
      "124691168.0\n",
      "73815568.0\n",
      "64062088.0\n",
      "74303088.0\n",
      "43786088.0\n",
      "49485684.0\n",
      "45930796.0\n",
      "65869500.0\n",
      "51836080.0\n",
      "101541168.0\n",
      "54460712.0\n",
      "80813352.0\n",
      "70653712.0\n",
      "76139648.0\n",
      "57816440.0\n",
      "56343888.0\n",
      "61025892.0\n"
     ]
    },
    {
     "name": "stderr",
     "output_type": "stream",
     "text": [
      " 30%|███       | 753/2500 [00:09<00:21, 80.19it/s]"
     ]
    },
    {
     "name": "stdout",
     "output_type": "stream",
     "text": [
      "88741600.0\n",
      "78132912.0\n",
      "75528336.0\n",
      "101052592.0\n",
      "92742424.0\n",
      "60562280.0\n",
      "66688944.0\n",
      "68440184.0\n",
      "56190404.0\n",
      "92327624.0\n",
      "50747800.0\n",
      "79077576.0\n",
      "116567064.0\n",
      "72902456.0\n",
      "62566224.0\n",
      "67170840.0\n"
     ]
    },
    {
     "name": "stderr",
     "output_type": "stream",
     "text": [
      " 31%|███       | 770/2500 [00:09<00:21, 78.92it/s]"
     ]
    },
    {
     "name": "stdout",
     "output_type": "stream",
     "text": [
      "95136808.0\n",
      "77767616.0\n",
      "54126352.0\n",
      "88058160.0\n",
      "84821024.0\n",
      "56863580.0\n",
      "44445320.0\n",
      "70907392.0\n",
      "64162268.0\n",
      "59773944.0\n",
      "68127960.0\n",
      "62323140.0\n",
      "59923100.0\n",
      "38292620.0\n",
      "105466664.0\n",
      "43542128.0\n"
     ]
    },
    {
     "name": "stderr",
     "output_type": "stream",
     "text": [
      " 31%|███▏      | 786/2500 [00:09<00:21, 78.41it/s]"
     ]
    },
    {
     "name": "stdout",
     "output_type": "stream",
     "text": [
      "55642496.0\n",
      "34271464.0\n",
      "81767968.0\n",
      "53984592.0\n",
      "61404672.0\n",
      "68845376.0\n",
      "91792304.0\n",
      "67561680.0\n",
      "31373062.0\n",
      "110471616.0\n",
      "60750872.0\n",
      "50047424.0\n",
      "118397120.0\n",
      "97876976.0\n",
      "72307520.0\n",
      "38025000.0\n"
     ]
    },
    {
     "name": "stderr",
     "output_type": "stream",
     "text": [
      " 32%|███▏      | 802/2500 [00:09<00:21, 78.25it/s]"
     ]
    },
    {
     "name": "stdout",
     "output_type": "stream",
     "text": [
      "133102704.0\n",
      "120163096.0\n",
      "74311240.0\n",
      "64519592.0\n",
      "102088592.0\n",
      "155904960.0\n",
      "126432544.0\n",
      "80966608.0\n",
      "109979392.0\n",
      "166089312.0\n",
      "89050720.0\n",
      "36206536.0\n",
      "121702384.0\n",
      "172370544.0\n",
      "90449040.0\n",
      "51858472.0\n"
     ]
    },
    {
     "name": "stderr",
     "output_type": "stream",
     "text": [
      " 32%|███▏      | 811/2500 [00:10<00:21, 79.15it/s]"
     ]
    },
    {
     "name": "stdout",
     "output_type": "stream",
     "text": [
      "149248960.0\n",
      "91629632.0\n",
      "81446440.0\n",
      "66597956.0\n",
      "77021520.0\n",
      "100592368.0\n",
      "137978912.0\n",
      "93074720.0\n",
      "22489984.0\n",
      "144847200.0\n",
      "129484216.0\n",
      "118937520.0\n",
      "77635416.0\n",
      "63404720.0\n",
      "107654448.0\n",
      "56871816.0\n",
      "89146096.0\n"
     ]
    },
    {
     "name": "stderr",
     "output_type": "stream",
     "text": [
      " 33%|███▎      | 829/2500 [00:10<00:20, 80.23it/s]"
     ]
    },
    {
     "name": "stdout",
     "output_type": "stream",
     "text": [
      "62796896.0\n",
      "60380352.0\n",
      "63407800.0\n",
      "66909072.0\n",
      "46263640.0\n",
      "61974064.0\n",
      "51874568.0\n",
      "42845888.0\n",
      "64370984.0\n",
      "91559240.0\n",
      "43597936.0\n",
      "59425760.0\n",
      "81521904.0\n",
      "46549588.0\n",
      "44390912.0\n",
      "79184864.0\n",
      "63476728.0\n"
     ]
    },
    {
     "name": "stderr",
     "output_type": "stream",
     "text": [
      " 34%|███▍      | 847/2500 [00:10<00:20, 80.89it/s]"
     ]
    },
    {
     "name": "stdout",
     "output_type": "stream",
     "text": [
      "109512928.0\n",
      "122441000.0\n",
      "106467696.0\n",
      "79011008.0\n",
      "91795800.0\n",
      "54271864.0\n",
      "78417528.0\n",
      "46387456.0\n",
      "66256708.0\n",
      "58752564.0\n",
      "72369168.0\n",
      "72919056.0\n",
      "99921472.0\n",
      "76640896.0\n",
      "64666360.0\n",
      "83475984.0\n",
      "77097808.0\n"
     ]
    },
    {
     "name": "stderr",
     "output_type": "stream",
     "text": [
      " 35%|███▍      | 865/2500 [00:10<00:20, 80.97it/s]"
     ]
    },
    {
     "name": "stdout",
     "output_type": "stream",
     "text": [
      "74889064.0\n",
      "67639056.0\n",
      "39590768.0\n",
      "61818616.0\n",
      "117096192.0\n",
      "56128936.0\n",
      "147392384.0\n",
      "62232672.0\n",
      "74215824.0\n",
      "68083904.0\n",
      "79866304.0\n",
      "75681824.0\n",
      "55683012.0\n",
      "73676272.0\n",
      "86415200.0\n",
      "50751868.0\n",
      "77430704.0\n"
     ]
    },
    {
     "name": "stderr",
     "output_type": "stream",
     "text": [
      " 35%|███▌      | 883/2500 [00:10<00:19, 80.94it/s]"
     ]
    },
    {
     "name": "stdout",
     "output_type": "stream",
     "text": [
      "56868496.0\n",
      "93719296.0\n",
      "50337236.0\n",
      "76877336.0\n",
      "59902664.0\n",
      "77865040.0\n",
      "76392672.0\n",
      "82899488.0\n",
      "59543828.0\n",
      "65538056.0\n",
      "67681512.0\n",
      "57640192.0\n",
      "62197104.0\n",
      "76878488.0\n",
      "37765660.0\n",
      "57446472.0\n",
      "51101620.0\n"
     ]
    },
    {
     "name": "stderr",
     "output_type": "stream",
     "text": [
      " 36%|███▌      | 901/2500 [00:11<00:19, 81.39it/s]"
     ]
    },
    {
     "name": "stdout",
     "output_type": "stream",
     "text": [
      "85733368.0\n",
      "66669912.0\n",
      "41149596.0\n",
      "63497960.0\n",
      "55739760.0\n",
      "49865484.0\n",
      "70870752.0\n",
      "55215856.0\n",
      "61628952.0\n",
      "69467280.0\n",
      "46146104.0\n",
      "97146688.0\n",
      "49647912.0\n",
      "76039232.0\n",
      "69039000.0\n",
      "93080064.0\n",
      "75368640.0\n"
     ]
    },
    {
     "name": "stderr",
     "output_type": "stream",
     "text": [
      " 37%|███▋      | 919/2500 [00:11<00:19, 81.42it/s]"
     ]
    },
    {
     "name": "stdout",
     "output_type": "stream",
     "text": [
      "99122624.0\n",
      "84307920.0\n",
      "83823536.0\n",
      "76688320.0\n",
      "41316852.0\n",
      "118050752.0\n",
      "77688344.0\n",
      "58627704.0\n",
      "77870592.0\n",
      "67343328.0\n",
      "60068304.0\n",
      "53041776.0\n",
      "82634432.0\n",
      "64571992.0\n",
      "44632696.0\n",
      "44997096.0\n",
      "110134816.0\n"
     ]
    },
    {
     "name": "stderr",
     "output_type": "stream",
     "text": [
      " 37%|███▋      | 937/2500 [00:11<00:19, 81.74it/s]"
     ]
    },
    {
     "name": "stdout",
     "output_type": "stream",
     "text": [
      "126990688.0\n",
      "64750424.0\n",
      "88460480.0\n",
      "84893504.0\n",
      "86219712.0\n",
      "55134000.0\n",
      "90673232.0\n",
      "113874968.0\n",
      "60751820.0\n",
      "94923120.0\n",
      "69216112.0\n",
      "79942416.0\n",
      "81279288.0\n",
      "61746680.0\n",
      "45253228.0\n",
      "72905488.0\n",
      "88803808.0\n"
     ]
    },
    {
     "name": "stderr",
     "output_type": "stream",
     "text": [
      " 38%|███▊      | 955/2500 [00:11<00:18, 81.59it/s]"
     ]
    },
    {
     "name": "stdout",
     "output_type": "stream",
     "text": [
      "88999088.0\n",
      "63841704.0\n",
      "98733696.0\n",
      "101498976.0\n",
      "62977616.0\n",
      "89035856.0\n",
      "69219680.0\n",
      "58046112.0\n",
      "124872176.0\n",
      "70301072.0\n",
      "59511440.0\n",
      "72738128.0\n",
      "99099584.0\n",
      "63059696.0\n",
      "84264672.0\n",
      "84694304.0\n",
      "60415292.0\n"
     ]
    },
    {
     "name": "stderr",
     "output_type": "stream",
     "text": [
      " 39%|███▊      | 964/2500 [00:11<00:18, 81.52it/s]"
     ]
    },
    {
     "name": "stdout",
     "output_type": "stream",
     "text": [
      "61288080.0\n",
      "81508208.0\n",
      "49299532.0\n",
      "64909280.0\n",
      "57570148.0\n",
      "88489936.0\n",
      "67180320.0\n",
      "90525184.0\n",
      "63828288.0\n",
      "66710952.0\n",
      "90392064.0\n",
      "63406004.0\n",
      "82263360.0\n",
      "84979864.0\n",
      "143236256.0\n",
      "77874440.0\n",
      "61460656.0\n"
     ]
    },
    {
     "name": "stderr",
     "output_type": "stream",
     "text": [
      " 39%|███▉      | 982/2500 [00:12<00:18, 81.04it/s]"
     ]
    },
    {
     "name": "stdout",
     "output_type": "stream",
     "text": [
      "66414208.0\n",
      "83640608.0\n",
      "101224928.0\n",
      "56413124.0\n",
      "71886416.0\n",
      "74750624.0\n",
      "130822176.0\n",
      "74728312.0\n",
      "67404864.0\n",
      "59754160.0\n",
      "76004192.0\n",
      "70925552.0\n",
      "55184796.0\n",
      "52680120.0\n",
      "53551448.0\n",
      "58593360.0\n",
      "46895728.0\n"
     ]
    },
    {
     "name": "stderr",
     "output_type": "stream",
     "text": [
      " 40%|████      | 1000/2500 [00:12<00:18, 81.01it/s]"
     ]
    },
    {
     "name": "stdout",
     "output_type": "stream",
     "text": [
      "70963200.0\n",
      "73628336.0\n",
      "59683304.0\n",
      "45897988.0\n",
      "90294784.0\n",
      "71753072.0\n",
      "74332608.0\n",
      "69942928.0\n",
      "42146592.0\n",
      "115259624.0\n",
      "73577024.0\n",
      "94255536.0\n",
      "30152932.0\n",
      "69355280.0\n",
      "52042992.0\n",
      "68099832.0\n",
      "84347008.0\n"
     ]
    },
    {
     "name": "stderr",
     "output_type": "stream",
     "text": [
      " 41%|████      | 1018/2500 [00:12<00:18, 80.64it/s]"
     ]
    },
    {
     "name": "stdout",
     "output_type": "stream",
     "text": [
      "73289472.0\n",
      "65102168.0\n",
      "76604192.0\n",
      "51890592.0\n",
      "62507048.0\n",
      "73776288.0\n",
      "98031808.0\n",
      "56461548.0\n",
      "79781760.0\n",
      "72989832.0\n",
      "39268752.0\n",
      "59153304.0\n",
      "53907488.0\n",
      "59071812.0\n",
      "57217792.0\n",
      "49006456.0\n",
      "64941464.0\n"
     ]
    },
    {
     "name": "stderr",
     "output_type": "stream",
     "text": [
      " 41%|████▏     | 1036/2500 [00:12<00:18, 79.83it/s]"
     ]
    },
    {
     "name": "stdout",
     "output_type": "stream",
     "text": [
      "76617808.0\n",
      "44996464.0\n",
      "42167512.0\n",
      "62564244.0\n",
      "90356480.0\n",
      "69579344.0\n",
      "60141804.0\n",
      "79604384.0\n",
      "51393376.0\n",
      "55552188.0\n",
      "65454056.0\n",
      "79929488.0\n",
      "85556072.0\n",
      "62192296.0\n",
      "75887520.0\n",
      "58801912.0\n"
     ]
    },
    {
     "name": "stderr",
     "output_type": "stream",
     "text": [
      " 42%|████▏     | 1052/2500 [00:13<00:18, 79.14it/s]"
     ]
    },
    {
     "name": "stdout",
     "output_type": "stream",
     "text": [
      "81509344.0\n",
      "61870688.0\n",
      "57395240.0\n",
      "100241328.0\n",
      "87077696.0\n",
      "56920012.0\n",
      "72685944.0\n",
      "73000848.0\n",
      "88026152.0\n",
      "40048400.0\n",
      "68867024.0\n",
      "58093536.0\n",
      "51836500.0\n",
      "102704848.0\n",
      "62089360.0\n",
      "67406304.0\n"
     ]
    },
    {
     "name": "stderr",
     "output_type": "stream",
     "text": [
      " 43%|████▎     | 1068/2500 [00:13<00:18, 78.83it/s]"
     ]
    },
    {
     "name": "stdout",
     "output_type": "stream",
     "text": [
      "56127384.0\n",
      "121983808.0\n",
      "96719360.0\n",
      "55316544.0\n",
      "63085696.0\n",
      "96606848.0\n",
      "77201376.0\n",
      "64388176.0\n",
      "81407392.0\n",
      "73092112.0\n",
      "59075736.0\n",
      "78509224.0\n",
      "51901888.0\n",
      "81459216.0\n",
      "50331576.0\n",
      "98238888.0\n"
     ]
    },
    {
     "name": "stderr",
     "output_type": "stream",
     "text": [
      " 43%|████▎     | 1085/2500 [00:13<00:17, 79.40it/s]"
     ]
    },
    {
     "name": "stdout",
     "output_type": "stream",
     "text": [
      "86740864.0\n",
      "58240436.0\n",
      "59165296.0\n",
      "67027716.0\n",
      "62116712.0\n",
      "116547344.0\n",
      "46188904.0\n",
      "41203020.0\n",
      "64935328.0\n",
      "74977736.0\n",
      "78502848.0\n",
      "50674220.0\n",
      "56014712.0\n",
      "113925952.0\n",
      "68103936.0\n",
      "79431088.0\n",
      "61884824.0\n"
     ]
    },
    {
     "name": "stderr",
     "output_type": "stream",
     "text": [
      " 44%|████▍     | 1103/2500 [00:13<00:17, 80.33it/s]"
     ]
    },
    {
     "name": "stdout",
     "output_type": "stream",
     "text": [
      "111132560.0\n",
      "74847016.0\n",
      "59793536.0\n",
      "67304832.0\n",
      "102373096.0\n",
      "68083872.0\n",
      "113295696.0\n",
      "69896216.0\n",
      "85623744.0\n",
      "78217152.0\n",
      "71850568.0\n",
      "40676480.0\n",
      "67376320.0\n",
      "31635832.0\n",
      "57328620.0\n",
      "58011912.0\n",
      "92526816.0\n"
     ]
    },
    {
     "name": "stderr",
     "output_type": "stream",
     "text": [
      " 45%|████▍     | 1121/2500 [00:13<00:17, 80.73it/s]"
     ]
    },
    {
     "name": "stdout",
     "output_type": "stream",
     "text": [
      "79976328.0\n",
      "66820184.0\n",
      "54875176.0\n",
      "82339376.0\n",
      "68308056.0\n",
      "80770192.0\n",
      "38921320.0\n",
      "85012384.0\n",
      "66727448.0\n",
      "102104096.0\n",
      "46729748.0\n",
      "71420400.0\n",
      "57928496.0\n",
      "80631984.0\n",
      "94537488.0\n",
      "82951080.0\n",
      "86488088.0\n"
     ]
    },
    {
     "name": "stderr",
     "output_type": "stream",
     "text": [
      " 46%|████▌     | 1139/2500 [00:14<00:16, 81.17it/s]"
     ]
    },
    {
     "name": "stdout",
     "output_type": "stream",
     "text": [
      "63629752.0\n",
      "61076936.0\n",
      "86104384.0\n",
      "97973824.0\n",
      "74937264.0\n",
      "41475432.0\n",
      "93104240.0\n",
      "50351448.0\n",
      "99832112.0\n",
      "41809836.0\n",
      "76962408.0\n",
      "50768040.0\n",
      "68260688.0\n",
      "97356968.0\n",
      "86223360.0\n",
      "61643740.0\n",
      "87079696.0\n"
     ]
    },
    {
     "name": "stderr",
     "output_type": "stream",
     "text": [
      " 46%|████▌     | 1148/2500 [00:14<00:16, 81.19it/s]"
     ]
    },
    {
     "name": "stdout",
     "output_type": "stream",
     "text": [
      "72841136.0\n",
      "115804528.0\n",
      "41717424.0\n",
      "63699536.0\n",
      "65271460.0\n",
      "69884736.0\n",
      "88496032.0\n",
      "47908804.0\n",
      "88465536.0\n",
      "70847664.0\n",
      "38079400.0\n",
      "54957680.0\n",
      "63014304.0\n",
      "80452616.0\n",
      "54867720.0\n",
      "43926008.0\n",
      "46150688.0\n"
     ]
    },
    {
     "name": "stderr",
     "output_type": "stream",
     "text": [
      " 47%|████▋     | 1166/2500 [00:14<00:16, 81.01it/s]"
     ]
    },
    {
     "name": "stdout",
     "output_type": "stream",
     "text": [
      "90568896.0\n",
      "50074744.0\n",
      "44815408.0\n",
      "54931352.0\n",
      "78774680.0\n",
      "41411704.0\n",
      "65084780.0\n",
      "63034192.0\n",
      "71275096.0\n",
      "59505616.0\n",
      "73410664.0\n",
      "105171056.0\n",
      "86411392.0\n",
      "98947776.0\n",
      "61420204.0\n",
      "47513420.0\n",
      "85415632.0\n"
     ]
    },
    {
     "name": "stderr",
     "output_type": "stream",
     "text": [
      " 47%|████▋     | 1184/2500 [00:14<00:16, 81.08it/s]"
     ]
    },
    {
     "name": "stdout",
     "output_type": "stream",
     "text": [
      "73653432.0\n",
      "54272408.0\n",
      "52161960.0\n",
      "97119928.0\n",
      "94142640.0\n",
      "62676200.0\n",
      "114573656.0\n",
      "86991496.0\n",
      "59617076.0\n",
      "74862896.0\n",
      "56707508.0\n",
      "55002532.0\n",
      "64620844.0\n",
      "64179628.0\n",
      "58070300.0\n",
      "55104004.0\n",
      "64231776.0\n"
     ]
    },
    {
     "name": "stderr",
     "output_type": "stream",
     "text": [
      " 48%|████▊     | 1202/2500 [00:14<00:15, 81.25it/s]"
     ]
    },
    {
     "name": "stdout",
     "output_type": "stream",
     "text": [
      "76794680.0\n",
      "80367856.0\n",
      "56464992.0\n",
      "59615456.0\n",
      "112306792.0\n",
      "75150640.0\n",
      "67331248.0\n",
      "65474128.0\n",
      "79053744.0\n",
      "85850792.0\n",
      "50749424.0\n",
      "53313768.0\n",
      "69771008.0\n",
      "76417544.0\n",
      "79770072.0\n",
      "40929280.0\n",
      "81146192.0\n"
     ]
    },
    {
     "name": "stderr",
     "output_type": "stream",
     "text": [
      " 49%|████▉     | 1220/2500 [00:15<00:15, 81.05it/s]"
     ]
    },
    {
     "name": "stdout",
     "output_type": "stream",
     "text": [
      "96950800.0\n",
      "44619776.0\n",
      "50323344.0\n",
      "75491656.0\n",
      "90227888.0\n",
      "78525264.0\n",
      "59270048.0\n",
      "68069456.0\n",
      "97663248.0\n",
      "76909024.0\n",
      "52964040.0\n",
      "61506316.0\n",
      "69537944.0\n",
      "69787536.0\n",
      "53977460.0\n",
      "68434192.0\n",
      "77269328.0\n"
     ]
    },
    {
     "name": "stderr",
     "output_type": "stream",
     "text": [
      " 50%|████▉     | 1238/2500 [00:15<00:15, 80.42it/s]"
     ]
    },
    {
     "name": "stdout",
     "output_type": "stream",
     "text": [
      "44419948.0\n",
      "48326288.0\n",
      "67996176.0\n",
      "62871184.0\n",
      "86328408.0\n",
      "92548528.0\n",
      "50304600.0\n",
      "108431360.0\n",
      "77817456.0\n",
      "55066316.0\n",
      "44957136.0\n",
      "50826904.0\n",
      "80612080.0\n",
      "77145056.0\n",
      "96952064.0\n",
      "67006440.0\n"
     ]
    },
    {
     "name": "stderr",
     "output_type": "stream",
     "text": [
      " 50%|█████     | 1255/2500 [00:15<00:15, 79.47it/s]"
     ]
    },
    {
     "name": "stdout",
     "output_type": "stream",
     "text": [
      "39086792.0\n",
      "79792232.0\n",
      "83685976.0\n",
      "73409624.0\n",
      "79528448.0\n",
      "75002496.0\n",
      "79999808.0\n",
      "71036512.0\n",
      "84252288.0\n",
      "82188080.0\n",
      "62997904.0\n",
      "71790240.0\n",
      "68591520.0\n",
      "78094336.0\n",
      "105162496.0\n",
      "46320704.0\n"
     ]
    },
    {
     "name": "stderr",
     "output_type": "stream",
     "text": [
      " 51%|█████     | 1272/2500 [00:15<00:15, 79.62it/s]"
     ]
    },
    {
     "name": "stdout",
     "output_type": "stream",
     "text": [
      "44320492.0\n",
      "52591832.0\n",
      "79842104.0\n",
      "111773056.0\n",
      "60453264.0\n",
      "72394384.0\n",
      "65116776.0\n",
      "63871628.0\n",
      "72576048.0\n",
      "77344896.0\n",
      "34778248.0\n",
      "94408616.0\n",
      "55443644.0\n",
      "72299584.0\n",
      "86678376.0\n",
      "40834456.0\n",
      "67429360.0\n"
     ]
    },
    {
     "name": "stderr",
     "output_type": "stream",
     "text": [
      " 52%|█████▏    | 1290/2500 [00:16<00:15, 80.37it/s]"
     ]
    },
    {
     "name": "stdout",
     "output_type": "stream",
     "text": [
      "121893856.0\n",
      "56395624.0\n",
      "47082408.0\n",
      "81870208.0\n",
      "73576960.0\n",
      "87662776.0\n",
      "65227288.0\n",
      "70296312.0\n",
      "49286056.0\n",
      "84346464.0\n",
      "72074496.0\n",
      "70264864.0\n",
      "50407136.0\n",
      "70337552.0\n",
      "83884208.0\n",
      "48618784.0\n",
      "45873620.0\n"
     ]
    },
    {
     "name": "stderr",
     "output_type": "stream",
     "text": [
      " 52%|█████▏    | 1299/2500 [00:16<00:14, 80.60it/s]"
     ]
    },
    {
     "name": "stdout",
     "output_type": "stream",
     "text": [
      "32633310.0\n",
      "83001736.0\n",
      "111483056.0\n",
      "41062888.0\n",
      "40592616.0\n",
      "80063152.0\n",
      "89771584.0\n",
      "102777200.0\n",
      "67622464.0\n",
      "74043072.0\n",
      "68378592.0\n",
      "78807776.0\n",
      "83383200.0\n",
      "74588928.0\n",
      "57240324.0\n",
      "71251496.0\n",
      "60896716.0\n"
     ]
    },
    {
     "name": "stderr",
     "output_type": "stream",
     "text": [
      " 53%|█████▎    | 1317/2500 [00:16<00:14, 80.78it/s]"
     ]
    },
    {
     "name": "stdout",
     "output_type": "stream",
     "text": [
      "84819144.0\n",
      "56302028.0\n",
      "73517056.0\n",
      "61198048.0\n",
      "53414488.0\n",
      "84140976.0\n",
      "82952624.0\n",
      "47513172.0\n",
      "61513960.0\n",
      "49091568.0\n",
      "109071112.0\n",
      "36026184.0\n",
      "67145720.0\n",
      "81636632.0\n",
      "82867808.0\n",
      "80094520.0\n",
      "84526920.0\n"
     ]
    },
    {
     "name": "stderr",
     "output_type": "stream",
     "text": [
      " 53%|█████▎    | 1335/2500 [00:16<00:14, 81.06it/s]"
     ]
    },
    {
     "name": "stdout",
     "output_type": "stream",
     "text": [
      "97663328.0\n",
      "77730240.0\n",
      "60158360.0\n",
      "63921084.0\n",
      "74884776.0\n",
      "37128744.0\n",
      "90013760.0\n",
      "79159888.0\n",
      "51723904.0\n",
      "48507876.0\n",
      "62759084.0\n",
      "43527304.0\n",
      "54055436.0\n",
      "69909216.0\n",
      "65937528.0\n",
      "63014788.0\n",
      "45278668.0\n"
     ]
    },
    {
     "name": "stderr",
     "output_type": "stream",
     "text": [
      " 54%|█████▍    | 1353/2500 [00:16<00:14, 81.01it/s]"
     ]
    },
    {
     "name": "stdout",
     "output_type": "stream",
     "text": [
      "80723576.0\n",
      "57241940.0\n",
      "54146312.0\n",
      "96456400.0\n",
      "98798128.0\n",
      "68874376.0\n",
      "96540832.0\n",
      "61473032.0\n",
      "79548360.0\n",
      "52127328.0\n",
      "114073920.0\n",
      "67320096.0\n",
      "66621104.0\n",
      "66966644.0\n",
      "75970448.0\n",
      "95376312.0\n",
      "88184576.0\n"
     ]
    },
    {
     "name": "stderr",
     "output_type": "stream",
     "text": [
      " 55%|█████▍    | 1371/2500 [00:17<00:14, 79.87it/s]"
     ]
    },
    {
     "name": "stdout",
     "output_type": "stream",
     "text": [
      "66631628.0\n",
      "100591136.0\n",
      "48628384.0\n",
      "80369312.0\n",
      "64693920.0\n",
      "64558480.0\n",
      "56353320.0\n",
      "63192568.0\n",
      "92441352.0\n",
      "85443376.0\n",
      "53803372.0\n",
      "62999960.0\n",
      "99192560.0\n",
      "57812720.0\n",
      "51565040.0\n",
      "75351992.0\n"
     ]
    },
    {
     "name": "stderr",
     "output_type": "stream",
     "text": [
      " 56%|█████▌    | 1388/2500 [00:17<00:13, 80.05it/s]"
     ]
    },
    {
     "name": "stdout",
     "output_type": "stream",
     "text": [
      "59854172.0\n",
      "68845872.0\n",
      "64656440.0\n",
      "73581816.0\n",
      "75414656.0\n",
      "71270088.0\n",
      "63207128.0\n",
      "101333144.0\n",
      "78121824.0\n",
      "102020928.0\n",
      "60440936.0\n",
      "53544372.0\n",
      "63806076.0\n",
      "67295376.0\n",
      "63815852.0\n",
      "65580492.0\n",
      "60226056.0\n"
     ]
    },
    {
     "name": "stderr",
     "output_type": "stream",
     "text": [
      " 56%|█████▌    | 1406/2500 [00:17<00:13, 80.61it/s]"
     ]
    },
    {
     "name": "stdout",
     "output_type": "stream",
     "text": [
      "31172808.0\n",
      "73109392.0\n",
      "66480584.0\n",
      "82050608.0\n",
      "68933784.0\n",
      "61823184.0\n",
      "63929508.0\n",
      "104698832.0\n",
      "101319792.0\n",
      "75287152.0\n",
      "96207336.0\n",
      "48260096.0\n",
      "81685584.0\n",
      "77097984.0\n",
      "56788592.0\n",
      "98139504.0\n",
      "38016712.0\n"
     ]
    },
    {
     "name": "stderr",
     "output_type": "stream",
     "text": [
      " 57%|█████▋    | 1424/2500 [00:17<00:13, 80.02it/s]"
     ]
    },
    {
     "name": "stdout",
     "output_type": "stream",
     "text": [
      "89900192.0\n",
      "102103776.0\n",
      "74541392.0\n",
      "68441136.0\n",
      "68946144.0\n",
      "82293512.0\n",
      "66005724.0\n",
      "58073916.0\n",
      "130118256.0\n",
      "96349912.0\n",
      "68365024.0\n",
      "57343100.0\n",
      "67757456.0\n",
      "90108592.0\n",
      "60854756.0\n",
      "76392168.0\n"
     ]
    },
    {
     "name": "stderr",
     "output_type": "stream",
     "text": [
      " 57%|█████▋    | 1433/2500 [00:17<00:13, 80.10it/s]"
     ]
    },
    {
     "name": "stdout",
     "output_type": "stream",
     "text": [
      "75357408.0\n",
      "35687912.0\n",
      "87995624.0\n",
      "98205888.0\n",
      "76649584.0\n",
      "73975696.0\n",
      "75501704.0\n",
      "85307152.0\n",
      "67562528.0\n",
      "82709968.0\n",
      "127680728.0\n",
      "72988272.0\n",
      "69382624.0\n",
      "76884552.0\n",
      "52950428.0\n",
      "69487072.0\n",
      "52253492.0\n"
     ]
    },
    {
     "name": "stderr",
     "output_type": "stream",
     "text": [
      " 58%|█████▊    | 1451/2500 [00:18<00:13, 79.93it/s]"
     ]
    },
    {
     "name": "stdout",
     "output_type": "stream",
     "text": [
      "74336416.0\n",
      "107657328.0\n",
      "65920200.0\n",
      "68186888.0\n",
      "103004464.0\n",
      "85882704.0\n",
      "56432520.0\n",
      "59904100.0\n",
      "64925896.0\n",
      "63764452.0\n",
      "69600864.0\n",
      "76794224.0\n",
      "107614568.0\n",
      "61213100.0\n",
      "54938304.0\n",
      "77536784.0\n",
      "63800952.0\n"
     ]
    },
    {
     "name": "stderr",
     "output_type": "stream",
     "text": [
      " 59%|█████▊    | 1468/2500 [00:18<00:12, 80.04it/s]"
     ]
    },
    {
     "name": "stdout",
     "output_type": "stream",
     "text": [
      "55736188.0\n",
      "53957120.0\n",
      "52898204.0\n",
      "72923544.0\n",
      "60141856.0\n",
      "95999016.0\n",
      "50120264.0\n",
      "85484096.0\n",
      "64527096.0\n",
      "47756272.0\n",
      "74361376.0\n",
      "56066800.0\n",
      "51302564.0\n",
      "83080400.0\n",
      "85695976.0\n",
      "62592760.0\n",
      "44821904.0\n"
     ]
    },
    {
     "name": "stderr",
     "output_type": "stream",
     "text": [
      " 59%|█████▉    | 1486/2500 [00:18<00:12, 80.27it/s]"
     ]
    },
    {
     "name": "stdout",
     "output_type": "stream",
     "text": [
      "72060304.0\n",
      "99023872.0\n",
      "89763904.0\n",
      "80284736.0\n",
      "61741040.0\n",
      "74532648.0\n",
      "62898488.0\n",
      "65499716.0\n",
      "100939616.0\n",
      "69873688.0\n",
      "105902896.0\n",
      "73595296.0\n",
      "71633800.0\n",
      "111207040.0\n",
      "107171752.0\n",
      "50704352.0\n",
      "67827264.0\n"
     ]
    },
    {
     "name": "stderr",
     "output_type": "stream",
     "text": [
      " 60%|██████    | 1504/2500 [00:18<00:12, 80.58it/s]"
     ]
    },
    {
     "name": "stdout",
     "output_type": "stream",
     "text": [
      "50196004.0\n",
      "109348704.0\n",
      "88091400.0\n",
      "70343456.0\n",
      "52671628.0\n",
      "61171364.0\n",
      "80403592.0\n",
      "75482440.0\n",
      "56895408.0\n",
      "81700992.0\n",
      "62712428.0\n",
      "73663648.0\n",
      "88908152.0\n",
      "66501800.0\n",
      "137065664.0\n",
      "51397264.0\n",
      "54537488.0\n"
     ]
    },
    {
     "name": "stderr",
     "output_type": "stream",
     "text": [
      " 61%|██████    | 1522/2500 [00:18<00:12, 80.55it/s]"
     ]
    },
    {
     "name": "stdout",
     "output_type": "stream",
     "text": [
      "60334496.0\n",
      "86251312.0\n",
      "116660288.0\n",
      "62378124.0\n",
      "40085768.0\n",
      "107256144.0\n",
      "84351304.0\n",
      "111049824.0\n",
      "62484732.0\n",
      "101002128.0\n",
      "148279264.0\n",
      "99887936.0\n",
      "82071192.0\n",
      "83315136.0\n",
      "112379032.0\n",
      "76739792.0\n",
      "72786480.0\n"
     ]
    },
    {
     "name": "stderr",
     "output_type": "stream",
     "text": [
      " 62%|██████▏   | 1540/2500 [00:19<00:11, 80.78it/s]"
     ]
    },
    {
     "name": "stdout",
     "output_type": "stream",
     "text": [
      "53668408.0\n",
      "46030300.0\n",
      "63788456.0\n",
      "124428200.0\n",
      "117604176.0\n",
      "48239372.0\n",
      "89147968.0\n",
      "114308304.0\n",
      "72452864.0\n",
      "75992288.0\n",
      "107226576.0\n",
      "81294272.0\n",
      "87509216.0\n",
      "55294196.0\n",
      "103236408.0\n",
      "107860992.0\n",
      "102843232.0\n"
     ]
    },
    {
     "name": "stderr",
     "output_type": "stream",
     "text": [
      " 62%|██████▏   | 1558/2500 [00:19<00:11, 81.24it/s]"
     ]
    },
    {
     "name": "stdout",
     "output_type": "stream",
     "text": [
      "67995480.0\n",
      "67008600.0\n",
      "117620952.0\n",
      "97740920.0\n",
      "62553160.0\n",
      "73092080.0\n",
      "117833912.0\n",
      "57313152.0\n",
      "44825352.0\n",
      "56967064.0\n",
      "109156808.0\n",
      "88286552.0\n",
      "111035920.0\n",
      "64716712.0\n",
      "85853480.0\n",
      "65972112.0\n",
      "93321792.0\n"
     ]
    },
    {
     "name": "stderr",
     "output_type": "stream",
     "text": [
      " 63%|██████▎   | 1576/2500 [00:19<00:11, 80.66it/s]"
     ]
    },
    {
     "name": "stdout",
     "output_type": "stream",
     "text": [
      "68576336.0\n",
      "67355536.0\n",
      "94808880.0\n",
      "56154856.0\n",
      "52721088.0\n",
      "88622624.0\n",
      "65391800.0\n",
      "53921896.0\n",
      "56953580.0\n",
      "80261160.0\n",
      "62662576.0\n",
      "69035480.0\n",
      "81030832.0\n",
      "111509856.0\n",
      "61157240.0\n",
      "48589880.0\n",
      "57288696.0\n"
     ]
    },
    {
     "name": "stderr",
     "output_type": "stream",
     "text": [
      " 64%|██████▍   | 1594/2500 [00:19<00:11, 80.30it/s]"
     ]
    },
    {
     "name": "stdout",
     "output_type": "stream",
     "text": [
      "79525720.0\n",
      "61126584.0\n",
      "63427848.0\n",
      "64773820.0\n",
      "94255776.0\n",
      "75636640.0\n",
      "46337036.0\n",
      "58729216.0\n",
      "108397792.0\n",
      "71977352.0\n",
      "54356584.0\n",
      "79677296.0\n",
      "82110704.0\n",
      "62544496.0\n",
      "59741208.0\n",
      "99725608.0\n",
      "96390704.0\n"
     ]
    },
    {
     "name": "stderr",
     "output_type": "stream",
     "text": [
      " 64%|██████▍   | 1603/2500 [00:19<00:11, 80.45it/s]"
     ]
    },
    {
     "name": "stdout",
     "output_type": "stream",
     "text": [
      "88259232.0\n",
      "92030496.0\n",
      "90317616.0\n",
      "60902872.0\n",
      "54477472.0\n",
      "58020068.0\n",
      "44973616.0\n",
      "92566080.0\n",
      "78784688.0\n",
      "37727672.0\n",
      "86756400.0\n",
      "59145840.0\n",
      "91603696.0\n",
      "56052248.0\n",
      "80984144.0\n",
      "45402552.0\n",
      "74963944.0\n"
     ]
    },
    {
     "name": "stderr",
     "output_type": "stream",
     "text": [
      " 65%|██████▍   | 1621/2500 [00:20<00:10, 81.21it/s]"
     ]
    },
    {
     "name": "stdout",
     "output_type": "stream",
     "text": [
      "77720208.0\n",
      "60952860.0\n",
      "50566372.0\n",
      "58028680.0\n",
      "70371880.0\n",
      "42761000.0\n",
      "64037036.0\n",
      "63043520.0\n",
      "44696048.0\n",
      "96173376.0\n",
      "55749824.0\n",
      "58982428.0\n",
      "97014336.0\n",
      "57992652.0\n",
      "81898704.0\n",
      "79753976.0\n",
      "82405544.0\n"
     ]
    },
    {
     "name": "stderr",
     "output_type": "stream",
     "text": [
      " 66%|██████▌   | 1639/2500 [00:20<00:10, 81.40it/s]"
     ]
    },
    {
     "name": "stdout",
     "output_type": "stream",
     "text": [
      "81436664.0\n",
      "47091688.0\n",
      "62289552.0\n",
      "101170800.0\n",
      "38824184.0\n",
      "79269664.0\n",
      "80569392.0\n",
      "58751696.0\n",
      "34554248.0\n",
      "54336096.0\n",
      "61226716.0\n",
      "47287312.0\n",
      "65943604.0\n",
      "63686272.0\n",
      "77055352.0\n",
      "61693032.0\n",
      "36270816.0\n"
     ]
    },
    {
     "name": "stderr",
     "output_type": "stream",
     "text": [
      " 66%|██████▋   | 1657/2500 [00:20<00:10, 81.92it/s]"
     ]
    },
    {
     "name": "stdout",
     "output_type": "stream",
     "text": [
      "59487092.0\n",
      "66890060.0\n",
      "38363080.0\n",
      "72262720.0\n",
      "77350208.0\n",
      "86051840.0\n",
      "88362904.0\n",
      "56272992.0\n",
      "80135232.0\n",
      "71198032.0\n",
      "42860900.0\n",
      "76518856.0\n",
      "54315640.0\n",
      "87276304.0\n",
      "61693488.0\n",
      "64140928.0\n",
      "44772548.0\n"
     ]
    },
    {
     "name": "stderr",
     "output_type": "stream",
     "text": [
      " 67%|██████▋   | 1675/2500 [00:20<00:10, 82.27it/s]"
     ]
    },
    {
     "name": "stdout",
     "output_type": "stream",
     "text": [
      "84154576.0\n",
      "66975036.0\n",
      "61185520.0\n",
      "41112216.0\n",
      "41894368.0\n",
      "64468756.0\n",
      "64060464.0\n",
      "66968376.0\n",
      "102007024.0\n",
      "69640656.0\n",
      "47903976.0\n",
      "90945888.0\n",
      "66316208.0\n",
      "81482216.0\n",
      "79581248.0\n",
      "90084256.0\n",
      "53690296.0\n"
     ]
    },
    {
     "name": "stderr",
     "output_type": "stream",
     "text": [
      " 68%|██████▊   | 1693/2500 [00:21<00:09, 82.53it/s]"
     ]
    },
    {
     "name": "stdout",
     "output_type": "stream",
     "text": [
      "36418112.0\n",
      "65740816.0\n",
      "41107504.0\n",
      "60725452.0\n",
      "104123264.0\n",
      "67003012.0\n",
      "98211160.0\n",
      "54727224.0\n",
      "69665808.0\n",
      "102044712.0\n",
      "43926780.0\n",
      "78778000.0\n",
      "79637472.0\n",
      "64279124.0\n",
      "54370688.0\n",
      "55951928.0\n",
      "57600320.0\n"
     ]
    },
    {
     "name": "stderr",
     "output_type": "stream",
     "text": [
      " 68%|██████▊   | 1711/2500 [00:21<00:09, 82.57it/s]"
     ]
    },
    {
     "name": "stdout",
     "output_type": "stream",
     "text": [
      "122934672.0\n",
      "44778368.0\n",
      "62564840.0\n",
      "64791292.0\n",
      "56100412.0\n",
      "42628552.0\n",
      "71924344.0\n",
      "51022820.0\n",
      "66570136.0\n",
      "74509392.0\n",
      "57282760.0\n",
      "74682600.0\n",
      "82747528.0\n",
      "38503140.0\n",
      "75351408.0\n",
      "50025952.0\n",
      "88029432.0\n"
     ]
    },
    {
     "name": "stderr",
     "output_type": "stream",
     "text": [
      " 69%|██████▉   | 1729/2500 [00:21<00:09, 82.66it/s]"
     ]
    },
    {
     "name": "stdout",
     "output_type": "stream",
     "text": [
      "46588420.0\n",
      "71995552.0\n",
      "60242468.0\n",
      "76888560.0\n",
      "48381584.0\n",
      "46806660.0\n",
      "92200912.0\n",
      "67246544.0\n",
      "56183488.0\n",
      "47717124.0\n",
      "60927916.0\n",
      "49466268.0\n",
      "59659592.0\n",
      "50284896.0\n",
      "98553064.0\n",
      "55901520.0\n",
      "79055296.0\n"
     ]
    },
    {
     "name": "stderr",
     "output_type": "stream",
     "text": [
      " 70%|██████▉   | 1747/2500 [00:21<00:09, 82.36it/s]"
     ]
    },
    {
     "name": "stdout",
     "output_type": "stream",
     "text": [
      "66134312.0\n",
      "134246336.0\n",
      "85353856.0\n",
      "83530304.0\n",
      "61765640.0\n",
      "130752264.0\n",
      "62884820.0\n",
      "52940592.0\n",
      "78400872.0\n",
      "63611300.0\n",
      "49935660.0\n",
      "83674744.0\n",
      "59441968.0\n",
      "44218608.0\n",
      "56558996.0\n",
      "83689224.0\n",
      "93473504.0\n"
     ]
    },
    {
     "name": "stderr",
     "output_type": "stream",
     "text": [
      " 70%|███████   | 1756/2500 [00:21<00:09, 82.19it/s]"
     ]
    },
    {
     "name": "stdout",
     "output_type": "stream",
     "text": [
      "80197112.0\n",
      "50582320.0\n",
      "91306464.0\n",
      "56173184.0\n",
      "56222592.0\n",
      "61795864.0\n",
      "65196320.0\n",
      "103541288.0\n",
      "65020276.0\n",
      "76598208.0\n",
      "51168344.0\n",
      "117859672.0\n",
      "47683764.0\n",
      "61060028.0\n",
      "72273856.0\n",
      "53180548.0\n",
      "59509440.0\n"
     ]
    },
    {
     "name": "stderr",
     "output_type": "stream",
     "text": [
      " 71%|███████   | 1774/2500 [00:22<00:08, 82.36it/s]"
     ]
    },
    {
     "name": "stdout",
     "output_type": "stream",
     "text": [
      "69963440.0\n",
      "58150380.0\n",
      "56543448.0\n",
      "96516112.0\n",
      "50013640.0\n",
      "43770552.0\n",
      "54031952.0\n",
      "90864072.0\n",
      "105477120.0\n",
      "66196804.0\n",
      "39756224.0\n",
      "73281608.0\n",
      "68561168.0\n",
      "73568192.0\n",
      "110095016.0\n",
      "82105320.0\n",
      "68916336.0\n"
     ]
    },
    {
     "name": "stderr",
     "output_type": "stream",
     "text": [
      " 72%|███████▏  | 1792/2500 [00:22<00:08, 82.11it/s]"
     ]
    },
    {
     "name": "stdout",
     "output_type": "stream",
     "text": [
      "62387368.0\n",
      "95763176.0\n",
      "63288928.0\n",
      "44566600.0\n",
      "60587368.0\n",
      "43911620.0\n",
      "67638816.0\n",
      "58585928.0\n",
      "61900920.0\n",
      "58367204.0\n",
      "69171136.0\n",
      "60310812.0\n",
      "56300420.0\n",
      "82995944.0\n",
      "65112584.0\n",
      "55186760.0\n",
      "102635200.0\n"
     ]
    },
    {
     "name": "stderr",
     "output_type": "stream",
     "text": [
      " 72%|███████▏  | 1810/2500 [00:22<00:08, 81.94it/s]"
     ]
    },
    {
     "name": "stdout",
     "output_type": "stream",
     "text": [
      "63986168.0\n",
      "72766768.0\n",
      "77210640.0\n",
      "48191072.0\n",
      "57084896.0\n",
      "67527320.0\n",
      "74115120.0\n",
      "33062672.0\n",
      "92539184.0\n",
      "79251152.0\n",
      "40668548.0\n",
      "53818216.0\n",
      "74349144.0\n",
      "51398632.0\n",
      "53196176.0\n",
      "67902344.0\n",
      "39363432.0\n"
     ]
    },
    {
     "name": "stderr",
     "output_type": "stream",
     "text": [
      " 73%|███████▎  | 1828/2500 [00:22<00:08, 81.28it/s]"
     ]
    },
    {
     "name": "stdout",
     "output_type": "stream",
     "text": [
      "65566168.0\n",
      "64338356.0\n",
      "38733648.0\n",
      "53633644.0\n",
      "62115776.0\n",
      "38500072.0\n",
      "50788552.0\n",
      "52773660.0\n",
      "68560448.0\n",
      "69656240.0\n",
      "76012408.0\n",
      "67017800.0\n",
      "43971056.0\n",
      "75906200.0\n",
      "58304224.0\n",
      "56130588.0\n",
      "44290368.0\n"
     ]
    },
    {
     "name": "stderr",
     "output_type": "stream",
     "text": [
      " 74%|███████▍  | 1846/2500 [00:22<00:08, 81.10it/s]"
     ]
    },
    {
     "name": "stdout",
     "output_type": "stream",
     "text": [
      "80868352.0\n",
      "38985040.0\n",
      "43749068.0\n",
      "61673936.0\n",
      "47566232.0\n",
      "56287496.0\n",
      "75360272.0\n",
      "59584456.0\n",
      "73804744.0\n",
      "62554748.0\n",
      "79658912.0\n",
      "54300072.0\n",
      "52583384.0\n",
      "63231328.0\n",
      "67594904.0\n",
      "56270092.0\n",
      "43975736.0\n"
     ]
    },
    {
     "name": "stderr",
     "output_type": "stream",
     "text": [
      " 75%|███████▍  | 1864/2500 [00:23<00:07, 80.77it/s]"
     ]
    },
    {
     "name": "stdout",
     "output_type": "stream",
     "text": [
      "62454392.0\n",
      "85097008.0\n",
      "84285632.0\n",
      "61384000.0\n",
      "108682952.0\n",
      "87110608.0\n",
      "57928284.0\n",
      "68143912.0\n",
      "84695456.0\n",
      "123035144.0\n",
      "73547848.0\n",
      "61692700.0\n",
      "75674944.0\n",
      "74413184.0\n",
      "55741412.0\n",
      "55235640.0\n",
      "42540056.0\n"
     ]
    },
    {
     "name": "stderr",
     "output_type": "stream",
     "text": [
      " 75%|███████▌  | 1882/2500 [00:23<00:07, 80.97it/s]"
     ]
    },
    {
     "name": "stdout",
     "output_type": "stream",
     "text": [
      "34759048.0\n",
      "51345416.0\n",
      "52783568.0\n",
      "53507548.0\n",
      "57017296.0\n",
      "61011408.0\n",
      "62657904.0\n",
      "85318928.0\n",
      "81457424.0\n",
      "61853448.0\n",
      "48482032.0\n",
      "72515520.0\n",
      "68257584.0\n",
      "63950712.0\n",
      "72127864.0\n",
      "67208784.0\n",
      "61794936.0\n"
     ]
    },
    {
     "name": "stderr",
     "output_type": "stream",
     "text": [
      " 76%|███████▌  | 1900/2500 [00:23<00:07, 81.50it/s]"
     ]
    },
    {
     "name": "stdout",
     "output_type": "stream",
     "text": [
      "57988128.0\n",
      "63033360.0\n",
      "54330032.0\n",
      "57877944.0\n",
      "90080848.0\n",
      "74787680.0\n",
      "58519620.0\n",
      "96285472.0\n",
      "84993536.0\n",
      "76404576.0\n",
      "65170536.0\n",
      "94460048.0\n",
      "78714976.0\n",
      "53141456.0\n",
      "85658584.0\n",
      "80146016.0\n",
      "72753520.0\n"
     ]
    },
    {
     "name": "stderr",
     "output_type": "stream",
     "text": [
      " 76%|███████▋  | 1909/2500 [00:23<00:07, 81.58it/s]"
     ]
    },
    {
     "name": "stdout",
     "output_type": "stream",
     "text": [
      "82080088.0\n",
      "93715440.0\n",
      "45413592.0\n",
      "76957824.0\n",
      "36287356.0\n",
      "62569784.0\n",
      "53286500.0\n",
      "88181184.0\n",
      "37819312.0\n",
      "65192120.0\n",
      "71294016.0\n",
      "72723048.0\n",
      "55637188.0\n",
      "65307544.0\n",
      "67071280.0\n",
      "46864368.0\n",
      "33408458.0\n"
     ]
    },
    {
     "name": "stderr",
     "output_type": "stream",
     "text": [
      " 77%|███████▋  | 1927/2500 [00:23<00:07, 81.58it/s]"
     ]
    },
    {
     "name": "stdout",
     "output_type": "stream",
     "text": [
      "110647304.0\n",
      "63994612.0\n",
      "55883424.0\n",
      "48878336.0\n",
      "52718768.0\n",
      "33096020.0\n",
      "69721264.0\n",
      "39306504.0\n",
      "80455680.0\n",
      "40004952.0\n",
      "78135640.0\n",
      "35438624.0\n",
      "91450208.0\n",
      "64278232.0\n",
      "57396396.0\n",
      "38907692.0\n",
      "37907848.0\n"
     ]
    },
    {
     "name": "stderr",
     "output_type": "stream",
     "text": [
      " 78%|███████▊  | 1945/2500 [00:24<00:06, 82.19it/s]"
     ]
    },
    {
     "name": "stdout",
     "output_type": "stream",
     "text": [
      "66433264.0\n",
      "64121880.0\n",
      "53706496.0\n",
      "64002016.0\n",
      "81903496.0\n",
      "65809816.0\n",
      "84613544.0\n",
      "44942636.0\n",
      "93828848.0\n",
      "76678784.0\n",
      "65714648.0\n",
      "52915468.0\n",
      "90249440.0\n",
      "44944612.0\n",
      "51148536.0\n",
      "74974240.0\n",
      "55154804.0\n"
     ]
    },
    {
     "name": "stderr",
     "output_type": "stream",
     "text": [
      " 79%|███████▊  | 1963/2500 [00:24<00:06, 81.82it/s]"
     ]
    },
    {
     "name": "stdout",
     "output_type": "stream",
     "text": [
      "84734608.0\n",
      "97598496.0\n",
      "45260304.0\n",
      "56518640.0\n",
      "59774264.0\n",
      "65609012.0\n",
      "28522192.0\n",
      "51119528.0\n",
      "75960720.0\n",
      "45453100.0\n",
      "86230496.0\n",
      "28874406.0\n",
      "61693288.0\n",
      "38454488.0\n",
      "44471720.0\n",
      "76501880.0\n",
      "48385624.0\n"
     ]
    },
    {
     "name": "stderr",
     "output_type": "stream",
     "text": [
      " 79%|███████▉  | 1981/2500 [00:24<00:06, 81.97it/s]"
     ]
    },
    {
     "name": "stdout",
     "output_type": "stream",
     "text": [
      "64392348.0\n",
      "54094776.0\n",
      "91614368.0\n",
      "75312672.0\n",
      "59057900.0\n",
      "81165696.0\n",
      "42369948.0\n",
      "57563616.0\n",
      "50537304.0\n",
      "57246912.0\n",
      "84504232.0\n",
      "41779232.0\n",
      "53061784.0\n",
      "91892280.0\n",
      "81689984.0\n",
      "40892256.0\n",
      "61045608.0\n"
     ]
    },
    {
     "name": "stderr",
     "output_type": "stream",
     "text": [
      " 80%|███████▉  | 1999/2500 [00:24<00:06, 82.04it/s]"
     ]
    },
    {
     "name": "stdout",
     "output_type": "stream",
     "text": [
      "54618760.0\n",
      "48032568.0\n",
      "36148856.0\n",
      "37028616.0\n",
      "39254808.0\n",
      "56426128.0\n",
      "75515776.0\n",
      "58808760.0\n",
      "78312648.0\n",
      "51912724.0\n",
      "39417344.0\n",
      "60895832.0\n",
      "44524356.0\n",
      "48942656.0\n",
      "50745104.0\n",
      "73946968.0\n",
      "103188200.0\n"
     ]
    },
    {
     "name": "stderr",
     "output_type": "stream",
     "text": [
      " 81%|████████  | 2017/2500 [00:24<00:05, 82.17it/s]"
     ]
    },
    {
     "name": "stdout",
     "output_type": "stream",
     "text": [
      "76483264.0\n",
      "113589832.0\n",
      "46948276.0\n",
      "60120112.0\n",
      "49850624.0\n",
      "56447484.0\n",
      "90433968.0\n",
      "87730208.0\n",
      "78731600.0\n",
      "66333748.0\n",
      "84669520.0\n",
      "64252220.0\n",
      "46057192.0\n",
      "110568048.0\n",
      "63620432.0\n",
      "45735608.0\n",
      "50639584.0\n"
     ]
    },
    {
     "name": "stderr",
     "output_type": "stream",
     "text": [
      " 81%|████████▏ | 2035/2500 [00:25<00:05, 82.29it/s]"
     ]
    },
    {
     "name": "stdout",
     "output_type": "stream",
     "text": [
      "54896528.0\n",
      "60930648.0\n",
      "58406664.0\n",
      "77120384.0\n",
      "64073320.0\n",
      "106087368.0\n",
      "84572832.0\n",
      "73632920.0\n",
      "60277388.0\n",
      "53109820.0\n",
      "69702136.0\n",
      "44456484.0\n",
      "62626804.0\n",
      "68322648.0\n",
      "51529600.0\n",
      "66413480.0\n",
      "44952840.0\n"
     ]
    },
    {
     "name": "stderr",
     "output_type": "stream",
     "text": [
      " 82%|████████▏ | 2053/2500 [00:25<00:05, 81.74it/s]"
     ]
    },
    {
     "name": "stdout",
     "output_type": "stream",
     "text": [
      "66371856.0\n",
      "51980488.0\n",
      "68327672.0\n",
      "48097308.0\n",
      "61342096.0\n",
      "57914696.0\n",
      "75535120.0\n",
      "56945712.0\n",
      "84203984.0\n",
      "84044112.0\n",
      "84039336.0\n",
      "89008528.0\n",
      "53480664.0\n",
      "66325424.0\n",
      "56198400.0\n",
      "65578308.0\n",
      "106416960.0\n"
     ]
    },
    {
     "name": "stderr",
     "output_type": "stream",
     "text": [
      " 82%|████████▏ | 2062/2500 [00:25<00:05, 81.26it/s]"
     ]
    },
    {
     "name": "stdout",
     "output_type": "stream",
     "text": [
      "54366480.0\n",
      "57717968.0\n",
      "49800792.0\n",
      "71220424.0\n",
      "40777840.0\n",
      "64959312.0\n",
      "63409296.0\n",
      "58371664.0\n",
      "56838144.0\n",
      "58593576.0\n",
      "51311792.0\n",
      "111597904.0\n",
      "51803120.0\n",
      "71240064.0\n",
      "51434320.0\n",
      "83770440.0\n",
      "51849488.0\n"
     ]
    },
    {
     "name": "stderr",
     "output_type": "stream",
     "text": [
      " 83%|████████▎ | 2080/2500 [00:25<00:05, 81.56it/s]"
     ]
    },
    {
     "name": "stdout",
     "output_type": "stream",
     "text": [
      "57674184.0\n",
      "71308000.0\n",
      "48623316.0\n",
      "69755256.0\n",
      "65846172.0\n",
      "44583584.0\n",
      "62016576.0\n",
      "66119448.0\n",
      "80115816.0\n",
      "49506576.0\n",
      "57781836.0\n",
      "45699272.0\n",
      "36120408.0\n",
      "42032032.0\n",
      "63299104.0\n",
      "53522596.0\n",
      "69627096.0\n"
     ]
    },
    {
     "name": "stderr",
     "output_type": "stream",
     "text": [
      " 84%|████████▍ | 2098/2500 [00:25<00:04, 81.75it/s]"
     ]
    },
    {
     "name": "stdout",
     "output_type": "stream",
     "text": [
      "73038264.0\n",
      "69649824.0\n",
      "41636320.0\n",
      "60669156.0\n",
      "75197456.0\n",
      "46787268.0\n",
      "94976968.0\n",
      "46429312.0\n",
      "39553996.0\n",
      "65459576.0\n",
      "56340296.0\n",
      "73343384.0\n",
      "69735592.0\n",
      "73301376.0\n",
      "62397936.0\n",
      "53448108.0\n",
      "72657296.0\n"
     ]
    },
    {
     "name": "stderr",
     "output_type": "stream",
     "text": [
      " 85%|████████▍ | 2116/2500 [00:26<00:04, 81.74it/s]"
     ]
    },
    {
     "name": "stdout",
     "output_type": "stream",
     "text": [
      "73563176.0\n",
      "84277832.0\n",
      "51871792.0\n",
      "62376112.0\n",
      "76562800.0\n",
      "54332528.0\n",
      "58741336.0\n",
      "68411528.0\n",
      "68173192.0\n",
      "78297728.0\n",
      "50756348.0\n",
      "78219192.0\n",
      "48280180.0\n",
      "54224676.0\n",
      "36159532.0\n",
      "66037040.0\n",
      "57605200.0\n"
     ]
    },
    {
     "name": "stderr",
     "output_type": "stream",
     "text": [
      " 85%|████████▌ | 2134/2500 [00:26<00:04, 81.75it/s]"
     ]
    },
    {
     "name": "stdout",
     "output_type": "stream",
     "text": [
      "61197928.0\n",
      "71804464.0\n",
      "86987856.0\n",
      "49051604.0\n",
      "52957900.0\n",
      "58065504.0\n",
      "54219000.0\n",
      "61374296.0\n",
      "61096440.0\n",
      "40329088.0\n",
      "56023576.0\n",
      "61708276.0\n",
      "45439524.0\n",
      "74381448.0\n",
      "62565680.0\n",
      "68543840.0\n",
      "74163280.0\n"
     ]
    },
    {
     "name": "stderr",
     "output_type": "stream",
     "text": [
      " 86%|████████▌ | 2152/2500 [00:26<00:04, 81.88it/s]"
     ]
    },
    {
     "name": "stdout",
     "output_type": "stream",
     "text": [
      "77308784.0\n",
      "62200540.0\n",
      "76233040.0\n",
      "52287184.0\n",
      "43481608.0\n",
      "49441964.0\n",
      "61704432.0\n",
      "67749320.0\n",
      "42678736.0\n",
      "70766048.0\n",
      "55790704.0\n",
      "44664200.0\n",
      "73736672.0\n",
      "88614944.0\n",
      "75266768.0\n",
      "51680512.0\n",
      "64253192.0\n"
     ]
    },
    {
     "name": "stderr",
     "output_type": "stream",
     "text": [
      " 87%|████████▋ | 2170/2500 [00:26<00:04, 81.84it/s]"
     ]
    },
    {
     "name": "stdout",
     "output_type": "stream",
     "text": [
      "71392992.0\n",
      "57790292.0\n",
      "52110608.0\n",
      "66297008.0\n",
      "59224780.0\n",
      "75280304.0\n",
      "50132500.0\n",
      "43492432.0\n",
      "77884544.0\n",
      "75268920.0\n",
      "57879504.0\n",
      "73568288.0\n",
      "63881976.0\n",
      "85881488.0\n",
      "75663000.0\n",
      "53553052.0\n",
      "39625060.0\n"
     ]
    },
    {
     "name": "stderr",
     "output_type": "stream",
     "text": [
      " 88%|████████▊ | 2188/2500 [00:27<00:03, 81.13it/s]"
     ]
    },
    {
     "name": "stdout",
     "output_type": "stream",
     "text": [
      "68644832.0\n",
      "39738848.0\n",
      "50511816.0\n",
      "72049032.0\n",
      "51887504.0\n",
      "73159408.0\n",
      "65430956.0\n",
      "61304328.0\n",
      "45384036.0\n",
      "54804192.0\n",
      "61448896.0\n",
      "64617788.0\n",
      "35456516.0\n",
      "53255856.0\n",
      "41213240.0\n",
      "70676688.0\n",
      "66661672.0\n"
     ]
    },
    {
     "name": "stderr",
     "output_type": "stream",
     "text": [
      " 88%|████████▊ | 2206/2500 [00:27<00:03, 81.11it/s]"
     ]
    },
    {
     "name": "stdout",
     "output_type": "stream",
     "text": [
      "60716448.0\n",
      "77281648.0\n",
      "55431468.0\n",
      "65751656.0\n",
      "76653152.0\n",
      "61354916.0\n",
      "78834560.0\n",
      "50487748.0\n",
      "42689188.0\n",
      "79041488.0\n",
      "78905408.0\n",
      "66398048.0\n",
      "49806436.0\n",
      "50851984.0\n",
      "55964768.0\n",
      "71192680.0\n",
      "63566632.0\n"
     ]
    },
    {
     "name": "stderr",
     "output_type": "stream",
     "text": [
      " 89%|████████▊ | 2215/2500 [00:27<00:03, 81.29it/s]"
     ]
    },
    {
     "name": "stdout",
     "output_type": "stream",
     "text": [
      "70529528.0\n",
      "88453464.0\n",
      "67274784.0\n",
      "57118916.0\n",
      "50085640.0\n",
      "76126792.0\n",
      "62770384.0\n",
      "47208576.0\n",
      "50589284.0\n",
      "55184920.0\n",
      "90063424.0\n",
      "85791520.0\n",
      "32863526.0\n",
      "74227408.0\n",
      "98361080.0\n",
      "68921520.0\n",
      "67613776.0\n"
     ]
    },
    {
     "name": "stderr",
     "output_type": "stream",
     "text": [
      " 89%|████████▉ | 2233/2500 [00:27<00:03, 81.71it/s]"
     ]
    },
    {
     "name": "stdout",
     "output_type": "stream",
     "text": [
      "70842104.0\n",
      "102851632.0\n",
      "66432348.0\n",
      "71169632.0\n",
      "141893312.0\n",
      "77232752.0\n",
      "61465856.0\n",
      "34356104.0\n",
      "58683768.0\n",
      "50993288.0\n",
      "69699536.0\n",
      "62416036.0\n",
      "86513088.0\n",
      "103374544.0\n",
      "58384864.0\n",
      "44810720.0\n",
      "48677976.0\n"
     ]
    },
    {
     "name": "stderr",
     "output_type": "stream",
     "text": [
      " 90%|█████████ | 2251/2500 [00:27<00:03, 81.66it/s]"
     ]
    },
    {
     "name": "stdout",
     "output_type": "stream",
     "text": [
      "80507648.0\n",
      "51365240.0\n",
      "60928340.0\n",
      "60852272.0\n",
      "56920732.0\n",
      "89501664.0\n",
      "83068448.0\n",
      "77179024.0\n",
      "98655744.0\n",
      "87377600.0\n",
      "54956344.0\n",
      "53490764.0\n",
      "56914064.0\n",
      "52707036.0\n",
      "67118656.0\n",
      "50572068.0\n",
      "53916288.0\n"
     ]
    },
    {
     "name": "stderr",
     "output_type": "stream",
     "text": [
      " 91%|█████████ | 2269/2500 [00:28<00:02, 81.65it/s]"
     ]
    },
    {
     "name": "stdout",
     "output_type": "stream",
     "text": [
      "68347872.0\n",
      "39197272.0\n",
      "43436964.0\n",
      "36452368.0\n",
      "60571408.0\n",
      "30630160.0\n",
      "64419952.0\n",
      "62245968.0\n",
      "31864440.0\n",
      "73367496.0\n",
      "51829728.0\n",
      "53917856.0\n",
      "46713660.0\n",
      "54759384.0\n",
      "66191004.0\n",
      "46554968.0\n",
      "67102536.0\n"
     ]
    },
    {
     "name": "stderr",
     "output_type": "stream",
     "text": [
      " 91%|█████████▏| 2287/2500 [00:28<00:02, 81.47it/s]"
     ]
    },
    {
     "name": "stdout",
     "output_type": "stream",
     "text": [
      "87835040.0\n",
      "34225772.0\n",
      "54790108.0\n",
      "76876664.0\n",
      "81438480.0\n",
      "82630544.0\n",
      "39684512.0\n",
      "101591992.0\n",
      "66350048.0\n",
      "72788848.0\n",
      "89472608.0\n",
      "67435152.0\n",
      "51405712.0\n",
      "57553932.0\n",
      "42351572.0\n",
      "77958160.0\n",
      "76724320.0\n"
     ]
    },
    {
     "name": "stderr",
     "output_type": "stream",
     "text": [
      " 92%|█████████▏| 2305/2500 [00:28<00:02, 81.67it/s]"
     ]
    },
    {
     "name": "stdout",
     "output_type": "stream",
     "text": [
      "68203760.0\n",
      "56449496.0\n",
      "81869936.0\n",
      "77878240.0\n",
      "58164116.0\n",
      "37673948.0\n",
      "54244528.0\n",
      "64706692.0\n",
      "82012240.0\n",
      "35779736.0\n",
      "57332856.0\n",
      "76596464.0\n",
      "68374336.0\n",
      "35281152.0\n",
      "65120464.0\n",
      "31226704.0\n",
      "57543608.0\n"
     ]
    },
    {
     "name": "stderr",
     "output_type": "stream",
     "text": [
      " 93%|█████████▎| 2323/2500 [00:28<00:02, 81.42it/s]"
     ]
    },
    {
     "name": "stdout",
     "output_type": "stream",
     "text": [
      "57711728.0\n",
      "58308880.0\n",
      "75598144.0\n",
      "51692944.0\n",
      "39225096.0\n",
      "58473800.0\n",
      "59450252.0\n",
      "61297332.0\n",
      "55090344.0\n",
      "66165088.0\n",
      "56796080.0\n",
      "80647392.0\n",
      "57161348.0\n",
      "53435224.0\n",
      "86972712.0\n",
      "54167844.0\n",
      "30110488.0\n"
     ]
    },
    {
     "name": "stderr",
     "output_type": "stream",
     "text": [
      " 94%|█████████▎| 2341/2500 [00:28<00:01, 81.76it/s]"
     ]
    },
    {
     "name": "stdout",
     "output_type": "stream",
     "text": [
      "51016696.0\n",
      "50513592.0\n",
      "91944304.0\n",
      "86498080.0\n",
      "46842416.0\n",
      "58919408.0\n",
      "45967240.0\n",
      "67522448.0\n",
      "41438740.0\n",
      "57544648.0\n",
      "48353320.0\n",
      "73627984.0\n",
      "66716520.0\n",
      "59558280.0\n",
      "56029836.0\n",
      "66639288.0\n",
      "39328680.0\n"
     ]
    },
    {
     "name": "stderr",
     "output_type": "stream",
     "text": [
      " 94%|█████████▍| 2359/2500 [00:29<00:01, 82.19it/s]"
     ]
    },
    {
     "name": "stdout",
     "output_type": "stream",
     "text": [
      "49704084.0\n",
      "74989440.0\n",
      "50953272.0\n",
      "65883200.0\n",
      "45563296.0\n",
      "94761432.0\n",
      "44830064.0\n",
      "48714704.0\n",
      "39219992.0\n",
      "44834664.0\n",
      "40450184.0\n",
      "66036616.0\n",
      "57615088.0\n",
      "55512976.0\n",
      "59876872.0\n",
      "68942096.0\n",
      "52554640.0\n"
     ]
    },
    {
     "name": "stderr",
     "output_type": "stream",
     "text": [
      " 95%|█████████▍| 2368/2500 [00:29<00:01, 82.18it/s]"
     ]
    },
    {
     "name": "stdout",
     "output_type": "stream",
     "text": [
      "51533604.0\n",
      "64409744.0\n",
      "68226064.0\n",
      "63654588.0\n",
      "54273192.0\n",
      "46134232.0\n",
      "58697108.0\n",
      "80980248.0\n",
      "45105032.0\n",
      "38375688.0\n",
      "53962640.0\n",
      "47499104.0\n",
      "71332784.0\n",
      "66172304.0\n",
      "36623448.0\n",
      "68696904.0\n",
      "106746960.0\n"
     ]
    },
    {
     "name": "stderr",
     "output_type": "stream",
     "text": [
      " 95%|█████████▌| 2386/2500 [00:29<00:01, 81.75it/s]"
     ]
    },
    {
     "name": "stdout",
     "output_type": "stream",
     "text": [
      "52147756.0\n",
      "48087412.0\n",
      "61217152.0\n",
      "52834568.0\n",
      "40926008.0\n",
      "51273728.0\n",
      "52101568.0\n",
      "111746872.0\n",
      "64699752.0\n",
      "51858064.0\n",
      "61182208.0\n",
      "47547544.0\n",
      "63212136.0\n",
      "68745968.0\n",
      "77972504.0\n",
      "57822724.0\n",
      "67323048.0\n"
     ]
    },
    {
     "name": "stderr",
     "output_type": "stream",
     "text": [
      " 96%|█████████▌| 2404/2500 [00:29<00:01, 80.94it/s]"
     ]
    },
    {
     "name": "stdout",
     "output_type": "stream",
     "text": [
      "55112972.0\n",
      "69724152.0\n",
      "78271784.0\n",
      "78464624.0\n",
      "80726000.0\n",
      "59820288.0\n",
      "94605424.0\n",
      "80498736.0\n",
      "73805184.0\n",
      "60566080.0\n",
      "86624760.0\n",
      "78935464.0\n",
      "53840212.0\n",
      "47825860.0\n",
      "85065056.0\n",
      "56805080.0\n",
      "53572268.0\n"
     ]
    },
    {
     "name": "stderr",
     "output_type": "stream",
     "text": [
      " 97%|█████████▋| 2422/2500 [00:29<00:00, 80.57it/s]"
     ]
    },
    {
     "name": "stdout",
     "output_type": "stream",
     "text": [
      "79196176.0\n",
      "58163472.0\n",
      "60080824.0\n",
      "37489052.0\n",
      "42089652.0\n",
      "74249416.0\n",
      "47081408.0\n",
      "65447952.0\n",
      "48862612.0\n",
      "88439384.0\n",
      "41249156.0\n",
      "43404264.0\n",
      "54325480.0\n",
      "52883536.0\n",
      "52946868.0\n",
      "74543584.0\n",
      "47519052.0\n"
     ]
    },
    {
     "name": "stderr",
     "output_type": "stream",
     "text": [
      " 98%|█████████▊| 2440/2500 [00:30<00:00, 80.79it/s]"
     ]
    },
    {
     "name": "stdout",
     "output_type": "stream",
     "text": [
      "62263104.0\n",
      "59839712.0\n",
      "57608200.0\n",
      "47458840.0\n",
      "101014296.0\n",
      "73844480.0\n",
      "48412928.0\n",
      "50993036.0\n",
      "67422704.0\n",
      "75773488.0\n",
      "63547764.0\n",
      "63522876.0\n",
      "57525284.0\n",
      "64068412.0\n",
      "60631920.0\n",
      "101552976.0\n",
      "74155984.0\n"
     ]
    },
    {
     "name": "stderr",
     "output_type": "stream",
     "text": [
      " 98%|█████████▊| 2458/2500 [00:30<00:00, 81.11it/s]"
     ]
    },
    {
     "name": "stdout",
     "output_type": "stream",
     "text": [
      "48654120.0\n",
      "48633724.0\n",
      "72331160.0\n",
      "60745704.0\n",
      "79520848.0\n",
      "66568908.0\n",
      "60433244.0\n",
      "82122744.0\n",
      "40182872.0\n",
      "83723232.0\n",
      "73811440.0\n",
      "52588568.0\n",
      "80178344.0\n",
      "72270704.0\n",
      "132450952.0\n",
      "48212512.0\n",
      "37528912.0\n"
     ]
    },
    {
     "name": "stderr",
     "output_type": "stream",
     "text": [
      " 99%|█████████▉| 2476/2500 [00:30<00:00, 81.61it/s]"
     ]
    },
    {
     "name": "stdout",
     "output_type": "stream",
     "text": [
      "80434584.0\n",
      "71772960.0\n",
      "36890860.0\n",
      "56943292.0\n",
      "58024132.0\n",
      "67458424.0\n",
      "56290336.0\n",
      "64242764.0\n",
      "100842944.0\n",
      "57621264.0\n",
      "55428920.0\n",
      "56471808.0\n",
      "66451668.0\n",
      "54416184.0\n",
      "85942976.0\n",
      "78976672.0\n",
      "76593968.0\n"
     ]
    },
    {
     "name": "stderr",
     "output_type": "stream",
     "text": [
      "100%|█████████▉| 2494/2500 [00:30<00:00, 81.23it/s]"
     ]
    },
    {
     "name": "stdout",
     "output_type": "stream",
     "text": [
      "69414816.0\n",
      "72752880.0\n",
      "64392520.0\n",
      "48896444.0\n",
      "33807608.0\n",
      "59086024.0\n",
      "53386088.0\n",
      "58456060.0\n",
      "64856344.0\n",
      "72674048.0\n",
      "62125708.0\n",
      "46524584.0\n",
      "67280112.0\n",
      "68851776.0\n",
      "76730432.0\n",
      "50011372.0\n",
      "55369912.0\n"
     ]
    },
    {
     "name": "stderr",
     "output_type": "stream",
     "text": [
      "100%|██████████| 2500/2500 [00:30<00:00, 80.84it/s]\n",
      "/tmp/ipykernel_20700/1066896296.py:8: UserWarning: Using a target size (torch.Size([32])) that is different to the input size (torch.Size([32, 1])). This will likely lead to incorrect results due to broadcasting. Please ensure they have the same size.\n",
      "  loss += F.mse_loss(output, data.energy).item()\n"
     ]
    },
    {
     "name": "stdout",
     "output_type": "stream",
     "text": [
      "67761792.0\n",
      "40927224.0\n",
      "50446592.0\n",
      "53845808.0\n",
      "56990180.0\n",
      "Epoch: 1, Train Loss: 472570621.8752, Test Loss: 472569392.3328\n"
     ]
    },
    {
     "name": "stderr",
     "output_type": "stream",
     "text": [
      "  0%|          | 9/2500 [00:00<00:30, 82.85it/s]"
     ]
    },
    {
     "name": "stdout",
     "output_type": "stream",
     "text": [
      "77609648.0\n",
      "44031256.0\n",
      "54074728.0\n",
      "46375968.0\n",
      "76797112.0\n",
      "64006644.0\n",
      "76979432.0\n",
      "48974416.0\n",
      "63477136.0\n",
      "107648840.0\n",
      "75541792.0\n",
      "59033696.0\n",
      "54952496.0\n",
      "42213720.0\n",
      "65995228.0\n",
      "39746172.0\n"
     ]
    },
    {
     "name": "stderr",
     "output_type": "stream",
     "text": [
      "  1%|          | 18/2500 [00:00<00:29, 85.08it/s]"
     ]
    },
    {
     "name": "stdout",
     "output_type": "stream",
     "text": [
      "35139332.0\n",
      "63640504.0\n"
     ]
    },
    {
     "name": "stderr",
     "output_type": "stream",
     "text": [
      "  1%|          | 27/2500 [00:00<00:28, 85.48it/s]"
     ]
    },
    {
     "name": "stdout",
     "output_type": "stream",
     "text": [
      "101300112.0\n",
      "102091848.0\n",
      "30299918.0\n",
      "53824516.0\n",
      "52764528.0\n",
      "99726464.0\n",
      "67631976.0\n",
      "77739880.0\n",
      "95236288.0\n",
      "54614064.0\n",
      "76061392.0\n",
      "63309288.0\n",
      "75460264.0\n",
      "74001128.0\n",
      "39536720.0\n",
      "59042672.0\n"
     ]
    },
    {
     "name": "stderr",
     "output_type": "stream",
     "text": [
      "  1%|▏         | 36/2500 [00:00<00:28, 85.91it/s]"
     ]
    },
    {
     "name": "stdout",
     "output_type": "stream",
     "text": [
      "49041616.0\n",
      "51444352.0\n"
     ]
    },
    {
     "name": "stderr",
     "output_type": "stream",
     "text": [
      "  2%|▏         | 45/2500 [00:00<00:28, 86.54it/s]"
     ]
    },
    {
     "name": "stdout",
     "output_type": "stream",
     "text": [
      "45615712.0\n",
      "37776232.0\n",
      "63737432.0\n",
      "67208624.0\n",
      "68939368.0\n",
      "90441648.0\n",
      "79557312.0\n",
      "81084288.0\n",
      "54327776.0\n",
      "76378928.0\n",
      "45182640.0\n",
      "75696240.0\n",
      "45347592.0\n",
      "75937816.0\n",
      "73267936.0\n",
      "81998512.0\n"
     ]
    },
    {
     "name": "stderr",
     "output_type": "stream",
     "text": [
      "  2%|▏         | 54/2500 [00:00<00:28, 86.96it/s]"
     ]
    },
    {
     "name": "stdout",
     "output_type": "stream",
     "text": [
      "57581184.0\n",
      "70584288.0\n"
     ]
    },
    {
     "name": "stderr",
     "output_type": "stream",
     "text": [
      "  3%|▎         | 63/2500 [00:00<00:27, 87.28it/s]"
     ]
    },
    {
     "name": "stdout",
     "output_type": "stream",
     "text": [
      "62002112.0\n",
      "55967984.0\n",
      "39892232.0\n",
      "56930524.0\n",
      "59304320.0\n",
      "52906952.0\n",
      "38451168.0\n",
      "44029272.0\n",
      "66430848.0\n",
      "55473992.0\n",
      "69525560.0\n",
      "75284944.0\n",
      "50281248.0\n",
      "49427056.0\n",
      "53602708.0\n",
      "59834160.0\n"
     ]
    },
    {
     "name": "stderr",
     "output_type": "stream",
     "text": [
      "  3%|▎         | 72/2500 [00:00<00:27, 87.45it/s]"
     ]
    },
    {
     "name": "stdout",
     "output_type": "stream",
     "text": [
      "48853104.0\n",
      "78485848.0\n"
     ]
    },
    {
     "name": "stderr",
     "output_type": "stream",
     "text": [
      "  3%|▎         | 81/2500 [00:00<00:27, 87.50it/s]"
     ]
    },
    {
     "name": "stdout",
     "output_type": "stream",
     "text": [
      "66171692.0\n",
      "74967840.0\n",
      "42592808.0\n",
      "55556840.0\n",
      "52974328.0\n",
      "50576460.0\n",
      "65309976.0\n",
      "69985968.0\n",
      "56288464.0\n",
      "70898336.0\n",
      "33616728.0\n",
      "46613032.0\n",
      "48097168.0\n",
      "43396272.0\n",
      "69125224.0\n",
      "34357800.0\n"
     ]
    },
    {
     "name": "stderr",
     "output_type": "stream",
     "text": [
      "  4%|▎         | 90/2500 [00:01<00:27, 87.57it/s]"
     ]
    },
    {
     "name": "stdout",
     "output_type": "stream",
     "text": [
      "76803400.0\n",
      "43091024.0\n"
     ]
    },
    {
     "name": "stderr",
     "output_type": "stream",
     "text": [
      "  4%|▍         | 99/2500 [00:01<00:27, 87.21it/s]"
     ]
    },
    {
     "name": "stdout",
     "output_type": "stream",
     "text": [
      "53204656.0\n",
      "62811864.0\n",
      "32202084.0\n",
      "49894464.0\n",
      "45816232.0\n",
      "46426116.0\n",
      "113527720.0\n",
      "66392992.0\n",
      "83283936.0\n",
      "79092032.0\n",
      "59089600.0\n",
      "41988456.0\n",
      "64712088.0\n",
      "64527384.0\n",
      "62051792.0\n",
      "62568852.0\n"
     ]
    },
    {
     "name": "stderr",
     "output_type": "stream",
     "text": [
      "  4%|▍         | 108/2500 [00:01<00:27, 86.93it/s]"
     ]
    },
    {
     "name": "stdout",
     "output_type": "stream",
     "text": [
      "49107352.0\n",
      "53701824.0\n"
     ]
    },
    {
     "name": "stderr",
     "output_type": "stream",
     "text": [
      "  5%|▍         | 117/2500 [00:01<00:27, 86.95it/s]"
     ]
    },
    {
     "name": "stdout",
     "output_type": "stream",
     "text": [
      "45502080.0\n",
      "53154984.0\n",
      "41571348.0\n",
      "53474816.0\n",
      "58496956.0\n",
      "57410868.0\n",
      "43194072.0\n",
      "40319596.0\n",
      "43844880.0\n",
      "56146564.0\n",
      "37891000.0\n",
      "55210692.0\n",
      "40332864.0\n",
      "104409616.0\n",
      "43352512.0\n",
      "102079696.0\n"
     ]
    },
    {
     "name": "stderr",
     "output_type": "stream",
     "text": [
      "  5%|▌         | 126/2500 [00:01<00:27, 86.81it/s]"
     ]
    },
    {
     "name": "stdout",
     "output_type": "stream",
     "text": [
      "44968320.0\n",
      "51801020.0\n"
     ]
    },
    {
     "name": "stderr",
     "output_type": "stream",
     "text": [
      "  5%|▌         | 135/2500 [00:01<00:27, 86.84it/s]"
     ]
    },
    {
     "name": "stdout",
     "output_type": "stream",
     "text": [
      "56758128.0\n",
      "42957616.0\n",
      "84786192.0\n",
      "37446872.0\n",
      "73830272.0\n",
      "62862016.0\n",
      "78897280.0\n",
      "80741016.0\n",
      "34713584.0\n",
      "57593544.0\n",
      "52649608.0\n",
      "48697176.0\n",
      "43344524.0\n",
      "35325816.0\n",
      "48702804.0\n",
      "40930536.0\n"
     ]
    },
    {
     "name": "stderr",
     "output_type": "stream",
     "text": [
      "  6%|▌         | 144/2500 [00:01<00:27, 86.87it/s]"
     ]
    },
    {
     "name": "stdout",
     "output_type": "stream",
     "text": [
      "60088384.0\n",
      "33581832.0\n"
     ]
    },
    {
     "name": "stderr",
     "output_type": "stream",
     "text": [
      "  6%|▌         | 153/2500 [00:01<00:26, 86.99it/s]"
     ]
    },
    {
     "name": "stdout",
     "output_type": "stream",
     "text": [
      "53954804.0\n",
      "45121372.0\n",
      "72734992.0\n",
      "44127556.0\n",
      "64590784.0\n",
      "49941104.0\n",
      "55261556.0\n",
      "45815452.0\n",
      "30386684.0\n",
      "40347160.0\n",
      "68001080.0\n",
      "55901736.0\n",
      "56637712.0\n",
      "40065584.0\n",
      "71020912.0\n",
      "52986412.0\n"
     ]
    },
    {
     "name": "stderr",
     "output_type": "stream",
     "text": [
      "  6%|▋         | 162/2500 [00:01<00:27, 86.50it/s]"
     ]
    },
    {
     "name": "stdout",
     "output_type": "stream",
     "text": [
      "42830428.0\n",
      "55766604.0\n"
     ]
    },
    {
     "name": "stderr",
     "output_type": "stream",
     "text": [
      "  7%|▋         | 171/2500 [00:01<00:26, 86.63it/s]"
     ]
    },
    {
     "name": "stdout",
     "output_type": "stream",
     "text": [
      "56710336.0\n",
      "65013904.0\n",
      "57763872.0\n",
      "70915200.0\n",
      "51910244.0\n",
      "64464916.0\n",
      "44282672.0\n",
      "49959960.0\n",
      "62188136.0\n",
      "61772468.0\n",
      "30495076.0\n",
      "47679572.0\n",
      "86640736.0\n",
      "45829556.0\n",
      "65130504.0\n",
      "44942036.0\n"
     ]
    },
    {
     "name": "stderr",
     "output_type": "stream",
     "text": [
      "  7%|▋         | 180/2500 [00:02<00:26, 86.73it/s]"
     ]
    },
    {
     "name": "stdout",
     "output_type": "stream",
     "text": [
      "58208064.0\n",
      "42090260.0\n"
     ]
    },
    {
     "name": "stderr",
     "output_type": "stream",
     "text": [
      "  8%|▊         | 189/2500 [00:02<00:26, 86.74it/s]"
     ]
    },
    {
     "name": "stdout",
     "output_type": "stream",
     "text": [
      "41234516.0\n",
      "46204048.0\n",
      "46236760.0\n",
      "98784936.0\n",
      "57111680.0\n",
      "33354170.0\n",
      "71122568.0\n",
      "79956952.0\n",
      "35293032.0\n",
      "40150312.0\n",
      "57049632.0\n",
      "76539384.0\n",
      "32927960.0\n",
      "48304608.0\n",
      "49788984.0\n",
      "99008024.0\n"
     ]
    },
    {
     "name": "stderr",
     "output_type": "stream",
     "text": [
      "  8%|▊         | 198/2500 [00:02<00:26, 86.49it/s]"
     ]
    },
    {
     "name": "stdout",
     "output_type": "stream",
     "text": [
      "41104700.0\n",
      "63004592.0\n"
     ]
    },
    {
     "name": "stderr",
     "output_type": "stream",
     "text": [
      "  8%|▊         | 207/2500 [00:02<00:26, 85.99it/s]"
     ]
    },
    {
     "name": "stdout",
     "output_type": "stream",
     "text": [
      "72541792.0\n",
      "54951264.0\n",
      "44816812.0\n",
      "54275904.0\n",
      "39862852.0\n",
      "49903764.0\n",
      "42501880.0\n",
      "51542936.0\n",
      "56013776.0\n",
      "76817864.0\n",
      "47787576.0\n",
      "53800836.0\n",
      "50801120.0\n",
      "70006648.0\n",
      "42168508.0\n",
      "38757796.0\n"
     ]
    },
    {
     "name": "stderr",
     "output_type": "stream",
     "text": [
      "  9%|▊         | 216/2500 [00:02<00:26, 85.90it/s]"
     ]
    },
    {
     "name": "stdout",
     "output_type": "stream",
     "text": [
      "60010076.0\n",
      "56525872.0\n"
     ]
    },
    {
     "name": "stderr",
     "output_type": "stream",
     "text": [
      "  9%|▉         | 225/2500 [00:02<00:26, 85.95it/s]"
     ]
    },
    {
     "name": "stdout",
     "output_type": "stream",
     "text": [
      "40510692.0\n",
      "59399640.0\n",
      "52714952.0\n",
      "67017128.0\n",
      "43224588.0\n",
      "62802784.0\n",
      "35028944.0\n",
      "49329000.0\n",
      "36029496.0\n",
      "52925872.0\n",
      "46550940.0\n",
      "56464028.0\n",
      "40767104.0\n",
      "35360148.0\n",
      "45858036.0\n",
      "51381476.0\n"
     ]
    },
    {
     "name": "stderr",
     "output_type": "stream",
     "text": [
      "  9%|▉         | 234/2500 [00:02<00:26, 85.95it/s]"
     ]
    },
    {
     "name": "stdout",
     "output_type": "stream",
     "text": [
      "48202136.0\n",
      "38132200.0\n"
     ]
    },
    {
     "name": "stderr",
     "output_type": "stream",
     "text": [
      " 10%|▉         | 243/2500 [00:02<00:26, 86.05it/s]"
     ]
    },
    {
     "name": "stdout",
     "output_type": "stream",
     "text": [
      "42727472.0\n",
      "57203788.0\n",
      "54105572.0\n",
      "46431644.0\n",
      "50280624.0\n",
      "58471192.0\n",
      "48019768.0\n",
      "31393236.0\n",
      "61446240.0\n",
      "54216108.0\n",
      "57489548.0\n",
      "61280072.0\n",
      "39829520.0\n",
      "51505400.0\n",
      "54552464.0\n",
      "41107112.0\n"
     ]
    },
    {
     "name": "stderr",
     "output_type": "stream",
     "text": [
      " 10%|█         | 252/2500 [00:02<00:26, 86.01it/s]"
     ]
    },
    {
     "name": "stdout",
     "output_type": "stream",
     "text": [
      "57767544.0\n",
      "32582674.0\n"
     ]
    },
    {
     "name": "stderr",
     "output_type": "stream",
     "text": [
      " 10%|█         | 261/2500 [00:03<00:26, 85.78it/s]"
     ]
    },
    {
     "name": "stdout",
     "output_type": "stream",
     "text": [
      "41125072.0\n",
      "51584656.0\n",
      "60824756.0\n",
      "46410676.0\n",
      "45590736.0\n",
      "50522988.0\n",
      "48057148.0\n",
      "41200188.0\n",
      "73296824.0\n",
      "48168152.0\n",
      "59377104.0\n",
      "38917488.0\n",
      "82884416.0\n",
      "60677776.0\n",
      "40778916.0\n",
      "28746956.0\n"
     ]
    },
    {
     "name": "stderr",
     "output_type": "stream",
     "text": [
      " 11%|█         | 270/2500 [00:03<00:25, 86.06it/s]"
     ]
    },
    {
     "name": "stdout",
     "output_type": "stream",
     "text": [
      "37894680.0\n",
      "42080000.0\n"
     ]
    },
    {
     "name": "stderr",
     "output_type": "stream",
     "text": [
      " 11%|█         | 279/2500 [00:03<00:25, 86.36it/s]"
     ]
    },
    {
     "name": "stdout",
     "output_type": "stream",
     "text": [
      "58316264.0\n",
      "52324672.0\n",
      "36913888.0\n",
      "40457484.0\n",
      "48603212.0\n",
      "39364744.0\n",
      "47685816.0\n",
      "55851512.0\n",
      "33699728.0\n",
      "62704688.0\n",
      "31622320.0\n",
      "39903004.0\n",
      "55099868.0\n",
      "64374216.0\n",
      "47467512.0\n",
      "40673844.0\n"
     ]
    },
    {
     "name": "stderr",
     "output_type": "stream",
     "text": [
      " 12%|█▏        | 288/2500 [00:03<00:25, 86.50it/s]"
     ]
    },
    {
     "name": "stdout",
     "output_type": "stream",
     "text": [
      "48741056.0\n",
      "45980664.0\n"
     ]
    },
    {
     "name": "stderr",
     "output_type": "stream",
     "text": [
      " 12%|█▏        | 297/2500 [00:03<00:25, 86.69it/s]"
     ]
    },
    {
     "name": "stdout",
     "output_type": "stream",
     "text": [
      "35502216.0\n",
      "39339800.0\n",
      "43127304.0\n",
      "76695856.0\n",
      "48356504.0\n",
      "46718048.0\n",
      "48791640.0\n",
      "30399290.0\n",
      "45122704.0\n",
      "33318276.0\n",
      "31326154.0\n",
      "56886264.0\n",
      "51111680.0\n",
      "37141656.0\n",
      "31338308.0\n",
      "34176836.0\n"
     ]
    },
    {
     "name": "stderr",
     "output_type": "stream",
     "text": [
      " 12%|█▏        | 306/2500 [00:03<00:25, 86.80it/s]"
     ]
    },
    {
     "name": "stdout",
     "output_type": "stream",
     "text": [
      "28010000.0\n",
      "31859528.0\n"
     ]
    },
    {
     "name": "stderr",
     "output_type": "stream",
     "text": [
      " 13%|█▎        | 315/2500 [00:03<00:25, 86.95it/s]"
     ]
    },
    {
     "name": "stdout",
     "output_type": "stream",
     "text": [
      "55595100.0\n",
      "42908500.0\n",
      "54615524.0\n",
      "42637424.0\n",
      "39227712.0\n",
      "41134172.0\n",
      "34411720.0\n",
      "20434678.0\n",
      "41175656.0\n",
      "41700532.0\n",
      "38017580.0\n",
      "53061112.0\n",
      "54766656.0\n",
      "39694904.0\n",
      "74494944.0\n",
      "32729202.0\n"
     ]
    },
    {
     "name": "stderr",
     "output_type": "stream",
     "text": [
      " 13%|█▎        | 324/2500 [00:03<00:24, 87.07it/s]"
     ]
    },
    {
     "name": "stdout",
     "output_type": "stream",
     "text": [
      "47322176.0\n",
      "39493912.0\n"
     ]
    },
    {
     "name": "stderr",
     "output_type": "stream",
     "text": [
      " 13%|█▎        | 333/2500 [00:03<00:24, 87.24it/s]"
     ]
    },
    {
     "name": "stdout",
     "output_type": "stream",
     "text": [
      "27807320.0\n",
      "29638318.0\n",
      "36715884.0\n",
      "49794488.0\n",
      "37189024.0\n",
      "20496250.0\n",
      "26404782.0\n",
      "30913558.0\n",
      "35543720.0\n",
      "40013408.0\n",
      "35179488.0\n",
      "44192832.0\n",
      "33180796.0\n",
      "25844432.0\n",
      "39842768.0\n",
      "37267672.0\n"
     ]
    },
    {
     "name": "stderr",
     "output_type": "stream",
     "text": [
      " 14%|█▎        | 342/2500 [00:03<00:24, 87.32it/s]"
     ]
    },
    {
     "name": "stdout",
     "output_type": "stream",
     "text": [
      "20384804.0\n",
      "34784288.0\n"
     ]
    },
    {
     "name": "stderr",
     "output_type": "stream",
     "text": [
      " 14%|█▍        | 351/2500 [00:04<00:24, 87.37it/s]"
     ]
    },
    {
     "name": "stdout",
     "output_type": "stream",
     "text": [
      "38540424.0\n",
      "37536032.0\n",
      "49555448.0\n",
      "34966912.0\n",
      "46505844.0\n",
      "44789148.0\n",
      "30038930.0\n",
      "31373684.0\n",
      "38369060.0\n",
      "31791332.0\n",
      "38399148.0\n",
      "65035688.0\n",
      "29928316.0\n",
      "37784716.0\n",
      "47047456.0\n",
      "44695112.0\n"
     ]
    },
    {
     "name": "stderr",
     "output_type": "stream",
     "text": [
      " 14%|█▍        | 360/2500 [00:04<00:24, 87.37it/s]"
     ]
    },
    {
     "name": "stdout",
     "output_type": "stream",
     "text": [
      "36846816.0\n",
      "30130722.0\n"
     ]
    },
    {
     "name": "stderr",
     "output_type": "stream",
     "text": [
      " 15%|█▍        | 369/2500 [00:04<00:24, 87.27it/s]"
     ]
    },
    {
     "name": "stdout",
     "output_type": "stream",
     "text": [
      "35771748.0\n",
      "24816486.0\n",
      "52640624.0\n",
      "26503204.0\n",
      "46123368.0\n",
      "26789048.0\n",
      "40967384.0\n",
      "24503122.0\n",
      "35301960.0\n",
      "29435462.0\n",
      "31993630.0\n",
      "31887356.0\n",
      "49911048.0\n",
      "33202424.0\n",
      "32067392.0\n",
      "52436168.0\n"
     ]
    },
    {
     "name": "stderr",
     "output_type": "stream",
     "text": [
      " 15%|█▌        | 378/2500 [00:04<00:24, 87.41it/s]"
     ]
    },
    {
     "name": "stdout",
     "output_type": "stream",
     "text": [
      "42415840.0\n",
      "23552702.0\n"
     ]
    },
    {
     "name": "stderr",
     "output_type": "stream",
     "text": [
      " 15%|█▌        | 387/2500 [00:04<00:24, 87.49it/s]"
     ]
    },
    {
     "name": "stdout",
     "output_type": "stream",
     "text": [
      "38872404.0\n",
      "55050176.0\n",
      "20328072.0\n",
      "27560724.0\n",
      "46722600.0\n",
      "40198816.0\n",
      "35196184.0\n",
      "41571560.0\n",
      "47046276.0\n",
      "27371536.0\n",
      "31582412.0\n",
      "57724884.0\n",
      "22508188.0\n",
      "22243008.0\n",
      "52795184.0\n",
      "48487100.0\n"
     ]
    },
    {
     "name": "stderr",
     "output_type": "stream",
     "text": [
      " 16%|█▌        | 396/2500 [00:04<00:24, 87.41it/s]"
     ]
    },
    {
     "name": "stdout",
     "output_type": "stream",
     "text": [
      "23998932.0\n",
      "30623976.0\n"
     ]
    },
    {
     "name": "stderr",
     "output_type": "stream",
     "text": [
      " 16%|█▌        | 405/2500 [00:04<00:23, 87.50it/s]"
     ]
    },
    {
     "name": "stdout",
     "output_type": "stream",
     "text": [
      "35853012.0\n",
      "36595940.0\n",
      "34305380.0\n",
      "55806304.0\n",
      "43962328.0\n",
      "25062896.0\n",
      "33157490.0\n",
      "22608720.0\n",
      "40382076.0\n",
      "77077456.0\n",
      "25127624.0\n",
      "28782032.0\n",
      "28932286.0\n",
      "36856132.0\n",
      "23711808.0\n",
      "26082160.0\n"
     ]
    },
    {
     "name": "stderr",
     "output_type": "stream",
     "text": [
      " 17%|█▋        | 414/2500 [00:04<00:23, 87.46it/s]"
     ]
    },
    {
     "name": "stdout",
     "output_type": "stream",
     "text": [
      "25870414.0\n",
      "23688964.0\n"
     ]
    },
    {
     "name": "stderr",
     "output_type": "stream",
     "text": [
      " 17%|█▋        | 423/2500 [00:04<00:23, 87.47it/s]"
     ]
    },
    {
     "name": "stdout",
     "output_type": "stream",
     "text": [
      "35376836.0\n",
      "22578408.0\n",
      "28297996.0\n",
      "24478272.0\n",
      "17891514.0\n",
      "38021832.0\n",
      "18211640.0\n",
      "30659272.0\n",
      "30415662.0\n",
      "39122244.0\n",
      "40416848.0\n",
      "25768232.0\n",
      "26980512.0\n",
      "32403310.0\n",
      "22126988.0\n",
      "19266486.0\n"
     ]
    },
    {
     "name": "stderr",
     "output_type": "stream",
     "text": [
      " 17%|█▋        | 432/2500 [00:04<00:23, 87.40it/s]"
     ]
    },
    {
     "name": "stdout",
     "output_type": "stream",
     "text": [
      "23740890.0\n",
      "27837496.0\n"
     ]
    },
    {
     "name": "stderr",
     "output_type": "stream",
     "text": [
      " 18%|█▊        | 441/2500 [00:05<00:23, 87.19it/s]"
     ]
    },
    {
     "name": "stdout",
     "output_type": "stream",
     "text": [
      "31212736.0\n",
      "33445140.0\n",
      "30749548.0\n",
      "39088568.0\n",
      "26083322.0\n",
      "34245368.0\n",
      "15739865.0\n",
      "22190100.0\n",
      "24090672.0\n",
      "25876508.0\n",
      "23409162.0\n",
      "25886404.0\n",
      "32453342.0\n",
      "44883616.0\n",
      "26110008.0\n",
      "41476284.0\n"
     ]
    },
    {
     "name": "stderr",
     "output_type": "stream",
     "text": [
      " 18%|█▊        | 450/2500 [00:05<00:23, 87.05it/s]"
     ]
    },
    {
     "name": "stdout",
     "output_type": "stream",
     "text": [
      "25621758.0\n",
      "23729480.0\n"
     ]
    },
    {
     "name": "stderr",
     "output_type": "stream",
     "text": [
      " 18%|█▊        | 459/2500 [00:05<00:23, 86.88it/s]"
     ]
    },
    {
     "name": "stdout",
     "output_type": "stream",
     "text": [
      "21359108.0\n",
      "30839654.0\n",
      "13769512.0\n",
      "30244352.0\n",
      "23027378.0\n",
      "14602728.0\n",
      "23202754.0\n",
      "21689292.0\n",
      "22524662.0\n",
      "19930598.0\n",
      "16642711.0\n",
      "27487088.0\n",
      "19514884.0\n",
      "18002438.0\n",
      "13547954.0\n",
      "29126448.0\n"
     ]
    },
    {
     "name": "stderr",
     "output_type": "stream",
     "text": [
      " 19%|█▊        | 468/2500 [00:05<00:23, 86.80it/s]"
     ]
    },
    {
     "name": "stdout",
     "output_type": "stream",
     "text": [
      "28102800.0\n",
      "22368440.0\n"
     ]
    },
    {
     "name": "stderr",
     "output_type": "stream",
     "text": [
      " 19%|█▉        | 477/2500 [00:05<00:23, 86.86it/s]"
     ]
    },
    {
     "name": "stdout",
     "output_type": "stream",
     "text": [
      "26577852.0\n",
      "22986468.0\n",
      "24288896.0\n",
      "31590696.0\n",
      "33494220.0\n",
      "22644564.0\n",
      "21446038.0\n",
      "27762344.0\n",
      "23373340.0\n",
      "22392170.0\n",
      "26535720.0\n",
      "21878780.0\n",
      "21018060.0\n",
      "23698026.0\n",
      "12557066.0\n",
      "27056696.0\n"
     ]
    },
    {
     "name": "stderr",
     "output_type": "stream",
     "text": [
      " 19%|█▉        | 486/2500 [00:05<00:23, 86.93it/s]"
     ]
    },
    {
     "name": "stdout",
     "output_type": "stream",
     "text": [
      "20187640.0\n",
      "22529502.0\n"
     ]
    },
    {
     "name": "stderr",
     "output_type": "stream",
     "text": [
      " 20%|█▉        | 495/2500 [00:05<00:23, 87.05it/s]"
     ]
    },
    {
     "name": "stdout",
     "output_type": "stream",
     "text": [
      "19807968.0\n",
      "17915860.0\n",
      "15309763.0\n",
      "22051620.0\n",
      "11074556.0\n",
      "15021270.0\n",
      "10896063.0\n",
      "19745772.0\n",
      "24300062.0\n",
      "9342822.0\n",
      "11097058.0\n",
      "24801108.0\n",
      "15669046.0\n",
      "12911380.0\n",
      "13114057.0\n",
      "18050656.0\n"
     ]
    },
    {
     "name": "stderr",
     "output_type": "stream",
     "text": [
      " 20%|██        | 504/2500 [00:05<00:23, 86.49it/s]"
     ]
    },
    {
     "name": "stdout",
     "output_type": "stream",
     "text": [
      "22919504.0\n",
      "23056844.0\n"
     ]
    },
    {
     "name": "stderr",
     "output_type": "stream",
     "text": [
      " 21%|██        | 513/2500 [00:05<00:23, 86.27it/s]"
     ]
    },
    {
     "name": "stdout",
     "output_type": "stream",
     "text": [
      "20083798.0\n",
      "32724428.0\n",
      "22590724.0\n",
      "23276848.0\n",
      "10218978.0\n",
      "11159538.0\n",
      "25912156.0\n",
      "18573934.0\n",
      "15157573.0\n",
      "22464832.0\n",
      "19851756.0\n",
      "13590994.0\n",
      "22624192.0\n",
      "25193100.0\n",
      "24480294.0\n",
      "16863500.0\n"
     ]
    },
    {
     "name": "stderr",
     "output_type": "stream",
     "text": [
      " 21%|██        | 522/2500 [00:06<00:23, 85.97it/s]"
     ]
    },
    {
     "name": "stdout",
     "output_type": "stream",
     "text": [
      "24944928.0\n",
      "12737707.0\n"
     ]
    },
    {
     "name": "stderr",
     "output_type": "stream",
     "text": [
      " 21%|██        | 531/2500 [00:06<00:23, 85.59it/s]"
     ]
    },
    {
     "name": "stdout",
     "output_type": "stream",
     "text": [
      "10775257.0\n",
      "21132592.0\n",
      "18583422.0\n",
      "7808009.0\n",
      "19442872.0\n",
      "14475172.0\n",
      "28591928.0\n",
      "22551694.0\n",
      "26380244.0\n",
      "19444012.0\n",
      "16451685.0\n",
      "10862294.0\n",
      "21897560.0\n",
      "13360017.0\n",
      "17343738.0\n",
      "9186714.0\n"
     ]
    },
    {
     "name": "stderr",
     "output_type": "stream",
     "text": [
      " 22%|██▏       | 540/2500 [00:06<00:22, 85.47it/s]"
     ]
    },
    {
     "name": "stdout",
     "output_type": "stream",
     "text": [
      "13935346.0\n",
      "11431658.0\n"
     ]
    },
    {
     "name": "stderr",
     "output_type": "stream",
     "text": [
      " 22%|██▏       | 549/2500 [00:06<00:22, 85.65it/s]"
     ]
    },
    {
     "name": "stdout",
     "output_type": "stream",
     "text": [
      "14094807.0\n",
      "15388432.0\n",
      "6440743.0\n",
      "10816236.0\n",
      "13287698.0\n",
      "20872676.0\n",
      "15277197.0\n",
      "17236302.0\n",
      "12315865.0\n",
      "11160762.0\n",
      "11404980.0\n",
      "18794586.0\n",
      "14730150.0\n",
      "18990012.0\n",
      "11200724.0\n",
      "17025492.0\n"
     ]
    },
    {
     "name": "stderr",
     "output_type": "stream",
     "text": [
      " 22%|██▏       | 558/2500 [00:06<00:22, 85.74it/s]"
     ]
    },
    {
     "name": "stdout",
     "output_type": "stream",
     "text": [
      "21352870.0\n",
      "13825298.0\n"
     ]
    },
    {
     "name": "stderr",
     "output_type": "stream",
     "text": [
      " 23%|██▎       | 567/2500 [00:06<00:22, 86.15it/s]"
     ]
    },
    {
     "name": "stdout",
     "output_type": "stream",
     "text": [
      "17920228.0\n",
      "15851270.0\n",
      "25523636.0\n",
      "12782245.0\n",
      "13944435.0\n",
      "11917046.0\n",
      "11851234.0\n",
      "10613956.0\n",
      "13709099.0\n",
      "12273260.0\n",
      "13738238.0\n",
      "16510246.0\n",
      "21820784.0\n",
      "13328340.0\n",
      "18573092.0\n",
      "17591474.0\n"
     ]
    },
    {
     "name": "stderr",
     "output_type": "stream",
     "text": [
      " 23%|██▎       | 576/2500 [00:06<00:22, 86.45it/s]"
     ]
    },
    {
     "name": "stdout",
     "output_type": "stream",
     "text": [
      "23331286.0\n",
      "18980920.0\n"
     ]
    },
    {
     "name": "stderr",
     "output_type": "stream",
     "text": [
      " 23%|██▎       | 585/2500 [00:06<00:22, 86.63it/s]"
     ]
    },
    {
     "name": "stdout",
     "output_type": "stream",
     "text": [
      "15922756.0\n",
      "22935404.0\n",
      "9622448.0\n",
      "11987926.0\n",
      "16951404.0\n",
      "21393944.0\n",
      "18869380.0\n",
      "9504878.0\n",
      "13642083.0\n",
      "10797614.0\n",
      "6999517.0\n",
      "13545495.0\n",
      "21436712.0\n",
      "11709096.0\n",
      "11821976.0\n",
      "10343488.0\n"
     ]
    },
    {
     "name": "stderr",
     "output_type": "stream",
     "text": [
      " 24%|██▍       | 594/2500 [00:06<00:21, 86.72it/s]"
     ]
    },
    {
     "name": "stdout",
     "output_type": "stream",
     "text": [
      "33326952.0\n",
      "14035913.0\n"
     ]
    },
    {
     "name": "stderr",
     "output_type": "stream",
     "text": [
      " 24%|██▍       | 603/2500 [00:06<00:21, 86.71it/s]"
     ]
    },
    {
     "name": "stdout",
     "output_type": "stream",
     "text": [
      "20050948.0\n",
      "9839055.0\n",
      "9119192.0\n",
      "10107714.0\n",
      "13598518.0\n",
      "18271884.0\n",
      "14812645.0\n",
      "13295665.0\n",
      "11727072.0\n",
      "13461770.0\n",
      "12504344.0\n",
      "11609834.0\n",
      "20515634.0\n",
      "11999157.0\n",
      "13135320.0\n",
      "18230486.0\n"
     ]
    },
    {
     "name": "stderr",
     "output_type": "stream",
     "text": [
      " 24%|██▍       | 612/2500 [00:07<00:21, 86.72it/s]"
     ]
    },
    {
     "name": "stdout",
     "output_type": "stream",
     "text": [
      "12038590.0\n",
      "9443574.0\n"
     ]
    },
    {
     "name": "stderr",
     "output_type": "stream",
     "text": [
      " 25%|██▍       | 621/2500 [00:07<00:21, 86.89it/s]"
     ]
    },
    {
     "name": "stdout",
     "output_type": "stream",
     "text": [
      "20001350.0\n",
      "16560484.0\n",
      "19133004.0\n",
      "10916461.0\n",
      "13962274.0\n",
      "12882644.0\n",
      "12624106.0\n",
      "12274143.0\n",
      "17011684.0\n",
      "15571160.0\n",
      "21093628.0\n",
      "13344223.0\n",
      "15987835.0\n",
      "12434935.0\n",
      "23237368.0\n",
      "24251168.0\n"
     ]
    },
    {
     "name": "stderr",
     "output_type": "stream",
     "text": [
      " 25%|██▌       | 630/2500 [00:07<00:21, 87.04it/s]"
     ]
    },
    {
     "name": "stdout",
     "output_type": "stream",
     "text": [
      "10353672.0\n",
      "18977560.0\n"
     ]
    },
    {
     "name": "stderr",
     "output_type": "stream",
     "text": [
      " 26%|██▌       | 639/2500 [00:07<00:21, 86.95it/s]"
     ]
    },
    {
     "name": "stdout",
     "output_type": "stream",
     "text": [
      "17719060.0\n",
      "20833928.0\n",
      "21108704.0\n",
      "13086243.0\n",
      "9245538.0\n",
      "9116196.0\n",
      "16725236.0\n",
      "15972018.0\n",
      "11872764.0\n",
      "5887719.0\n",
      "33131068.0\n",
      "9200152.0\n",
      "13333171.0\n",
      "12750054.0\n",
      "16058662.0\n",
      "11458420.0\n"
     ]
    },
    {
     "name": "stderr",
     "output_type": "stream",
     "text": [
      " 26%|██▌       | 648/2500 [00:07<00:21, 87.01it/s]"
     ]
    },
    {
     "name": "stdout",
     "output_type": "stream",
     "text": [
      "14803354.0\n",
      "8795477.0\n"
     ]
    },
    {
     "name": "stderr",
     "output_type": "stream",
     "text": [
      " 26%|██▋       | 657/2500 [00:07<00:21, 87.07it/s]"
     ]
    },
    {
     "name": "stdout",
     "output_type": "stream",
     "text": [
      "13171278.0\n",
      "15925634.0\n",
      "13042462.0\n",
      "7950828.0\n",
      "13349164.0\n",
      "20606108.0\n",
      "16852408.0\n",
      "10571318.0\n",
      "15857385.0\n",
      "7655710.5\n",
      "8025618.0\n",
      "24453972.0\n",
      "13482723.0\n",
      "16422158.0\n",
      "15992865.0\n",
      "19336506.0\n"
     ]
    },
    {
     "name": "stderr",
     "output_type": "stream",
     "text": [
      " 27%|██▋       | 666/2500 [00:07<00:21, 87.17it/s]"
     ]
    },
    {
     "name": "stdout",
     "output_type": "stream",
     "text": [
      "23187668.0\n",
      "12190105.0\n"
     ]
    },
    {
     "name": "stderr",
     "output_type": "stream",
     "text": [
      " 27%|██▋       | 675/2500 [00:07<00:20, 87.12it/s]"
     ]
    },
    {
     "name": "stdout",
     "output_type": "stream",
     "text": [
      "9819474.0\n",
      "11899714.0\n",
      "15731517.0\n",
      "11713852.0\n",
      "10878986.0\n",
      "24964276.0\n",
      "15231336.0\n",
      "8066986.5\n",
      "15853319.0\n",
      "14256478.0\n",
      "10584104.0\n",
      "17677584.0\n",
      "10972154.0\n",
      "15484302.0\n",
      "11121544.0\n",
      "25840576.0\n"
     ]
    },
    {
     "name": "stderr",
     "output_type": "stream",
     "text": [
      " 27%|██▋       | 684/2500 [00:07<00:20, 87.07it/s]"
     ]
    },
    {
     "name": "stdout",
     "output_type": "stream",
     "text": [
      "8545980.0\n",
      "17295436.0\n"
     ]
    },
    {
     "name": "stderr",
     "output_type": "stream",
     "text": [
      " 28%|██▊       | 693/2500 [00:07<00:20, 87.05it/s]"
     ]
    },
    {
     "name": "stdout",
     "output_type": "stream",
     "text": [
      "29975172.0\n",
      "9639930.0\n",
      "9803179.0\n",
      "20070550.0\n",
      "14247206.0\n",
      "8079601.0\n",
      "4736014.5\n",
      "10220070.0\n",
      "10340651.0\n",
      "16111465.0\n",
      "21845320.0\n",
      "13352974.0\n",
      "23034232.0\n",
      "22178156.0\n",
      "12662584.0\n",
      "11226454.0\n"
     ]
    },
    {
     "name": "stderr",
     "output_type": "stream",
     "text": [
      " 28%|██▊       | 702/2500 [00:08<00:20, 87.11it/s]"
     ]
    },
    {
     "name": "stdout",
     "output_type": "stream",
     "text": [
      "11956454.0\n",
      "12570024.0\n"
     ]
    },
    {
     "name": "stderr",
     "output_type": "stream",
     "text": [
      " 28%|██▊       | 711/2500 [00:08<00:20, 86.97it/s]"
     ]
    },
    {
     "name": "stdout",
     "output_type": "stream",
     "text": [
      "16824176.0\n",
      "12699639.0\n",
      "15815478.0\n",
      "11622042.0\n",
      "16471810.0\n",
      "13224365.0\n",
      "21670062.0\n",
      "11609568.0\n",
      "18202222.0\n",
      "17399566.0\n",
      "15021278.0\n",
      "25076892.0\n",
      "12746672.0\n",
      "13183665.0\n",
      "8135137.5\n",
      "10441530.0\n"
     ]
    },
    {
     "name": "stderr",
     "output_type": "stream",
     "text": [
      " 29%|██▉       | 720/2500 [00:08<00:20, 86.93it/s]"
     ]
    },
    {
     "name": "stdout",
     "output_type": "stream",
     "text": [
      "8396274.0\n",
      "11002572.0\n"
     ]
    },
    {
     "name": "stderr",
     "output_type": "stream",
     "text": [
      " 29%|██▉       | 729/2500 [00:08<00:20, 86.75it/s]"
     ]
    },
    {
     "name": "stdout",
     "output_type": "stream",
     "text": [
      "9189700.0\n",
      "18311974.0\n",
      "8993342.0\n",
      "7050904.0\n",
      "11267436.0\n",
      "8172790.0\n",
      "17587520.0\n",
      "10092324.0\n",
      "11882838.0\n",
      "17601930.0\n",
      "12689726.0\n",
      "9537150.0\n",
      "11963338.0\n",
      "14416874.0\n",
      "13627284.0\n",
      "10917196.0\n"
     ]
    },
    {
     "name": "stderr",
     "output_type": "stream",
     "text": [
      " 30%|██▉       | 738/2500 [00:08<00:20, 86.43it/s]"
     ]
    },
    {
     "name": "stdout",
     "output_type": "stream",
     "text": [
      "10411068.0\n",
      "13976352.0\n"
     ]
    },
    {
     "name": "stderr",
     "output_type": "stream",
     "text": [
      " 30%|██▉       | 747/2500 [00:08<00:20, 86.23it/s]"
     ]
    },
    {
     "name": "stdout",
     "output_type": "stream",
     "text": [
      "12749692.0\n",
      "12088421.0\n",
      "7392924.0\n",
      "7834872.5\n",
      "23738372.0\n",
      "6248862.5\n",
      "9567663.0\n",
      "14945838.0\n",
      "7281781.0\n",
      "16431446.0\n",
      "20448620.0\n",
      "13298554.0\n",
      "11852448.0\n",
      "22831278.0\n",
      "16650142.0\n",
      "9471919.0\n"
     ]
    },
    {
     "name": "stderr",
     "output_type": "stream",
     "text": [
      " 30%|███       | 756/2500 [00:08<00:20, 86.06it/s]"
     ]
    },
    {
     "name": "stdout",
     "output_type": "stream",
     "text": [
      "20711488.0\n",
      "8192301.0\n"
     ]
    },
    {
     "name": "stderr",
     "output_type": "stream",
     "text": [
      " 31%|███       | 765/2500 [00:08<00:20, 85.87it/s]"
     ]
    },
    {
     "name": "stdout",
     "output_type": "stream",
     "text": [
      "13416452.0\n",
      "7686636.5\n",
      "20105192.0\n",
      "17532598.0\n",
      "19428962.0\n",
      "17076474.0\n",
      "16040928.0\n",
      "14573752.0\n",
      "10577779.0\n",
      "10468176.0\n",
      "8648932.0\n",
      "17278264.0\n",
      "13652184.0\n",
      "12688080.0\n",
      "11446895.0\n",
      "9788133.0\n"
     ]
    },
    {
     "name": "stderr",
     "output_type": "stream",
     "text": [
      " 31%|███       | 774/2500 [00:08<00:20, 86.10it/s]"
     ]
    },
    {
     "name": "stdout",
     "output_type": "stream",
     "text": [
      "12655453.0\n",
      "16961364.0\n"
     ]
    },
    {
     "name": "stderr",
     "output_type": "stream",
     "text": [
      " 31%|███▏      | 783/2500 [00:09<00:19, 86.37it/s]"
     ]
    },
    {
     "name": "stdout",
     "output_type": "stream",
     "text": [
      "10845945.0\n",
      "6005557.5\n",
      "20343646.0\n",
      "16351938.0\n",
      "15509052.0\n",
      "9320750.0\n",
      "12081018.0\n",
      "15778030.0\n",
      "7724036.5\n",
      "9891725.0\n",
      "14174521.0\n",
      "7619893.5\n",
      "8117666.0\n",
      "12997119.0\n",
      "12636102.0\n",
      "8908304.0\n"
     ]
    },
    {
     "name": "stderr",
     "output_type": "stream",
     "text": [
      " 32%|███▏      | 792/2500 [00:09<00:19, 86.54it/s]"
     ]
    },
    {
     "name": "stdout",
     "output_type": "stream",
     "text": [
      "9217170.0\n",
      "9561426.0\n"
     ]
    },
    {
     "name": "stderr",
     "output_type": "stream",
     "text": [
      " 32%|███▏      | 801/2500 [00:09<00:19, 86.66it/s]"
     ]
    },
    {
     "name": "stdout",
     "output_type": "stream",
     "text": [
      "7229594.0\n",
      "8020533.0\n",
      "17099712.0\n",
      "10243008.0\n",
      "13466986.0\n",
      "15469495.0\n",
      "10224613.0\n",
      "6893410.5\n",
      "15963549.0\n",
      "27032840.0\n",
      "9499085.0\n",
      "9645285.0\n",
      "12375529.0\n",
      "13642640.0\n",
      "17553820.0\n",
      "11502450.0\n"
     ]
    },
    {
     "name": "stderr",
     "output_type": "stream",
     "text": [
      " 32%|███▏      | 810/2500 [00:09<00:19, 86.55it/s]"
     ]
    },
    {
     "name": "stdout",
     "output_type": "stream",
     "text": [
      "12882805.0\n",
      "13528180.0\n"
     ]
    },
    {
     "name": "stderr",
     "output_type": "stream",
     "text": [
      " 33%|███▎      | 819/2500 [00:09<00:19, 86.73it/s]"
     ]
    },
    {
     "name": "stdout",
     "output_type": "stream",
     "text": [
      "8049564.0\n",
      "17355158.0\n",
      "13575125.0\n",
      "9809462.0\n",
      "21624910.0\n",
      "15175926.0\n",
      "19144184.0\n",
      "14568972.0\n",
      "15009527.0\n",
      "8924324.0\n",
      "30175624.0\n",
      "11355254.0\n",
      "9587491.0\n",
      "9086709.0\n",
      "17290742.0\n",
      "9840830.0\n"
     ]
    },
    {
     "name": "stderr",
     "output_type": "stream",
     "text": [
      " 33%|███▎      | 828/2500 [00:09<00:19, 86.86it/s]"
     ]
    },
    {
     "name": "stdout",
     "output_type": "stream",
     "text": [
      "14529005.0\n",
      "8101713.5\n"
     ]
    },
    {
     "name": "stderr",
     "output_type": "stream",
     "text": [
      " 33%|███▎      | 837/2500 [00:09<00:19, 86.89it/s]"
     ]
    },
    {
     "name": "stdout",
     "output_type": "stream",
     "text": [
      "9718244.0\n",
      "9999130.0\n",
      "6714995.0\n",
      "12330891.0\n",
      "7955082.0\n",
      "12760942.0\n",
      "12994274.0\n",
      "14469400.0\n",
      "8848011.0\n",
      "9975310.0\n",
      "14554469.0\n",
      "7778077.5\n",
      "17444008.0\n",
      "10414822.0\n",
      "7621217.0\n",
      "14919688.0\n"
     ]
    },
    {
     "name": "stderr",
     "output_type": "stream",
     "text": [
      " 34%|███▍      | 846/2500 [00:09<00:19, 86.90it/s]"
     ]
    },
    {
     "name": "stdout",
     "output_type": "stream",
     "text": [
      "9586911.0\n",
      "5070698.0\n"
     ]
    },
    {
     "name": "stderr",
     "output_type": "stream",
     "text": [
      " 34%|███▍      | 855/2500 [00:09<00:18, 86.84it/s]"
     ]
    },
    {
     "name": "stdout",
     "output_type": "stream",
     "text": [
      "10119373.0\n",
      "12656088.0\n",
      "12378724.0\n",
      "5188437.0\n",
      "10462770.0\n",
      "18300272.0\n",
      "6964920.0\n",
      "10988366.0\n",
      "12000992.0\n",
      "13422018.0\n",
      "8541612.0\n",
      "13565101.0\n",
      "15082872.0\n",
      "14937601.0\n",
      "7533125.0\n",
      "9836027.0\n"
     ]
    },
    {
     "name": "stderr",
     "output_type": "stream",
     "text": [
      " 35%|███▍      | 864/2500 [00:09<00:18, 86.76it/s]"
     ]
    },
    {
     "name": "stdout",
     "output_type": "stream",
     "text": [
      "14793795.0\n",
      "8204339.5\n"
     ]
    },
    {
     "name": "stderr",
     "output_type": "stream",
     "text": [
      " 35%|███▍      | 873/2500 [00:10<00:18, 86.50it/s]"
     ]
    },
    {
     "name": "stdout",
     "output_type": "stream",
     "text": [
      "9204410.0\n",
      "11238754.0\n",
      "15724083.0\n",
      "11121316.0\n",
      "13543090.0\n",
      "6026151.0\n",
      "12933188.0\n",
      "19982406.0\n",
      "14503887.0\n",
      "14027232.0\n",
      "9556154.0\n",
      "21097914.0\n",
      "15841505.0\n",
      "8117760.5\n",
      "8607161.0\n",
      "11945912.0\n"
     ]
    },
    {
     "name": "stderr",
     "output_type": "stream",
     "text": [
      " 35%|███▌      | 882/2500 [00:10<00:18, 86.09it/s]"
     ]
    },
    {
     "name": "stdout",
     "output_type": "stream",
     "text": [
      "13384536.0\n",
      "6253793.0\n"
     ]
    },
    {
     "name": "stderr",
     "output_type": "stream",
     "text": [
      " 36%|███▌      | 891/2500 [00:10<00:18, 85.69it/s]"
     ]
    },
    {
     "name": "stdout",
     "output_type": "stream",
     "text": [
      "12308294.0\n",
      "10483472.0\n",
      "15837140.0\n",
      "10982356.0\n",
      "11962230.0\n",
      "12495481.0\n",
      "15640410.0\n",
      "7707180.0\n",
      "5754106.0\n",
      "10088670.0\n",
      "13380270.0\n",
      "17332842.0\n",
      "7367317.0\n",
      "11742628.0\n",
      "15021371.0\n",
      "15174270.0\n"
     ]
    },
    {
     "name": "stderr",
     "output_type": "stream",
     "text": [
      " 36%|███▌      | 900/2500 [00:10<00:18, 85.99it/s]"
     ]
    },
    {
     "name": "stdout",
     "output_type": "stream",
     "text": [
      "10303277.0\n",
      "27507538.0\n"
     ]
    },
    {
     "name": "stderr",
     "output_type": "stream",
     "text": [
      " 36%|███▋      | 909/2500 [00:10<00:18, 86.28it/s]"
     ]
    },
    {
     "name": "stdout",
     "output_type": "stream",
     "text": [
      "8757752.0\n",
      "9046192.0\n",
      "15189810.0\n",
      "13874056.0\n",
      "11973080.0\n",
      "15142408.0\n",
      "17356342.0\n",
      "7343419.0\n",
      "6357460.0\n",
      "13233210.0\n",
      "10701376.0\n",
      "8617765.0\n",
      "11662086.0\n",
      "11748791.0\n",
      "11534808.0\n",
      "16100297.0\n"
     ]
    },
    {
     "name": "stderr",
     "output_type": "stream",
     "text": [
      " 37%|███▋      | 918/2500 [00:10<00:18, 86.54it/s]"
     ]
    },
    {
     "name": "stdout",
     "output_type": "stream",
     "text": [
      "8603822.0\n",
      "13852299.0\n"
     ]
    },
    {
     "name": "stderr",
     "output_type": "stream",
     "text": [
      " 37%|███▋      | 927/2500 [00:10<00:18, 86.55it/s]"
     ]
    },
    {
     "name": "stdout",
     "output_type": "stream",
     "text": [
      "9952224.0\n",
      "12476074.0\n",
      "10039833.0\n",
      "11165420.0\n",
      "7733697.5\n",
      "13132424.0\n",
      "15046771.0\n",
      "14548026.0\n",
      "3780121.5\n",
      "7315012.5\n",
      "15324692.0\n",
      "7663409.0\n",
      "11958743.0\n",
      "21320200.0\n",
      "25107176.0\n",
      "6973076.0\n"
     ]
    },
    {
     "name": "stderr",
     "output_type": "stream",
     "text": [
      " 37%|███▋      | 936/2500 [00:10<00:18, 86.56it/s]"
     ]
    },
    {
     "name": "stdout",
     "output_type": "stream",
     "text": [
      "8630924.0\n",
      "10339901.0\n"
     ]
    },
    {
     "name": "stderr",
     "output_type": "stream",
     "text": [
      " 38%|███▊      | 945/2500 [00:10<00:17, 86.68it/s]"
     ]
    },
    {
     "name": "stdout",
     "output_type": "stream",
     "text": [
      "9082944.0\n",
      "11407202.0\n",
      "11566413.0\n",
      "10401746.0\n",
      "13176874.0\n",
      "11622630.0\n",
      "13969794.0\n",
      "8005942.0\n",
      "11833031.0\n",
      "12157570.0\n",
      "9254719.0\n",
      "12793164.0\n",
      "13402014.0\n",
      "12049099.0\n",
      "13609192.0\n",
      "14196526.0\n"
     ]
    },
    {
     "name": "stderr",
     "output_type": "stream",
     "text": [
      " 38%|███▊      | 954/2500 [00:11<00:17, 86.84it/s]"
     ]
    },
    {
     "name": "stdout",
     "output_type": "stream",
     "text": [
      "15631482.0\n",
      "17861314.0\n"
     ]
    },
    {
     "name": "stderr",
     "output_type": "stream",
     "text": [
      " 39%|███▊      | 963/2500 [00:11<00:17, 86.94it/s]"
     ]
    },
    {
     "name": "stdout",
     "output_type": "stream",
     "text": [
      "8690773.0\n",
      "9882360.0\n",
      "16862102.0\n",
      "11427198.0\n",
      "8396706.0\n",
      "12866340.0\n",
      "16438949.0\n",
      "7683642.0\n",
      "7250782.0\n",
      "17546532.0\n",
      "9435688.0\n",
      "16902890.0\n",
      "7297230.0\n",
      "15370462.0\n",
      "12111629.0\n",
      "9369693.0\n"
     ]
    },
    {
     "name": "stderr",
     "output_type": "stream",
     "text": [
      " 39%|███▉      | 972/2500 [00:11<00:17, 86.93it/s]"
     ]
    },
    {
     "name": "stdout",
     "output_type": "stream",
     "text": [
      "16829886.0\n",
      "15117926.0\n"
     ]
    },
    {
     "name": "stderr",
     "output_type": "stream",
     "text": [
      " 39%|███▉      | 981/2500 [00:11<00:17, 86.93it/s]"
     ]
    },
    {
     "name": "stdout",
     "output_type": "stream",
     "text": [
      "13252136.0\n",
      "9268987.0\n",
      "7176556.5\n",
      "8338578.5\n",
      "9100185.0\n",
      "4678446.5\n",
      "8549176.0\n",
      "10203317.0\n",
      "7710161.5\n",
      "5376711.5\n",
      "7458390.0\n",
      "19401250.0\n",
      "8093433.0\n",
      "22148434.0\n",
      "4464207.0\n",
      "20156036.0\n"
     ]
    },
    {
     "name": "stderr",
     "output_type": "stream",
     "text": [
      " 40%|███▉      | 990/2500 [00:11<00:17, 86.27it/s]"
     ]
    },
    {
     "name": "stdout",
     "output_type": "stream",
     "text": [
      "12422873.0\n",
      "18449996.0\n"
     ]
    },
    {
     "name": "stderr",
     "output_type": "stream",
     "text": [
      " 40%|███▉      | 999/2500 [00:11<00:17, 86.33it/s]"
     ]
    },
    {
     "name": "stdout",
     "output_type": "stream",
     "text": [
      "8445126.0\n",
      "11787692.0\n",
      "8794301.0\n",
      "7202437.0\n",
      "16861642.0\n",
      "19265544.0\n",
      "18937000.0\n",
      "11797452.0\n",
      "15986268.0\n",
      "11029866.0\n",
      "13690320.0\n",
      "7731720.0\n",
      "16130392.0\n",
      "8650002.0\n",
      "13014415.0\n",
      "13641230.0\n"
     ]
    },
    {
     "name": "stderr",
     "output_type": "stream",
     "text": [
      " 40%|████      | 1008/2500 [00:11<00:17, 86.29it/s]"
     ]
    },
    {
     "name": "stdout",
     "output_type": "stream",
     "text": [
      "8819536.0\n",
      "6223552.5\n"
     ]
    },
    {
     "name": "stderr",
     "output_type": "stream",
     "text": [
      " 41%|████      | 1017/2500 [00:11<00:17, 86.49it/s]"
     ]
    },
    {
     "name": "stdout",
     "output_type": "stream",
     "text": [
      "11311888.0\n",
      "24009516.0\n",
      "6967236.0\n",
      "11841641.0\n",
      "7668274.0\n",
      "9639134.0\n",
      "17037496.0\n",
      "11806392.0\n",
      "12417617.0\n",
      "12221271.0\n",
      "8419409.0\n",
      "4962310.0\n",
      "16447381.0\n",
      "5940439.0\n",
      "8557419.0\n",
      "11700356.0\n"
     ]
    },
    {
     "name": "stderr",
     "output_type": "stream",
     "text": [
      " 41%|████      | 1026/2500 [00:11<00:17, 86.64it/s]"
     ]
    },
    {
     "name": "stdout",
     "output_type": "stream",
     "text": [
      "6136346.0\n",
      "11338165.0\n"
     ]
    },
    {
     "name": "stderr",
     "output_type": "stream",
     "text": [
      " 41%|████▏     | 1035/2500 [00:11<00:16, 86.81it/s]"
     ]
    },
    {
     "name": "stdout",
     "output_type": "stream",
     "text": [
      "10539736.0\n",
      "12133836.0\n",
      "8176857.5\n",
      "13992300.0\n",
      "6114466.5\n",
      "11649846.0\n",
      "4415416.0\n",
      "10073399.0\n",
      "6767273.0\n",
      "13579146.0\n",
      "17614224.0\n",
      "11867026.0\n",
      "15018686.0\n",
      "7163136.0\n",
      "11558590.0\n",
      "10331666.0\n"
     ]
    },
    {
     "name": "stderr",
     "output_type": "stream",
     "text": [
      " 42%|████▏     | 1044/2500 [00:12<00:16, 86.89it/s]"
     ]
    },
    {
     "name": "stdout",
     "output_type": "stream",
     "text": [
      "10138527.0\n",
      "8441163.0\n"
     ]
    },
    {
     "name": "stderr",
     "output_type": "stream",
     "text": [
      " 42%|████▏     | 1053/2500 [00:12<00:16, 86.79it/s]"
     ]
    },
    {
     "name": "stdout",
     "output_type": "stream",
     "text": [
      "14198003.0\n",
      "18125784.0\n",
      "15645184.0\n",
      "13993510.0\n",
      "14900196.0\n",
      "7266178.0\n",
      "9535387.0\n",
      "7041288.0\n",
      "8861994.0\n",
      "9848024.0\n",
      "10827996.0\n",
      "9246913.0\n",
      "11444474.0\n",
      "8851767.0\n",
      "17875904.0\n",
      "9684788.0\n"
     ]
    },
    {
     "name": "stderr",
     "output_type": "stream",
     "text": [
      " 42%|████▏     | 1062/2500 [00:12<00:16, 86.79it/s]"
     ]
    },
    {
     "name": "stdout",
     "output_type": "stream",
     "text": [
      "14164179.0\n",
      "7610168.0\n"
     ]
    },
    {
     "name": "stderr",
     "output_type": "stream",
     "text": [
      " 43%|████▎     | 1071/2500 [00:12<00:16, 86.83it/s]"
     ]
    },
    {
     "name": "stdout",
     "output_type": "stream",
     "text": [
      "5501630.5\n",
      "15262418.0\n",
      "6468965.0\n",
      "13343409.0\n",
      "13643093.0\n",
      "8330879.0\n",
      "16954408.0\n",
      "6666955.0\n",
      "6484012.0\n",
      "11521892.0\n",
      "8946950.0\n",
      "7021292.0\n",
      "10269466.0\n",
      "15839518.0\n",
      "19802642.0\n",
      "9845887.0\n"
     ]
    },
    {
     "name": "stderr",
     "output_type": "stream",
     "text": [
      " 43%|████▎     | 1080/2500 [00:12<00:16, 86.60it/s]"
     ]
    },
    {
     "name": "stdout",
     "output_type": "stream",
     "text": [
      "5796896.0\n",
      "11818438.0\n"
     ]
    },
    {
     "name": "stderr",
     "output_type": "stream",
     "text": [
      " 44%|████▎     | 1089/2500 [00:12<00:16, 86.30it/s]"
     ]
    },
    {
     "name": "stdout",
     "output_type": "stream",
     "text": [
      "13751614.0\n",
      "13929012.0\n",
      "8982262.0\n",
      "12570576.0\n",
      "13108715.0\n",
      "5699993.5\n",
      "8569634.0\n",
      "4043143.25\n",
      "11904151.0\n",
      "16898600.0\n",
      "15458522.0\n",
      "7862174.0\n",
      "14692931.0\n",
      "6075861.0\n",
      "7966503.0\n",
      "13914404.0\n"
     ]
    },
    {
     "name": "stderr",
     "output_type": "stream",
     "text": [
      " 44%|████▍     | 1098/2500 [00:12<00:16, 86.14it/s]"
     ]
    },
    {
     "name": "stdout",
     "output_type": "stream",
     "text": [
      "13420608.0\n",
      "7218663.5\n"
     ]
    },
    {
     "name": "stderr",
     "output_type": "stream",
     "text": [
      " 44%|████▍     | 1107/2500 [00:12<00:16, 85.89it/s]"
     ]
    },
    {
     "name": "stdout",
     "output_type": "stream",
     "text": [
      "11984288.0\n",
      "5088403.5\n",
      "12297369.0\n",
      "13179457.0\n",
      "6545129.0\n",
      "3723547.5\n",
      "11168556.0\n",
      "9436531.0\n",
      "7833661.0\n",
      "7294568.0\n",
      "14299007.0\n",
      "12062778.0\n",
      "11270594.0\n",
      "5506588.5\n",
      "17054540.0\n",
      "15263509.0\n"
     ]
    },
    {
     "name": "stderr",
     "output_type": "stream",
     "text": [
      " 45%|████▍     | 1116/2500 [00:12<00:16, 85.71it/s]"
     ]
    },
    {
     "name": "stdout",
     "output_type": "stream",
     "text": [
      "11319182.0\n",
      "4794550.0\n"
     ]
    },
    {
     "name": "stderr",
     "output_type": "stream",
     "text": [
      " 45%|████▌     | 1125/2500 [00:12<00:16, 85.66it/s]"
     ]
    },
    {
     "name": "stdout",
     "output_type": "stream",
     "text": [
      "7420745.0\n",
      "21998926.0\n",
      "13480364.0\n",
      "7426188.0\n",
      "15428516.0\n",
      "13483784.0\n",
      "9294594.0\n",
      "10161296.0\n",
      "17225198.0\n",
      "17546964.0\n",
      "13504356.0\n",
      "7452572.0\n",
      "5377454.5\n",
      "8374569.0\n",
      "10423642.0\n",
      "5316324.0\n"
     ]
    },
    {
     "name": "stderr",
     "output_type": "stream",
     "text": [
      " 45%|████▌     | 1134/2500 [00:13<00:15, 85.51it/s]"
     ]
    },
    {
     "name": "stdout",
     "output_type": "stream",
     "text": [
      "5209699.0\n",
      "8907050.0\n"
     ]
    },
    {
     "name": "stderr",
     "output_type": "stream",
     "text": [
      " 46%|████▌     | 1143/2500 [00:13<00:15, 85.82it/s]"
     ]
    },
    {
     "name": "stdout",
     "output_type": "stream",
     "text": [
      "14212956.0\n",
      "18175784.0\n",
      "10818296.0\n",
      "10740058.0\n",
      "16760714.0\n",
      "8036875.0\n",
      "9739023.0\n",
      "6884789.0\n",
      "4508455.0\n",
      "13419369.0\n",
      "10984866.0\n",
      "8026304.5\n",
      "6622738.0\n",
      "5049793.0\n",
      "9930450.0\n",
      "12379556.0\n"
     ]
    },
    {
     "name": "stderr",
     "output_type": "stream",
     "text": [
      " 46%|████▌     | 1152/2500 [00:13<00:15, 86.05it/s]"
     ]
    },
    {
     "name": "stdout",
     "output_type": "stream",
     "text": [
      "11315866.0\n",
      "9232400.0\n"
     ]
    },
    {
     "name": "stderr",
     "output_type": "stream",
     "text": [
      " 46%|████▋     | 1161/2500 [00:13<00:15, 86.18it/s]"
     ]
    },
    {
     "name": "stdout",
     "output_type": "stream",
     "text": [
      "15358138.0\n",
      "11368298.0\n",
      "13373093.0\n",
      "7298403.0\n",
      "6136130.0\n",
      "9257116.0\n",
      "7647976.5\n",
      "8187184.0\n",
      "18954940.0\n",
      "14121617.0\n",
      "9726972.0\n",
      "10744396.0\n",
      "18894716.0\n",
      "19932372.0\n",
      "8694458.0\n",
      "11683956.0\n"
     ]
    },
    {
     "name": "stderr",
     "output_type": "stream",
     "text": [
      " 47%|████▋     | 1170/2500 [00:13<00:15, 86.25it/s]"
     ]
    },
    {
     "name": "stdout",
     "output_type": "stream",
     "text": [
      "18314582.0\n",
      "9589915.0\n"
     ]
    },
    {
     "name": "stderr",
     "output_type": "stream",
     "text": [
      " 47%|████▋     | 1179/2500 [00:13<00:15, 86.44it/s]"
     ]
    },
    {
     "name": "stdout",
     "output_type": "stream",
     "text": [
      "13609705.0\n",
      "7989844.0\n",
      "8568554.0\n",
      "7241487.0\n",
      "10963948.0\n",
      "5808831.5\n",
      "9163696.0\n",
      "10260180.0\n",
      "10848818.0\n",
      "6336534.0\n",
      "8054258.0\n",
      "10914899.0\n",
      "5214439.0\n",
      "7495326.0\n",
      "14059314.0\n",
      "7664684.0\n"
     ]
    },
    {
     "name": "stderr",
     "output_type": "stream",
     "text": [
      " 48%|████▊     | 1188/2500 [00:13<00:15, 86.56it/s]"
     ]
    },
    {
     "name": "stdout",
     "output_type": "stream",
     "text": [
      "6693834.0\n",
      "4782222.5\n"
     ]
    },
    {
     "name": "stderr",
     "output_type": "stream",
     "text": [
      " 48%|████▊     | 1197/2500 [00:13<00:15, 86.74it/s]"
     ]
    },
    {
     "name": "stdout",
     "output_type": "stream",
     "text": [
      "12901626.0\n",
      "5538014.5\n",
      "14848023.0\n",
      "5943421.0\n",
      "4207635.0\n",
      "11758234.0\n",
      "11906820.0\n",
      "10841640.0\n",
      "11602736.0\n",
      "7994419.0\n",
      "8850284.0\n",
      "16434232.0\n",
      "8880542.0\n",
      "12255514.0\n",
      "6856215.0\n",
      "7430419.0\n"
     ]
    },
    {
     "name": "stderr",
     "output_type": "stream",
     "text": [
      " 48%|████▊     | 1206/2500 [00:13<00:14, 86.89it/s]"
     ]
    },
    {
     "name": "stdout",
     "output_type": "stream",
     "text": [
      "14919306.0\n",
      "13981063.0\n"
     ]
    },
    {
     "name": "stderr",
     "output_type": "stream",
     "text": [
      " 49%|████▊     | 1215/2500 [00:14<00:14, 87.11it/s]"
     ]
    },
    {
     "name": "stdout",
     "output_type": "stream",
     "text": [
      "6391360.0\n",
      "10297633.0\n",
      "15712588.0\n",
      "9907065.0\n",
      "9701867.0\n",
      "16926612.0\n",
      "9041714.0\n",
      "10913353.0\n",
      "6006076.0\n",
      "9029959.0\n",
      "9905885.0\n",
      "14070611.0\n",
      "4568961.0\n",
      "13343266.0\n",
      "9429148.0\n",
      "13391303.0\n"
     ]
    },
    {
     "name": "stderr",
     "output_type": "stream",
     "text": [
      " 49%|████▉     | 1224/2500 [00:14<00:14, 87.20it/s]"
     ]
    },
    {
     "name": "stdout",
     "output_type": "stream",
     "text": [
      "9855883.0\n",
      "5097158.0\n"
     ]
    },
    {
     "name": "stderr",
     "output_type": "stream",
     "text": [
      " 49%|████▉     | 1233/2500 [00:14<00:14, 87.27it/s]"
     ]
    },
    {
     "name": "stdout",
     "output_type": "stream",
     "text": [
      "11302112.0\n",
      "16401582.0\n",
      "2419464.25\n",
      "8068641.0\n",
      "9276620.0\n",
      "8019412.0\n",
      "7433682.0\n",
      "10197526.0\n",
      "15265328.0\n",
      "7627486.5\n",
      "17538056.0\n",
      "5009990.5\n",
      "8357325.5\n",
      "10743380.0\n",
      "11940228.0\n",
      "6869844.0\n"
     ]
    },
    {
     "name": "stderr",
     "output_type": "stream",
     "text": [
      " 50%|████▉     | 1242/2500 [00:14<00:14, 87.22it/s]"
     ]
    },
    {
     "name": "stdout",
     "output_type": "stream",
     "text": [
      "17090702.0\n",
      "14438937.0\n"
     ]
    },
    {
     "name": "stderr",
     "output_type": "stream",
     "text": [
      " 50%|█████     | 1251/2500 [00:14<00:14, 87.24it/s]"
     ]
    },
    {
     "name": "stdout",
     "output_type": "stream",
     "text": [
      "12127304.0\n",
      "20172352.0\n",
      "26714638.0\n",
      "11089494.0\n",
      "9819491.0\n",
      "10470018.0\n",
      "18285684.0\n",
      "36538504.0\n",
      "16956812.0\n",
      "19377656.0\n",
      "12656808.0\n",
      "12477578.0\n",
      "17216912.0\n",
      "15985520.0\n",
      "18740740.0\n",
      "10538867.0\n"
     ]
    },
    {
     "name": "stderr",
     "output_type": "stream",
     "text": [
      " 50%|█████     | 1260/2500 [00:14<00:14, 87.27it/s]"
     ]
    },
    {
     "name": "stdout",
     "output_type": "stream",
     "text": [
      "12337091.0\n",
      "15609531.0\n"
     ]
    },
    {
     "name": "stderr",
     "output_type": "stream",
     "text": [
      " 51%|█████     | 1269/2500 [00:14<00:14, 87.25it/s]"
     ]
    },
    {
     "name": "stdout",
     "output_type": "stream",
     "text": [
      "10228604.0\n",
      "10461646.0\n",
      "13083152.0\n",
      "5854036.0\n",
      "23894616.0\n",
      "17530516.0\n",
      "7354053.5\n",
      "10936420.0\n",
      "22162878.0\n",
      "31134540.0\n",
      "20305528.0\n",
      "20313578.0\n",
      "14202895.0\n",
      "28520168.0\n",
      "22770270.0\n",
      "28424128.0\n"
     ]
    },
    {
     "name": "stderr",
     "output_type": "stream",
     "text": [
      " 51%|█████     | 1278/2500 [00:14<00:14, 87.19it/s]"
     ]
    },
    {
     "name": "stdout",
     "output_type": "stream",
     "text": [
      "13816261.0\n",
      "8868776.0\n"
     ]
    },
    {
     "name": "stderr",
     "output_type": "stream",
     "text": [
      " 51%|█████▏    | 1287/2500 [00:14<00:13, 87.12it/s]"
     ]
    },
    {
     "name": "stdout",
     "output_type": "stream",
     "text": [
      "9822280.0\n",
      "21210296.0\n",
      "11060410.0\n",
      "12655338.0\n",
      "16434263.0\n",
      "14646030.0\n",
      "29477318.0\n",
      "7401876.5\n",
      "13812366.0\n",
      "18957044.0\n",
      "12846449.0\n",
      "13912203.0\n",
      "9610554.0\n",
      "9780121.0\n",
      "13185102.0\n",
      "5991448.0\n"
     ]
    },
    {
     "name": "stderr",
     "output_type": "stream",
     "text": [
      " 52%|█████▏    | 1296/2500 [00:14<00:13, 87.11it/s]"
     ]
    },
    {
     "name": "stdout",
     "output_type": "stream",
     "text": [
      "13378910.0\n",
      "12729220.0\n"
     ]
    },
    {
     "name": "stderr",
     "output_type": "stream",
     "text": [
      " 52%|█████▏    | 1305/2500 [00:15<00:13, 87.20it/s]"
     ]
    },
    {
     "name": "stdout",
     "output_type": "stream",
     "text": [
      "11252859.0\n",
      "7330573.0\n",
      "12043636.0\n",
      "9112800.0\n",
      "7525175.0\n",
      "16646584.0\n",
      "16289151.0\n",
      "16046740.0\n",
      "6152957.0\n",
      "8080569.0\n",
      "16875194.0\n",
      "15663780.0\n",
      "15021380.0\n",
      "9642998.0\n",
      "7989560.0\n",
      "8455460.0\n"
     ]
    },
    {
     "name": "stderr",
     "output_type": "stream",
     "text": [
      " 53%|█████▎    | 1314/2500 [00:15<00:13, 87.09it/s]"
     ]
    },
    {
     "name": "stdout",
     "output_type": "stream",
     "text": [
      "10535572.0\n",
      "12610454.0\n"
     ]
    },
    {
     "name": "stderr",
     "output_type": "stream",
     "text": [
      " 53%|█████▎    | 1323/2500 [00:15<00:13, 87.14it/s]"
     ]
    },
    {
     "name": "stdout",
     "output_type": "stream",
     "text": [
      "8781307.0\n",
      "13784937.0\n",
      "7830911.0\n",
      "12605685.0\n",
      "19269642.0\n",
      "11897124.0\n",
      "13913555.0\n",
      "10002587.0\n",
      "16545032.0\n",
      "7737950.5\n",
      "14585818.0\n",
      "9832449.0\n",
      "14993294.0\n",
      "8129169.5\n",
      "6925167.5\n",
      "20430352.0\n"
     ]
    },
    {
     "name": "stderr",
     "output_type": "stream",
     "text": [
      " 53%|█████▎    | 1332/2500 [00:15<00:13, 87.13it/s]"
     ]
    },
    {
     "name": "stdout",
     "output_type": "stream",
     "text": [
      "9178470.0\n",
      "10799460.0\n"
     ]
    },
    {
     "name": "stderr",
     "output_type": "stream",
     "text": [
      " 54%|█████▎    | 1341/2500 [00:15<00:13, 87.21it/s]"
     ]
    },
    {
     "name": "stdout",
     "output_type": "stream",
     "text": [
      "7128060.0\n",
      "4939685.0\n",
      "14474176.0\n",
      "6282063.0\n",
      "7058900.0\n",
      "9560185.0\n",
      "7225061.0\n",
      "12236977.0\n",
      "10959870.0\n",
      "6158268.5\n",
      "10001516.0\n",
      "16010545.0\n",
      "7565024.0\n",
      "22025272.0\n",
      "15659073.0\n",
      "15227544.0\n"
     ]
    },
    {
     "name": "stderr",
     "output_type": "stream",
     "text": [
      " 54%|█████▍    | 1350/2500 [00:15<00:13, 87.24it/s]"
     ]
    },
    {
     "name": "stdout",
     "output_type": "stream",
     "text": [
      "12393198.0\n",
      "10101906.0\n"
     ]
    },
    {
     "name": "stderr",
     "output_type": "stream",
     "text": [
      " 54%|█████▍    | 1359/2500 [00:15<00:13, 87.25it/s]"
     ]
    },
    {
     "name": "stdout",
     "output_type": "stream",
     "text": [
      "17766978.0\n",
      "15475701.0\n",
      "31281566.0\n",
      "13440924.0\n",
      "8885898.0\n",
      "9662654.0\n",
      "17204528.0\n",
      "7437231.0\n",
      "10828218.0\n",
      "11299388.0\n",
      "8392978.0\n",
      "9555660.0\n",
      "8992964.0\n",
      "8986081.0\n",
      "5755710.5\n",
      "4191089.5\n"
     ]
    },
    {
     "name": "stderr",
     "output_type": "stream",
     "text": [
      " 55%|█████▍    | 1368/2500 [00:15<00:13, 87.01it/s]"
     ]
    },
    {
     "name": "stdout",
     "output_type": "stream",
     "text": [
      "12548004.0\n",
      "4582938.0\n"
     ]
    },
    {
     "name": "stderr",
     "output_type": "stream",
     "text": [
      " 55%|█████▌    | 1377/2500 [00:15<00:12, 86.79it/s]"
     ]
    },
    {
     "name": "stdout",
     "output_type": "stream",
     "text": [
      "16759135.0\n",
      "9037586.0\n",
      "8658398.0\n",
      "15081865.0\n",
      "9470824.0\n",
      "5420372.0\n",
      "7462996.0\n",
      "7225688.0\n",
      "6278533.0\n",
      "5501653.0\n",
      "9134692.0\n",
      "9761250.0\n",
      "11983712.0\n",
      "5556421.0\n",
      "10884758.0\n",
      "8261259.5\n"
     ]
    },
    {
     "name": "stderr",
     "output_type": "stream",
     "text": [
      " 55%|█████▌    | 1386/2500 [00:15<00:12, 86.63it/s]"
     ]
    },
    {
     "name": "stdout",
     "output_type": "stream",
     "text": [
      "13080728.0\n",
      "9575762.0\n"
     ]
    },
    {
     "name": "stderr",
     "output_type": "stream",
     "text": [
      " 56%|█████▌    | 1395/2500 [00:16<00:12, 86.51it/s]"
     ]
    },
    {
     "name": "stdout",
     "output_type": "stream",
     "text": [
      "10737897.0\n",
      "11555306.0\n",
      "6992289.5\n",
      "11942511.0\n",
      "7541598.5\n",
      "6436343.5\n",
      "14464692.0\n",
      "9788805.0\n",
      "7777554.5\n",
      "10015138.0\n",
      "8906781.0\n",
      "4789854.0\n",
      "13296242.0\n",
      "14262674.0\n",
      "8280871.0\n",
      "10998186.0\n"
     ]
    },
    {
     "name": "stderr",
     "output_type": "stream",
     "text": [
      " 56%|█████▌    | 1404/2500 [00:16<00:12, 86.37it/s]"
     ]
    },
    {
     "name": "stdout",
     "output_type": "stream",
     "text": [
      "9367216.0\n",
      "14075052.0\n"
     ]
    },
    {
     "name": "stderr",
     "output_type": "stream",
     "text": [
      " 57%|█████▋    | 1413/2500 [00:16<00:12, 86.10it/s]"
     ]
    },
    {
     "name": "stdout",
     "output_type": "stream",
     "text": [
      "7818232.5\n",
      "5746420.5\n",
      "14707329.0\n",
      "10534162.0\n",
      "12944854.0\n",
      "19682214.0\n",
      "6780517.0\n",
      "20021856.0\n",
      "18988444.0\n",
      "10483480.0\n",
      "10558291.0\n",
      "6529303.5\n",
      "8857414.0\n",
      "8700336.0\n",
      "17232934.0\n",
      "9138303.0\n"
     ]
    },
    {
     "name": "stderr",
     "output_type": "stream",
     "text": [
      " 57%|█████▋    | 1422/2500 [00:16<00:12, 86.31it/s]"
     ]
    },
    {
     "name": "stdout",
     "output_type": "stream",
     "text": [
      "16654093.0\n",
      "6632650.5\n"
     ]
    },
    {
     "name": "stderr",
     "output_type": "stream",
     "text": [
      " 57%|█████▋    | 1431/2500 [00:16<00:12, 86.46it/s]"
     ]
    },
    {
     "name": "stdout",
     "output_type": "stream",
     "text": [
      "13449014.0\n",
      "8174614.0\n",
      "7234651.5\n",
      "10057108.0\n",
      "5718985.5\n",
      "8064026.0\n",
      "6299365.0\n",
      "9785037.0\n",
      "9473722.0\n",
      "9744930.0\n",
      "8621176.0\n",
      "12354908.0\n",
      "5861700.0\n",
      "9547718.0\n",
      "8071805.5\n",
      "8282124.0\n"
     ]
    },
    {
     "name": "stderr",
     "output_type": "stream",
     "text": [
      " 58%|█████▊    | 1440/2500 [00:16<00:12, 86.53it/s]"
     ]
    },
    {
     "name": "stdout",
     "output_type": "stream",
     "text": [
      "7421338.5\n",
      "5528807.0\n"
     ]
    },
    {
     "name": "stderr",
     "output_type": "stream",
     "text": [
      " 58%|█████▊    | 1449/2500 [00:16<00:12, 86.69it/s]"
     ]
    },
    {
     "name": "stdout",
     "output_type": "stream",
     "text": [
      "4820219.0\n",
      "6343322.5\n",
      "4616862.0\n",
      "10949756.0\n",
      "4477193.0\n",
      "22828180.0\n",
      "8278759.5\n",
      "7725371.0\n",
      "10056940.0\n",
      "12867000.0\n",
      "8514024.0\n",
      "6770755.5\n",
      "9405305.0\n",
      "12760326.0\n",
      "8813900.0\n",
      "16873556.0\n"
     ]
    },
    {
     "name": "stderr",
     "output_type": "stream",
     "text": [
      " 58%|█████▊    | 1458/2500 [00:16<00:12, 86.74it/s]"
     ]
    },
    {
     "name": "stdout",
     "output_type": "stream",
     "text": [
      "15146761.0\n",
      "8475114.0\n"
     ]
    },
    {
     "name": "stderr",
     "output_type": "stream",
     "text": [
      " 59%|█████▊    | 1467/2500 [00:16<00:11, 86.84it/s]"
     ]
    },
    {
     "name": "stdout",
     "output_type": "stream",
     "text": [
      "11835481.0\n",
      "17256178.0\n",
      "11274179.0\n",
      "9699770.0\n",
      "21868140.0\n",
      "10695070.0\n",
      "6443183.0\n",
      "6951400.0\n",
      "6468310.0\n",
      "7320425.0\n",
      "8528849.0\n",
      "13823973.0\n",
      "5291182.0\n",
      "13567896.0\n",
      "8872012.0\n",
      "5966368.0\n"
     ]
    },
    {
     "name": "stderr",
     "output_type": "stream",
     "text": [
      " 59%|█████▉    | 1476/2500 [00:17<00:11, 86.92it/s]"
     ]
    },
    {
     "name": "stdout",
     "output_type": "stream",
     "text": [
      "11062384.0\n",
      "10859118.0\n"
     ]
    },
    {
     "name": "stderr",
     "output_type": "stream",
     "text": [
      " 59%|█████▉    | 1485/2500 [00:17<00:11, 87.04it/s]"
     ]
    },
    {
     "name": "stdout",
     "output_type": "stream",
     "text": [
      "4156662.0\n",
      "8446792.0\n",
      "9913960.0\n",
      "4775020.0\n",
      "5850175.0\n",
      "7374093.0\n",
      "5018262.5\n",
      "20046082.0\n",
      "4764629.0\n",
      "7836492.0\n",
      "14830490.0\n",
      "8213269.0\n",
      "6657729.5\n",
      "5845358.5\n",
      "7142525.0\n",
      "6739746.0\n"
     ]
    },
    {
     "name": "stderr",
     "output_type": "stream",
     "text": [
      " 60%|█████▉    | 1494/2500 [00:17<00:11, 87.08it/s]"
     ]
    },
    {
     "name": "stdout",
     "output_type": "stream",
     "text": [
      "6288086.0\n",
      "9452658.0\n"
     ]
    },
    {
     "name": "stderr",
     "output_type": "stream",
     "text": [
      " 60%|██████    | 1503/2500 [00:17<00:11, 87.12it/s]"
     ]
    },
    {
     "name": "stdout",
     "output_type": "stream",
     "text": [
      "15394242.0\n",
      "13701852.0\n",
      "9862838.0\n",
      "6927004.0\n",
      "10297929.0\n",
      "9594157.0\n",
      "11668781.0\n",
      "8093538.0\n",
      "7017887.5\n",
      "6012590.0\n",
      "12672266.0\n",
      "6000743.5\n",
      "7004527.5\n",
      "7532642.5\n",
      "10288106.0\n",
      "6354954.5\n"
     ]
    },
    {
     "name": "stderr",
     "output_type": "stream",
     "text": [
      " 60%|██████    | 1512/2500 [00:17<00:11, 87.15it/s]"
     ]
    },
    {
     "name": "stdout",
     "output_type": "stream",
     "text": [
      "12270172.0\n",
      "11192249.0\n"
     ]
    },
    {
     "name": "stderr",
     "output_type": "stream",
     "text": [
      " 61%|██████    | 1521/2500 [00:17<00:11, 87.10it/s]"
     ]
    },
    {
     "name": "stdout",
     "output_type": "stream",
     "text": [
      "9744373.0\n",
      "12527144.0\n",
      "17799262.0\n",
      "22825276.0\n",
      "8204425.5\n",
      "10342614.0\n",
      "4936769.5\n",
      "5642457.0\n",
      "11011788.0\n",
      "7459483.0\n",
      "13970170.0\n",
      "6892901.5\n",
      "6058616.0\n",
      "17123668.0\n",
      "7829578.0\n",
      "6601543.0\n"
     ]
    },
    {
     "name": "stderr",
     "output_type": "stream",
     "text": [
      " 61%|██████    | 1530/2500 [00:17<00:11, 86.99it/s]"
     ]
    },
    {
     "name": "stdout",
     "output_type": "stream",
     "text": [
      "8859640.0\n",
      "8503681.0\n"
     ]
    },
    {
     "name": "stderr",
     "output_type": "stream",
     "text": [
      " 62%|██████▏   | 1539/2500 [00:17<00:11, 87.02it/s]"
     ]
    },
    {
     "name": "stdout",
     "output_type": "stream",
     "text": [
      "9502465.0\n",
      "13777926.0\n",
      "11015955.0\n",
      "11832844.0\n",
      "11614206.0\n",
      "10992376.0\n",
      "10822470.0\n",
      "4929907.5\n",
      "6037118.0\n",
      "8058233.0\n",
      "11420906.0\n",
      "7306352.0\n",
      "14976888.0\n",
      "8838545.0\n",
      "13091963.0\n",
      "7254389.0\n"
     ]
    },
    {
     "name": "stderr",
     "output_type": "stream",
     "text": [
      " 62%|██████▏   | 1548/2500 [00:17<00:10, 87.10it/s]"
     ]
    },
    {
     "name": "stdout",
     "output_type": "stream",
     "text": [
      "8604115.0\n",
      "7781115.0\n"
     ]
    },
    {
     "name": "stderr",
     "output_type": "stream",
     "text": [
      " 62%|██████▏   | 1557/2500 [00:17<00:10, 87.03it/s]"
     ]
    },
    {
     "name": "stdout",
     "output_type": "stream",
     "text": [
      "13728476.0\n",
      "14091716.0\n",
      "6651674.0\n",
      "7426339.0\n",
      "9328340.0\n",
      "9234342.0\n",
      "11120284.0\n",
      "9911941.0\n",
      "8302324.0\n",
      "7552447.5\n",
      "15255438.0\n",
      "13292854.0\n",
      "12482928.0\n",
      "11898728.0\n",
      "20091068.0\n",
      "11965786.0\n"
     ]
    },
    {
     "name": "stderr",
     "output_type": "stream",
     "text": [
      " 63%|██████▎   | 1566/2500 [00:18<00:10, 86.99it/s]"
     ]
    },
    {
     "name": "stdout",
     "output_type": "stream",
     "text": [
      "7061517.0\n",
      "10398584.0\n"
     ]
    },
    {
     "name": "stderr",
     "output_type": "stream",
     "text": [
      " 63%|██████▎   | 1575/2500 [00:18<00:10, 86.88it/s]"
     ]
    },
    {
     "name": "stdout",
     "output_type": "stream",
     "text": [
      "11882591.0\n",
      "9287482.0\n",
      "7021934.0\n",
      "5178182.5\n",
      "7844952.0\n",
      "7346077.0\n",
      "7075618.0\n",
      "9001025.0\n",
      "11828226.0\n",
      "10522603.0\n",
      "9959718.0\n",
      "8425384.0\n",
      "6690399.5\n",
      "8383565.5\n",
      "8993297.0\n",
      "9887761.0\n"
     ]
    },
    {
     "name": "stderr",
     "output_type": "stream",
     "text": [
      " 63%|██████▎   | 1584/2500 [00:18<00:10, 86.69it/s]"
     ]
    },
    {
     "name": "stdout",
     "output_type": "stream",
     "text": [
      "4029706.5\n",
      "6714581.0\n"
     ]
    },
    {
     "name": "stderr",
     "output_type": "stream",
     "text": [
      " 64%|██████▎   | 1593/2500 [00:18<00:10, 86.39it/s]"
     ]
    },
    {
     "name": "stdout",
     "output_type": "stream",
     "text": [
      "9559450.0\n",
      "8752721.0\n",
      "9429557.0\n",
      "5987139.0\n",
      "3474560.5\n",
      "8395147.0\n",
      "12183454.0\n",
      "7802041.0\n",
      "5844525.5\n",
      "9963896.0\n",
      "8744278.0\n",
      "6603168.0\n",
      "8364774.0\n",
      "5414422.0\n",
      "6283679.5\n",
      "4425737.5\n"
     ]
    },
    {
     "name": "stderr",
     "output_type": "stream",
     "text": [
      " 64%|██████▍   | 1602/2500 [00:18<00:10, 86.17it/s]"
     ]
    },
    {
     "name": "stdout",
     "output_type": "stream",
     "text": [
      "12496394.0\n",
      "6181897.0\n"
     ]
    },
    {
     "name": "stderr",
     "output_type": "stream",
     "text": [
      " 64%|██████▍   | 1611/2500 [00:18<00:10, 86.12it/s]"
     ]
    },
    {
     "name": "stdout",
     "output_type": "stream",
     "text": [
      "9352182.0\n",
      "13112650.0\n",
      "11860534.0\n",
      "6375634.0\n",
      "11660622.0\n",
      "15441429.0\n",
      "8854220.0\n",
      "9961405.0\n",
      "8163497.0\n",
      "10451732.0\n",
      "6936341.5\n",
      "23872208.0\n",
      "12238718.0\n",
      "16725946.0\n",
      "10838322.0\n",
      "16385819.0\n"
     ]
    },
    {
     "name": "stderr",
     "output_type": "stream",
     "text": [
      " 65%|██████▍   | 1620/2500 [00:18<00:10, 86.37it/s]"
     ]
    },
    {
     "name": "stdout",
     "output_type": "stream",
     "text": [
      "10779858.0\n",
      "12588346.0\n"
     ]
    },
    {
     "name": "stderr",
     "output_type": "stream",
     "text": [
      " 65%|██████▌   | 1629/2500 [00:18<00:10, 86.65it/s]"
     ]
    },
    {
     "name": "stdout",
     "output_type": "stream",
     "text": [
      "22436462.0\n",
      "17550932.0\n",
      "12999374.0\n",
      "13863856.0\n",
      "15813551.0\n",
      "7840620.0\n",
      "9572982.0\n",
      "12632885.0\n",
      "14083628.0\n",
      "5636479.0\n",
      "10989264.0\n",
      "7100481.0\n",
      "13294772.0\n",
      "5820580.0\n",
      "7422898.0\n",
      "26052646.0\n"
     ]
    },
    {
     "name": "stderr",
     "output_type": "stream",
     "text": [
      " 66%|██████▌   | 1638/2500 [00:18<00:09, 86.87it/s]"
     ]
    },
    {
     "name": "stdout",
     "output_type": "stream",
     "text": [
      "6109667.0\n",
      "6969743.0\n"
     ]
    },
    {
     "name": "stderr",
     "output_type": "stream",
     "text": [
      " 66%|██████▌   | 1647/2500 [00:18<00:09, 87.02it/s]"
     ]
    },
    {
     "name": "stdout",
     "output_type": "stream",
     "text": [
      "9168879.0\n",
      "21796672.0\n",
      "7425237.0\n",
      "7273938.0\n",
      "11104873.0\n",
      "13108055.0\n",
      "5371092.5\n",
      "10221621.0\n",
      "6184170.5\n",
      "7180099.0\n",
      "12028080.0\n",
      "11694794.0\n",
      "11419564.0\n",
      "22806076.0\n",
      "7095199.5\n",
      "10575666.0\n"
     ]
    },
    {
     "name": "stderr",
     "output_type": "stream",
     "text": [
      " 66%|██████▌   | 1656/2500 [00:19<00:09, 87.05it/s]"
     ]
    },
    {
     "name": "stdout",
     "output_type": "stream",
     "text": [
      "39087508.0\n",
      "12072530.0\n"
     ]
    },
    {
     "name": "stderr",
     "output_type": "stream",
     "text": [
      " 67%|██████▋   | 1665/2500 [00:19<00:09, 87.16it/s]"
     ]
    },
    {
     "name": "stdout",
     "output_type": "stream",
     "text": [
      "20972282.0\n",
      "21204728.0\n",
      "5680158.0\n",
      "5457969.0\n",
      "8698512.0\n",
      "9472068.0\n",
      "4736480.5\n",
      "21649328.0\n",
      "6639030.0\n",
      "5709446.0\n",
      "6734751.0\n",
      "7563144.0\n",
      "4756072.0\n",
      "16256104.0\n",
      "16668434.0\n",
      "9900392.0\n"
     ]
    },
    {
     "name": "stderr",
     "output_type": "stream",
     "text": [
      " 67%|██████▋   | 1674/2500 [00:19<00:09, 87.25it/s]"
     ]
    },
    {
     "name": "stdout",
     "output_type": "stream",
     "text": [
      "12339314.0\n",
      "8441971.0\n"
     ]
    },
    {
     "name": "stderr",
     "output_type": "stream",
     "text": [
      " 67%|██████▋   | 1683/2500 [00:19<00:09, 87.32it/s]"
     ]
    },
    {
     "name": "stdout",
     "output_type": "stream",
     "text": [
      "14564787.0\n",
      "12644552.0\n",
      "14484654.0\n",
      "11028020.0\n",
      "8397664.0\n",
      "7882108.0\n",
      "12527051.0\n",
      "12693414.0\n",
      "10028538.0\n",
      "9915591.0\n",
      "9495051.0\n",
      "16911574.0\n",
      "15102451.0\n",
      "10399554.0\n",
      "10868272.0\n",
      "16047362.0\n"
     ]
    },
    {
     "name": "stderr",
     "output_type": "stream",
     "text": [
      " 68%|██████▊   | 1692/2500 [00:19<00:09, 87.32it/s]"
     ]
    },
    {
     "name": "stdout",
     "output_type": "stream",
     "text": [
      "6665964.5\n",
      "8196459.0\n"
     ]
    },
    {
     "name": "stderr",
     "output_type": "stream",
     "text": [
      " 68%|██████▊   | 1701/2500 [00:19<00:09, 87.29it/s]"
     ]
    },
    {
     "name": "stdout",
     "output_type": "stream",
     "text": [
      "8920436.0\n",
      "10645042.0\n",
      "5864632.0\n",
      "11099392.0\n",
      "11357091.0\n",
      "8973700.0\n",
      "11795395.0\n",
      "10376311.0\n",
      "7838102.0\n",
      "10507652.0\n",
      "7827632.0\n",
      "7618203.0\n",
      "7225835.0\n",
      "4859234.0\n",
      "9244191.0\n",
      "14660609.0\n"
     ]
    },
    {
     "name": "stderr",
     "output_type": "stream",
     "text": [
      " 68%|██████▊   | 1710/2500 [00:19<00:09, 87.24it/s]"
     ]
    },
    {
     "name": "stdout",
     "output_type": "stream",
     "text": [
      "8312905.5\n",
      "5376021.0\n"
     ]
    },
    {
     "name": "stderr",
     "output_type": "stream",
     "text": [
      " 69%|██████▉   | 1719/2500 [00:19<00:08, 86.96it/s]"
     ]
    },
    {
     "name": "stdout",
     "output_type": "stream",
     "text": [
      "4505953.0\n",
      "14530574.0\n",
      "5204243.0\n",
      "9920167.0\n",
      "5762587.0\n",
      "12898230.0\n",
      "12712922.0\n",
      "12240425.0\n",
      "5226688.0\n",
      "16205021.0\n",
      "10598030.0\n",
      "6414120.5\n",
      "9565504.0\n",
      "12027854.0\n",
      "4366718.0\n",
      "9705704.0\n"
     ]
    },
    {
     "name": "stderr",
     "output_type": "stream",
     "text": [
      " 69%|██████▉   | 1728/2500 [00:19<00:08, 86.31it/s]"
     ]
    },
    {
     "name": "stdout",
     "output_type": "stream",
     "text": [
      "13521660.0\n",
      "8120486.0\n"
     ]
    },
    {
     "name": "stderr",
     "output_type": "stream",
     "text": [
      " 69%|██████▉   | 1737/2500 [00:20<00:08, 86.34it/s]"
     ]
    },
    {
     "name": "stdout",
     "output_type": "stream",
     "text": [
      "7345801.0\n",
      "12032875.0\n",
      "4553063.0\n",
      "9459763.0\n",
      "8596996.0\n",
      "9776646.0\n",
      "5448594.0\n",
      "8290391.5\n",
      "7500815.5\n",
      "7621507.5\n",
      "10149136.0\n",
      "11459636.0\n",
      "12992035.0\n",
      "7372867.5\n",
      "4566029.5\n",
      "6379042.0\n"
     ]
    },
    {
     "name": "stderr",
     "output_type": "stream",
     "text": [
      " 70%|██████▉   | 1746/2500 [00:20<00:08, 86.52it/s]"
     ]
    },
    {
     "name": "stdout",
     "output_type": "stream",
     "text": [
      "10532776.0\n",
      "14182770.0\n"
     ]
    },
    {
     "name": "stderr",
     "output_type": "stream",
     "text": [
      " 70%|███████   | 1755/2500 [00:20<00:08, 86.76it/s]"
     ]
    },
    {
     "name": "stdout",
     "output_type": "stream",
     "text": [
      "14992257.0\n",
      "20644834.0\n",
      "7599553.0\n",
      "22145496.0\n",
      "9108452.0\n",
      "7414951.5\n",
      "6538473.0\n",
      "3470090.0\n",
      "7270329.5\n",
      "15472256.0\n",
      "10317740.0\n",
      "9714502.0\n",
      "7509887.0\n",
      "5549067.0\n",
      "9881341.0\n",
      "8572872.0\n"
     ]
    },
    {
     "name": "stderr",
     "output_type": "stream",
     "text": [
      " 71%|███████   | 1764/2500 [00:20<00:08, 86.88it/s]"
     ]
    },
    {
     "name": "stdout",
     "output_type": "stream",
     "text": [
      "8286277.0\n",
      "7578277.0\n"
     ]
    },
    {
     "name": "stderr",
     "output_type": "stream",
     "text": [
      " 71%|███████   | 1773/2500 [00:20<00:08, 87.02it/s]"
     ]
    },
    {
     "name": "stdout",
     "output_type": "stream",
     "text": [
      "6330798.0\n",
      "13295181.0\n",
      "9176536.0\n",
      "14014137.0\n",
      "5719013.0\n",
      "5132976.5\n",
      "8342750.0\n",
      "7855533.0\n",
      "14293595.0\n",
      "11927159.0\n",
      "6312703.0\n",
      "5466619.5\n",
      "7160926.5\n",
      "9617758.0\n",
      "8461074.0\n",
      "6365597.0\n"
     ]
    },
    {
     "name": "stderr",
     "output_type": "stream",
     "text": [
      " 71%|███████▏  | 1782/2500 [00:20<00:08, 87.09it/s]"
     ]
    },
    {
     "name": "stdout",
     "output_type": "stream",
     "text": [
      "15265859.0\n",
      "5220424.0\n"
     ]
    },
    {
     "name": "stderr",
     "output_type": "stream",
     "text": [
      " 72%|███████▏  | 1791/2500 [00:20<00:08, 87.21it/s]"
     ]
    },
    {
     "name": "stdout",
     "output_type": "stream",
     "text": [
      "4230367.0\n",
      "4783642.0\n",
      "4439652.0\n",
      "9104664.0\n",
      "4531129.0\n",
      "6210449.0\n",
      "6428400.0\n",
      "6735874.0\n",
      "13610354.0\n",
      "10025505.0\n",
      "6852870.0\n",
      "8912924.0\n",
      "6986540.0\n",
      "16583472.0\n",
      "16506133.0\n",
      "5642007.5\n"
     ]
    },
    {
     "name": "stderr",
     "output_type": "stream",
     "text": [
      " 72%|███████▏  | 1800/2500 [00:20<00:08, 87.24it/s]"
     ]
    },
    {
     "name": "stdout",
     "output_type": "stream",
     "text": [
      "7480643.0\n",
      "7756804.0\n"
     ]
    },
    {
     "name": "stderr",
     "output_type": "stream",
     "text": [
      " 72%|███████▏  | 1809/2500 [00:20<00:07, 87.21it/s]"
     ]
    },
    {
     "name": "stdout",
     "output_type": "stream",
     "text": [
      "9945326.0\n",
      "6423501.0\n",
      "5781935.0\n",
      "8760214.0\n",
      "7836557.0\n",
      "11973412.0\n",
      "13128846.0\n",
      "9998382.0\n",
      "7188207.0\n",
      "12434702.0\n",
      "7803924.5\n",
      "5734285.5\n",
      "7642852.0\n",
      "3606167.25\n",
      "8472014.0\n",
      "6875783.0\n"
     ]
    },
    {
     "name": "stderr",
     "output_type": "stream",
     "text": [
      " 73%|███████▎  | 1818/2500 [00:20<00:07, 87.25it/s]"
     ]
    },
    {
     "name": "stdout",
     "output_type": "stream",
     "text": [
      "5601148.0\n",
      "18463952.0\n"
     ]
    },
    {
     "name": "stderr",
     "output_type": "stream",
     "text": [
      " 73%|███████▎  | 1827/2500 [00:21<00:07, 87.26it/s]"
     ]
    },
    {
     "name": "stdout",
     "output_type": "stream",
     "text": [
      "11731774.0\n",
      "11494866.0\n",
      "17817174.0\n",
      "9752898.0\n",
      "12448008.0\n",
      "7450411.0\n",
      "9929350.0\n",
      "10210636.0\n",
      "10088790.0\n",
      "6202749.5\n",
      "3894444.75\n",
      "12424641.0\n",
      "9574250.0\n",
      "12737045.0\n",
      "9412656.0\n",
      "6844589.0\n"
     ]
    },
    {
     "name": "stderr",
     "output_type": "stream",
     "text": [
      " 73%|███████▎  | 1836/2500 [00:21<00:07, 86.82it/s]"
     ]
    },
    {
     "name": "stdout",
     "output_type": "stream",
     "text": [
      "6350560.0\n",
      "9999518.0\n"
     ]
    },
    {
     "name": "stderr",
     "output_type": "stream",
     "text": [
      " 74%|███████▍  | 1845/2500 [00:21<00:07, 86.85it/s]"
     ]
    },
    {
     "name": "stdout",
     "output_type": "stream",
     "text": [
      "11855484.0\n",
      "13152338.0\n",
      "6158252.5\n",
      "10329458.0\n",
      "6801223.0\n",
      "7313983.0\n",
      "8965557.0\n",
      "12686740.0\n",
      "10102189.0\n",
      "7139967.0\n",
      "7340949.0\n",
      "7508838.0\n",
      "4970657.5\n",
      "3335883.5\n",
      "5242421.0\n",
      "14043448.0\n"
     ]
    },
    {
     "name": "stderr",
     "output_type": "stream",
     "text": [
      " 74%|███████▍  | 1854/2500 [00:21<00:07, 86.79it/s]"
     ]
    },
    {
     "name": "stdout",
     "output_type": "stream",
     "text": [
      "5336871.0\n",
      "7536332.0\n"
     ]
    },
    {
     "name": "stderr",
     "output_type": "stream",
     "text": [
      " 75%|███████▍  | 1863/2500 [00:21<00:07, 86.91it/s]"
     ]
    },
    {
     "name": "stdout",
     "output_type": "stream",
     "text": [
      "11755544.0\n",
      "12031254.0\n",
      "5698706.0\n",
      "8709320.0\n",
      "4375020.5\n",
      "9960849.0\n",
      "15626763.0\n",
      "11715542.0\n",
      "4499522.0\n",
      "19131590.0\n",
      "10655262.0\n",
      "9483162.0\n",
      "7064622.0\n",
      "6718741.0\n",
      "13044870.0\n",
      "13852691.0\n"
     ]
    },
    {
     "name": "stderr",
     "output_type": "stream",
     "text": [
      " 75%|███████▍  | 1872/2500 [00:21<00:07, 86.97it/s]"
     ]
    },
    {
     "name": "stdout",
     "output_type": "stream",
     "text": [
      "8118628.5\n",
      "20907428.0\n"
     ]
    },
    {
     "name": "stderr",
     "output_type": "stream",
     "text": [
      " 75%|███████▌  | 1881/2500 [00:21<00:07, 87.10it/s]"
     ]
    },
    {
     "name": "stdout",
     "output_type": "stream",
     "text": [
      "13479564.0\n",
      "7161795.5\n",
      "11495133.0\n",
      "20035676.0\n",
      "10001940.0\n",
      "13038633.0\n",
      "13313978.0\n",
      "9956258.0\n",
      "9372546.0\n",
      "15866098.0\n",
      "8518854.0\n",
      "7611873.0\n",
      "4947228.0\n",
      "9888087.0\n",
      "11945344.0\n",
      "8431236.0\n"
     ]
    },
    {
     "name": "stderr",
     "output_type": "stream",
     "text": [
      " 76%|███████▌  | 1890/2500 [00:21<00:06, 87.19it/s]"
     ]
    },
    {
     "name": "stdout",
     "output_type": "stream",
     "text": [
      "3759438.25\n",
      "8912424.0\n"
     ]
    },
    {
     "name": "stderr",
     "output_type": "stream",
     "text": [
      " 76%|███████▌  | 1899/2500 [00:21<00:06, 87.29it/s]"
     ]
    },
    {
     "name": "stdout",
     "output_type": "stream",
     "text": [
      "9278806.0\n",
      "5996646.0\n",
      "6893984.0\n",
      "5005508.0\n",
      "8165460.5\n",
      "7941580.0\n",
      "6552939.0\n",
      "13989032.0\n",
      "5413722.0\n",
      "6741461.5\n",
      "10191664.0\n",
      "7023419.0\n",
      "6846606.0\n",
      "9562207.0\n",
      "8701628.0\n",
      "10542589.0\n"
     ]
    },
    {
     "name": "stderr",
     "output_type": "stream",
     "text": [
      " 76%|███████▋  | 1908/2500 [00:21<00:06, 86.98it/s]"
     ]
    },
    {
     "name": "stdout",
     "output_type": "stream",
     "text": [
      "12027575.0\n",
      "10448508.0\n"
     ]
    },
    {
     "name": "stderr",
     "output_type": "stream",
     "text": [
      " 77%|███████▋  | 1917/2500 [00:22<00:06, 87.03it/s]"
     ]
    },
    {
     "name": "stdout",
     "output_type": "stream",
     "text": [
      "12043460.0\n",
      "8946648.0\n",
      "19257932.0\n",
      "10995867.0\n",
      "7766104.0\n",
      "9061828.0\n",
      "9972114.0\n",
      "15211118.0\n",
      "8903289.0\n",
      "8688465.0\n",
      "10252306.0\n",
      "8106080.5\n",
      "11277904.0\n",
      "6158475.0\n",
      "8713603.0\n",
      "5572103.5\n"
     ]
    },
    {
     "name": "stderr",
     "output_type": "stream",
     "text": [
      " 77%|███████▋  | 1926/2500 [00:22<00:06, 87.06it/s]"
     ]
    },
    {
     "name": "stdout",
     "output_type": "stream",
     "text": [
      "15645346.0\n",
      "5217899.5\n"
     ]
    },
    {
     "name": "stderr",
     "output_type": "stream",
     "text": [
      " 77%|███████▋  | 1935/2500 [00:22<00:06, 87.16it/s]"
     ]
    },
    {
     "name": "stdout",
     "output_type": "stream",
     "text": [
      "10525575.0\n",
      "17623500.0\n",
      "8045976.5\n",
      "8998731.0\n",
      "6534817.0\n",
      "5689457.5\n",
      "6060586.5\n",
      "14480350.0\n",
      "7532055.0\n",
      "8713611.0\n",
      "8668228.0\n",
      "11613736.0\n",
      "9215896.0\n",
      "9371588.0\n",
      "9596012.0\n",
      "9473719.0\n"
     ]
    },
    {
     "name": "stderr",
     "output_type": "stream",
     "text": [
      " 78%|███████▊  | 1944/2500 [00:22<00:06, 87.23it/s]"
     ]
    },
    {
     "name": "stdout",
     "output_type": "stream",
     "text": [
      "6322280.5\n",
      "8463096.0\n"
     ]
    },
    {
     "name": "stderr",
     "output_type": "stream",
     "text": [
      " 78%|███████▊  | 1953/2500 [00:22<00:06, 87.28it/s]"
     ]
    },
    {
     "name": "stdout",
     "output_type": "stream",
     "text": [
      "14121981.0\n",
      "5874169.0\n",
      "5141508.5\n",
      "5169760.5\n",
      "7843342.5\n",
      "3491875.5\n",
      "5284061.0\n",
      "11729842.0\n",
      "10071147.0\n",
      "10533227.0\n",
      "16030156.0\n",
      "6240757.0\n",
      "8149679.5\n",
      "14908626.0\n",
      "6571930.0\n",
      "7685362.0\n"
     ]
    },
    {
     "name": "stderr",
     "output_type": "stream",
     "text": [
      " 78%|███████▊  | 1962/2500 [00:22<00:06, 87.36it/s]"
     ]
    },
    {
     "name": "stdout",
     "output_type": "stream",
     "text": [
      "26191596.0\n",
      "10031709.0\n"
     ]
    },
    {
     "name": "stderr",
     "output_type": "stream",
     "text": [
      " 79%|███████▉  | 1971/2500 [00:22<00:06, 87.44it/s]"
     ]
    },
    {
     "name": "stdout",
     "output_type": "stream",
     "text": [
      "11988460.0\n",
      "9996206.0\n",
      "9397268.0\n",
      "5777768.0\n",
      "10520239.0\n",
      "7915103.0\n",
      "13447414.0\n",
      "3558627.0\n",
      "8521035.0\n",
      "7567542.0\n",
      "8835590.0\n",
      "8689584.0\n",
      "5600992.0\n",
      "8164389.5\n",
      "7418554.5\n",
      "5304346.0\n"
     ]
    },
    {
     "name": "stderr",
     "output_type": "stream",
     "text": [
      " 79%|███████▉  | 1980/2500 [00:22<00:05, 87.45it/s]"
     ]
    },
    {
     "name": "stdout",
     "output_type": "stream",
     "text": [
      "6426557.0\n",
      "6272209.5\n"
     ]
    },
    {
     "name": "stderr",
     "output_type": "stream",
     "text": [
      " 80%|███████▉  | 1989/2500 [00:22<00:05, 87.38it/s]"
     ]
    },
    {
     "name": "stdout",
     "output_type": "stream",
     "text": [
      "5589114.0\n",
      "9824936.0\n",
      "8914797.0\n",
      "6289298.5\n",
      "7799428.0\n",
      "9001446.0\n",
      "7188808.0\n",
      "7778952.5\n",
      "8658656.0\n",
      "9474852.0\n",
      "5902436.0\n",
      "15230685.0\n",
      "7185443.0\n",
      "12444654.0\n",
      "9482717.0\n",
      "7169580.0\n"
     ]
    },
    {
     "name": "stderr",
     "output_type": "stream",
     "text": [
      " 80%|███████▉  | 1998/2500 [00:23<00:05, 87.36it/s]"
     ]
    },
    {
     "name": "stdout",
     "output_type": "stream",
     "text": [
      "7237823.5\n",
      "5700770.5\n"
     ]
    },
    {
     "name": "stderr",
     "output_type": "stream",
     "text": [
      " 80%|████████  | 2007/2500 [00:23<00:05, 87.38it/s]"
     ]
    },
    {
     "name": "stdout",
     "output_type": "stream",
     "text": [
      "3218526.25\n",
      "7714008.0\n",
      "8062833.0\n",
      "4681113.5\n",
      "9469496.0\n",
      "6964479.0\n",
      "6527312.5\n",
      "9937012.0\n",
      "12663047.0\n",
      "9126670.0\n",
      "13453197.0\n",
      "10049516.0\n",
      "14406632.0\n",
      "3852951.5\n",
      "8326426.0\n",
      "12972529.0\n"
     ]
    },
    {
     "name": "stderr",
     "output_type": "stream",
     "text": [
      " 81%|████████  | 2016/2500 [00:23<00:05, 86.95it/s]"
     ]
    },
    {
     "name": "stdout",
     "output_type": "stream",
     "text": [
      "19509720.0\n",
      "8440900.0\n"
     ]
    },
    {
     "name": "stderr",
     "output_type": "stream",
     "text": [
      " 81%|████████  | 2025/2500 [00:23<00:05, 86.65it/s]"
     ]
    },
    {
     "name": "stdout",
     "output_type": "stream",
     "text": [
      "10193584.0\n",
      "7346298.0\n",
      "4775167.0\n",
      "11128395.0\n",
      "8259696.0\n",
      "5212927.0\n",
      "5737919.0\n",
      "8138189.5\n",
      "9047755.0\n",
      "6998962.0\n",
      "6310404.0\n",
      "11025450.0\n",
      "13179642.0\n",
      "12366500.0\n",
      "8971007.0\n",
      "7802152.5\n"
     ]
    },
    {
     "name": "stderr",
     "output_type": "stream",
     "text": [
      " 81%|████████▏ | 2034/2500 [00:23<00:05, 86.40it/s]"
     ]
    },
    {
     "name": "stdout",
     "output_type": "stream",
     "text": [
      "10928602.0\n",
      "8674648.0\n"
     ]
    },
    {
     "name": "stderr",
     "output_type": "stream",
     "text": [
      " 82%|████████▏ | 2043/2500 [00:23<00:05, 86.28it/s]"
     ]
    },
    {
     "name": "stdout",
     "output_type": "stream",
     "text": [
      "5661757.0\n",
      "10049311.0\n",
      "8789502.0\n",
      "13212650.0\n",
      "4522549.5\n",
      "6842805.0\n",
      "12877529.0\n",
      "29040340.0\n",
      "9012046.0\n",
      "4775731.0\n",
      "7515912.0\n",
      "9990492.0\n",
      "6717646.5\n",
      "5675764.0\n",
      "8754664.0\n",
      "12502830.0\n"
     ]
    },
    {
     "name": "stderr",
     "output_type": "stream",
     "text": [
      " 82%|████████▏ | 2052/2500 [00:23<00:05, 86.05it/s]"
     ]
    },
    {
     "name": "stdout",
     "output_type": "stream",
     "text": [
      "10757390.0\n",
      "10146224.0\n"
     ]
    },
    {
     "name": "stderr",
     "output_type": "stream",
     "text": [
      " 82%|████████▏ | 2061/2500 [00:23<00:05, 85.79it/s]"
     ]
    },
    {
     "name": "stdout",
     "output_type": "stream",
     "text": [
      "13629062.0\n",
      "6052050.0\n",
      "7145848.0\n",
      "7271374.0\n",
      "9982381.0\n",
      "15085015.0\n",
      "8909914.0\n",
      "3457086.5\n",
      "12250792.0\n",
      "7362622.5\n",
      "7952554.0\n",
      "9615582.0\n",
      "16694228.0\n",
      "13439570.0\n",
      "13092027.0\n",
      "8120252.0\n"
     ]
    },
    {
     "name": "stderr",
     "output_type": "stream",
     "text": [
      " 83%|████████▎ | 2070/2500 [00:23<00:05, 85.87it/s]"
     ]
    },
    {
     "name": "stdout",
     "output_type": "stream",
     "text": [
      "16913748.0\n",
      "8988380.0\n"
     ]
    },
    {
     "name": "stderr",
     "output_type": "stream",
     "text": [
      " 83%|████████▎ | 2079/2500 [00:23<00:04, 86.17it/s]"
     ]
    },
    {
     "name": "stdout",
     "output_type": "stream",
     "text": [
      "5905609.5\n",
      "6852732.0\n",
      "11001007.0\n",
      "8236374.0\n",
      "11872282.0\n",
      "3821732.75\n",
      "13164322.0\n",
      "5833552.0\n",
      "10253301.0\n",
      "12697383.0\n",
      "13358268.0\n",
      "9079812.0\n",
      "6716245.0\n",
      "5481627.0\n",
      "13151946.0\n",
      "6236373.5\n"
     ]
    },
    {
     "name": "stderr",
     "output_type": "stream",
     "text": [
      " 84%|████████▎ | 2088/2500 [00:24<00:04, 86.29it/s]"
     ]
    },
    {
     "name": "stdout",
     "output_type": "stream",
     "text": [
      "8241210.5\n",
      "7071577.0\n"
     ]
    },
    {
     "name": "stderr",
     "output_type": "stream",
     "text": [
      " 84%|████████▍ | 2097/2500 [00:24<00:04, 86.46it/s]"
     ]
    },
    {
     "name": "stdout",
     "output_type": "stream",
     "text": [
      "5931225.0\n",
      "7258601.5\n",
      "7004015.0\n",
      "5085372.0\n",
      "6499195.5\n",
      "12316118.0\n",
      "6179943.5\n",
      "3774705.0\n",
      "6177718.0\n",
      "8021800.0\n",
      "3202171.5\n",
      "9819385.0\n",
      "8804272.0\n",
      "10272152.0\n",
      "4322787.0\n",
      "3059127.0\n"
     ]
    },
    {
     "name": "stderr",
     "output_type": "stream",
     "text": [
      " 84%|████████▍ | 2106/2500 [00:24<00:04, 86.59it/s]"
     ]
    },
    {
     "name": "stdout",
     "output_type": "stream",
     "text": [
      "6243450.0\n",
      "8864102.0\n"
     ]
    },
    {
     "name": "stderr",
     "output_type": "stream",
     "text": [
      " 85%|████████▍ | 2115/2500 [00:24<00:04, 86.56it/s]"
     ]
    },
    {
     "name": "stdout",
     "output_type": "stream",
     "text": [
      "7269323.0\n",
      "6306303.0\n",
      "5140321.0\n",
      "3028239.0\n",
      "7912624.0\n",
      "9697734.0\n",
      "8558052.0\n",
      "5417724.0\n",
      "5104260.0\n",
      "7471977.0\n",
      "9695956.0\n",
      "6431936.0\n",
      "12656898.0\n",
      "4610669.0\n",
      "7246539.5\n",
      "8759949.0\n"
     ]
    },
    {
     "name": "stderr",
     "output_type": "stream",
     "text": [
      " 85%|████████▍ | 2124/2500 [00:24<00:04, 86.71it/s]"
     ]
    },
    {
     "name": "stdout",
     "output_type": "stream",
     "text": [
      "3596647.5\n",
      "8837630.0\n"
     ]
    },
    {
     "name": "stderr",
     "output_type": "stream",
     "text": [
      " 85%|████████▌ | 2133/2500 [00:24<00:04, 86.85it/s]"
     ]
    },
    {
     "name": "stdout",
     "output_type": "stream",
     "text": [
      "6611962.0\n",
      "10339796.0\n",
      "10488121.0\n",
      "13725440.0\n",
      "6939389.5\n",
      "6238049.0\n",
      "7719072.0\n",
      "13318846.0\n",
      "7637510.0\n",
      "7826808.0\n",
      "10862778.0\n",
      "8920933.0\n",
      "9988362.0\n",
      "6925597.0\n",
      "10518264.0\n",
      "11484960.0\n"
     ]
    },
    {
     "name": "stderr",
     "output_type": "stream",
     "text": [
      " 86%|████████▌ | 2142/2500 [00:24<00:04, 87.01it/s]"
     ]
    },
    {
     "name": "stdout",
     "output_type": "stream",
     "text": [
      "8983373.0\n",
      "11326970.0\n"
     ]
    },
    {
     "name": "stderr",
     "output_type": "stream",
     "text": [
      " 86%|████████▌ | 2151/2500 [00:24<00:04, 87.23it/s]"
     ]
    },
    {
     "name": "stdout",
     "output_type": "stream",
     "text": [
      "10199150.0\n",
      "7481631.0\n",
      "4545419.5\n",
      "4799230.0\n",
      "8343662.5\n",
      "8207565.0\n",
      "11129849.0\n",
      "6982776.0\n",
      "4685429.0\n",
      "12108012.0\n",
      "10728534.0\n",
      "5709075.0\n",
      "10005512.0\n",
      "12457792.0\n",
      "7539015.0\n",
      "7268122.0\n"
     ]
    },
    {
     "name": "stderr",
     "output_type": "stream",
     "text": [
      " 86%|████████▋ | 2160/2500 [00:24<00:03, 87.29it/s]"
     ]
    },
    {
     "name": "stdout",
     "output_type": "stream",
     "text": [
      "6293582.5\n",
      "12412260.0\n"
     ]
    },
    {
     "name": "stderr",
     "output_type": "stream",
     "text": [
      " 87%|████████▋ | 2169/2500 [00:25<00:03, 87.41it/s]"
     ]
    },
    {
     "name": "stdout",
     "output_type": "stream",
     "text": [
      "6680778.0\n",
      "7934627.0\n",
      "5959024.5\n",
      "9720750.0\n",
      "14485144.0\n",
      "6620353.0\n",
      "8502808.0\n",
      "7431131.5\n",
      "9155430.0\n",
      "5242637.0\n",
      "7684576.0\n",
      "11999560.0\n",
      "6716788.5\n",
      "7824561.5\n",
      "12147539.0\n",
      "5509156.0\n"
     ]
    },
    {
     "name": "stderr",
     "output_type": "stream",
     "text": [
      " 87%|████████▋ | 2178/2500 [00:25<00:03, 87.56it/s]"
     ]
    },
    {
     "name": "stdout",
     "output_type": "stream",
     "text": [
      "8177349.0\n",
      "8338638.5\n"
     ]
    },
    {
     "name": "stderr",
     "output_type": "stream",
     "text": [
      " 87%|████████▋ | 2187/2500 [00:25<00:03, 87.68it/s]"
     ]
    },
    {
     "name": "stdout",
     "output_type": "stream",
     "text": [
      "6607355.5\n",
      "9881435.0\n",
      "3854486.5\n",
      "8427767.0\n",
      "8175503.0\n",
      "9666982.0\n",
      "15757872.0\n",
      "6164684.0\n",
      "8292424.0\n",
      "5170797.5\n",
      "4179003.0\n",
      "7313516.0\n",
      "9573356.0\n",
      "11409720.0\n",
      "9999604.0\n",
      "7898153.0\n"
     ]
    },
    {
     "name": "stderr",
     "output_type": "stream",
     "text": [
      " 88%|████████▊ | 2196/2500 [00:25<00:03, 87.75it/s]"
     ]
    },
    {
     "name": "stdout",
     "output_type": "stream",
     "text": [
      "4691586.0\n",
      "13928432.0\n"
     ]
    },
    {
     "name": "stderr",
     "output_type": "stream",
     "text": [
      " 88%|████████▊ | 2205/2500 [00:25<00:03, 87.73it/s]"
     ]
    },
    {
     "name": "stdout",
     "output_type": "stream",
     "text": [
      "7563024.5\n",
      "8002133.5\n",
      "8924030.0\n",
      "7546191.0\n",
      "11513340.0\n",
      "8688011.0\n",
      "9440260.0\n",
      "4885697.5\n",
      "9328926.0\n",
      "5563999.0\n",
      "17723364.0\n",
      "8293762.5\n",
      "6028164.0\n",
      "5375987.0\n",
      "8201571.0\n",
      "6983713.0\n"
     ]
    },
    {
     "name": "stderr",
     "output_type": "stream",
     "text": [
      " 89%|████████▊ | 2214/2500 [00:25<00:03, 87.66it/s]"
     ]
    },
    {
     "name": "stdout",
     "output_type": "stream",
     "text": [
      "5185436.0\n",
      "14583312.0\n"
     ]
    },
    {
     "name": "stderr",
     "output_type": "stream",
     "text": [
      " 89%|████████▉ | 2223/2500 [00:25<00:03, 87.60it/s]"
     ]
    },
    {
     "name": "stdout",
     "output_type": "stream",
     "text": [
      "9840588.0\n",
      "6223251.0\n",
      "4792549.0\n",
      "14556854.0\n",
      "9563141.0\n",
      "7119323.5\n",
      "11481592.0\n",
      "11403562.0\n",
      "9605864.0\n",
      "26940486.0\n",
      "12760288.0\n",
      "6279756.5\n",
      "11933064.0\n",
      "10588694.0\n",
      "7695739.0\n",
      "9289926.0\n"
     ]
    },
    {
     "name": "stderr",
     "output_type": "stream",
     "text": [
      " 89%|████████▉ | 2232/2500 [00:25<00:03, 87.55it/s]"
     ]
    },
    {
     "name": "stdout",
     "output_type": "stream",
     "text": [
      "14647020.0\n",
      "13590542.0\n"
     ]
    },
    {
     "name": "stderr",
     "output_type": "stream",
     "text": [
      " 90%|████████▉ | 2241/2500 [00:25<00:02, 87.52it/s]"
     ]
    },
    {
     "name": "stdout",
     "output_type": "stream",
     "text": [
      "9666365.0\n",
      "10081576.0\n",
      "11731425.0\n",
      "10867208.0\n",
      "15606253.0\n",
      "7035726.5\n",
      "4341915.0\n",
      "10226862.0\n",
      "22863940.0\n",
      "8640335.0\n",
      "11218850.0\n",
      "6150414.0\n",
      "7608604.5\n",
      "7753754.5\n",
      "11860922.0\n",
      "12141274.0\n"
     ]
    },
    {
     "name": "stderr",
     "output_type": "stream",
     "text": [
      " 90%|█████████ | 2250/2500 [00:25<00:02, 87.55it/s]"
     ]
    },
    {
     "name": "stdout",
     "output_type": "stream",
     "text": [
      "7793836.5\n",
      "14675477.0\n"
     ]
    },
    {
     "name": "stderr",
     "output_type": "stream",
     "text": [
      " 90%|█████████ | 2259/2500 [00:26<00:02, 87.58it/s]"
     ]
    },
    {
     "name": "stdout",
     "output_type": "stream",
     "text": [
      "9949966.0\n",
      "16061100.0\n",
      "14301106.0\n",
      "11293199.0\n",
      "12663400.0\n",
      "8228597.5\n",
      "8440200.0\n",
      "5849553.0\n",
      "8935630.0\n",
      "4518340.5\n",
      "13692562.0\n",
      "11360309.0\n",
      "19528080.0\n",
      "8714804.0\n",
      "8236587.5\n",
      "4551503.0\n"
     ]
    },
    {
     "name": "stderr",
     "output_type": "stream",
     "text": [
      " 91%|█████████ | 2268/2500 [00:26<00:02, 87.57it/s]"
     ]
    },
    {
     "name": "stdout",
     "output_type": "stream",
     "text": [
      "8878881.0\n",
      "7003200.0\n"
     ]
    },
    {
     "name": "stderr",
     "output_type": "stream",
     "text": [
      " 91%|█████████ | 2277/2500 [00:26<00:02, 87.58it/s]"
     ]
    },
    {
     "name": "stdout",
     "output_type": "stream",
     "text": [
      "7992255.0\n",
      "18228972.0\n",
      "8298827.0\n",
      "9868354.0\n",
      "7544662.5\n",
      "4906620.0\n",
      "9306598.0\n",
      "9599574.0\n",
      "8389923.0\n",
      "4623680.5\n",
      "8612467.0\n",
      "7977895.5\n",
      "4325356.0\n",
      "4690706.0\n",
      "22774312.0\n",
      "8686522.0\n"
     ]
    },
    {
     "name": "stderr",
     "output_type": "stream",
     "text": [
      " 91%|█████████▏| 2286/2500 [00:26<00:02, 87.37it/s]"
     ]
    },
    {
     "name": "stdout",
     "output_type": "stream",
     "text": [
      "4738877.5\n",
      "4838209.5\n"
     ]
    },
    {
     "name": "stderr",
     "output_type": "stream",
     "text": [
      " 92%|█████████▏| 2295/2500 [00:26<00:02, 87.09it/s]"
     ]
    },
    {
     "name": "stdout",
     "output_type": "stream",
     "text": [
      "4966463.0\n",
      "3504682.5\n",
      "6147383.0\n",
      "7206691.5\n",
      "6657278.0\n",
      "9246938.0\n",
      "4216517.0\n",
      "3744053.75\n",
      "13891834.0\n",
      "15147334.0\n",
      "8870944.0\n",
      "10131133.0\n",
      "7538551.0\n",
      "9813665.0\n",
      "6188376.0\n",
      "4711248.5\n"
     ]
    },
    {
     "name": "stderr",
     "output_type": "stream",
     "text": [
      " 92%|█████████▏| 2304/2500 [00:26<00:02, 86.88it/s]"
     ]
    },
    {
     "name": "stdout",
     "output_type": "stream",
     "text": [
      "9994676.0\n",
      "4702342.0\n"
     ]
    },
    {
     "name": "stderr",
     "output_type": "stream",
     "text": [
      " 93%|█████████▎| 2313/2500 [00:26<00:02, 86.90it/s]"
     ]
    },
    {
     "name": "stdout",
     "output_type": "stream",
     "text": [
      "6451187.5\n",
      "10901801.0\n",
      "6712384.0\n",
      "12890930.0\n",
      "3576246.75\n",
      "10214539.0\n",
      "8850775.0\n",
      "8093701.0\n",
      "15115592.0\n",
      "11560705.0\n",
      "12969256.0\n",
      "15580691.0\n",
      "13995707.0\n",
      "11801695.0\n",
      "7119542.0\n",
      "8204974.5\n"
     ]
    },
    {
     "name": "stderr",
     "output_type": "stream",
     "text": [
      " 93%|█████████▎| 2322/2500 [00:26<00:02, 86.95it/s]"
     ]
    },
    {
     "name": "stdout",
     "output_type": "stream",
     "text": [
      "10203446.0\n",
      "6423574.0\n"
     ]
    },
    {
     "name": "stderr",
     "output_type": "stream",
     "text": [
      " 93%|█████████▎| 2331/2500 [00:26<00:01, 87.00it/s]"
     ]
    },
    {
     "name": "stdout",
     "output_type": "stream",
     "text": [
      "9681294.0\n",
      "13158476.0\n",
      "12454150.0\n",
      "7442288.5\n",
      "8718127.0\n",
      "9253952.0\n",
      "7450931.0\n",
      "9566096.0\n",
      "6310781.0\n",
      "9717669.0\n",
      "28102044.0\n",
      "8662848.0\n",
      "8205320.5\n",
      "7087257.5\n",
      "8578826.0\n",
      "9471540.0\n"
     ]
    },
    {
     "name": "stderr",
     "output_type": "stream",
     "text": [
      " 94%|█████████▎| 2340/2500 [00:26<00:01, 86.87it/s]"
     ]
    },
    {
     "name": "stdout",
     "output_type": "stream",
     "text": [
      "7654585.0\n",
      "5817705.0\n"
     ]
    },
    {
     "name": "stderr",
     "output_type": "stream",
     "text": [
      " 94%|█████████▍| 2349/2500 [00:27<00:01, 86.91it/s]"
     ]
    },
    {
     "name": "stdout",
     "output_type": "stream",
     "text": [
      "8852595.0\n",
      "8782675.0\n",
      "7125814.0\n",
      "16292430.0\n",
      "6707881.0\n",
      "7900735.0\n",
      "7523417.0\n",
      "10074268.0\n",
      "13203504.0\n",
      "4367968.0\n",
      "6681568.0\n",
      "20031618.0\n",
      "12539176.0\n",
      "13704624.0\n",
      "17129898.0\n",
      "10558013.0\n"
     ]
    },
    {
     "name": "stderr",
     "output_type": "stream",
     "text": [
      " 94%|█████████▍| 2358/2500 [00:27<00:01, 87.20it/s]"
     ]
    },
    {
     "name": "stdout",
     "output_type": "stream",
     "text": [
      "4638491.0\n",
      "10900453.0\n"
     ]
    },
    {
     "name": "stderr",
     "output_type": "stream",
     "text": [
      " 95%|█████████▍| 2367/2500 [00:27<00:01, 87.37it/s]"
     ]
    },
    {
     "name": "stdout",
     "output_type": "stream",
     "text": [
      "11822144.0\n",
      "11269914.0\n",
      "11893616.0\n",
      "8273140.5\n",
      "7131498.0\n",
      "11314738.0\n",
      "12524574.0\n",
      "5880484.0\n",
      "7251657.5\n",
      "15434077.0\n",
      "4521761.0\n",
      "10237615.0\n",
      "14461736.0\n",
      "5640388.0\n",
      "8067457.0\n",
      "12348243.0\n"
     ]
    },
    {
     "name": "stderr",
     "output_type": "stream",
     "text": [
      " 95%|█████████▌| 2376/2500 [00:27<00:01, 87.25it/s]"
     ]
    },
    {
     "name": "stdout",
     "output_type": "stream",
     "text": [
      "11984400.0\n",
      "15677346.0\n"
     ]
    },
    {
     "name": "stderr",
     "output_type": "stream",
     "text": [
      " 95%|█████████▌| 2385/2500 [00:27<00:01, 87.25it/s]"
     ]
    },
    {
     "name": "stdout",
     "output_type": "stream",
     "text": [
      "9929687.0\n",
      "7318356.0\n",
      "8336578.0\n",
      "8282878.0\n",
      "7551216.5\n",
      "7055348.0\n",
      "6803161.0\n",
      "13664418.0\n",
      "6169503.0\n",
      "12203295.0\n",
      "9740261.0\n",
      "5448834.0\n",
      "7826558.5\n",
      "11022459.0\n",
      "9105746.0\n",
      "8669960.0\n"
     ]
    },
    {
     "name": "stderr",
     "output_type": "stream",
     "text": [
      " 96%|█████████▌| 2394/2500 [00:27<00:01, 87.32it/s]"
     ]
    },
    {
     "name": "stdout",
     "output_type": "stream",
     "text": [
      "8132827.5\n",
      "10256688.0\n"
     ]
    },
    {
     "name": "stderr",
     "output_type": "stream",
     "text": [
      " 96%|█████████▌| 2403/2500 [00:27<00:01, 87.38it/s]"
     ]
    },
    {
     "name": "stdout",
     "output_type": "stream",
     "text": [
      "9710490.0\n",
      "10041152.0\n",
      "7653499.0\n",
      "10383795.0\n",
      "6101773.0\n",
      "5823511.0\n",
      "7414246.5\n",
      "4116614.5\n",
      "4960148.0\n",
      "10517920.0\n",
      "5687057.0\n",
      "8203077.0\n",
      "5674897.5\n",
      "5275353.5\n",
      "5243645.0\n",
      "7121640.0\n"
     ]
    },
    {
     "name": "stderr",
     "output_type": "stream",
     "text": [
      " 96%|█████████▋| 2412/2500 [00:27<00:01, 87.45it/s]"
     ]
    },
    {
     "name": "stdout",
     "output_type": "stream",
     "text": [
      "10907596.0\n",
      "4777301.5\n"
     ]
    },
    {
     "name": "stderr",
     "output_type": "stream",
     "text": [
      " 97%|█████████▋| 2421/2500 [00:27<00:00, 87.59it/s]"
     ]
    },
    {
     "name": "stdout",
     "output_type": "stream",
     "text": [
      "8843777.0\n",
      "4920416.0\n",
      "13856037.0\n",
      "5924642.0\n",
      "5922788.0\n",
      "4812911.0\n",
      "5026460.0\n",
      "8156854.5\n",
      "4848968.0\n",
      "11303814.0\n",
      "5424423.0\n",
      "12374646.0\n",
      "5660312.0\n",
      "4211187.0\n",
      "10361822.0\n",
      "9264035.0\n"
     ]
    },
    {
     "name": "stderr",
     "output_type": "stream",
     "text": [
      " 97%|█████████▋| 2430/2500 [00:27<00:00, 87.70it/s]"
     ]
    },
    {
     "name": "stdout",
     "output_type": "stream",
     "text": [
      "3857747.25\n",
      "10208083.0\n"
     ]
    },
    {
     "name": "stderr",
     "output_type": "stream",
     "text": [
      " 98%|█████████▊| 2439/2500 [00:28<00:00, 87.70it/s]"
     ]
    },
    {
     "name": "stdout",
     "output_type": "stream",
     "text": [
      "12065775.0\n",
      "7631098.0\n",
      "9072382.0\n",
      "5465412.5\n",
      "5517424.5\n",
      "6520510.0\n",
      "9573650.0\n",
      "12188112.0\n",
      "10545657.0\n",
      "6426411.5\n",
      "6093000.5\n",
      "8866008.0\n",
      "8193294.0\n",
      "12186372.0\n",
      "12379524.0\n",
      "12397907.0\n"
     ]
    },
    {
     "name": "stderr",
     "output_type": "stream",
     "text": [
      " 98%|█████████▊| 2448/2500 [00:28<00:00, 87.71it/s]"
     ]
    },
    {
     "name": "stdout",
     "output_type": "stream",
     "text": [
      "5548767.0\n",
      "6718697.0\n"
     ]
    },
    {
     "name": "stderr",
     "output_type": "stream",
     "text": [
      " 98%|█████████▊| 2457/2500 [00:28<00:00, 87.71it/s]"
     ]
    },
    {
     "name": "stdout",
     "output_type": "stream",
     "text": [
      "10704302.0\n",
      "7699734.0\n",
      "7177224.0\n",
      "12009016.0\n",
      "4828860.5\n",
      "6079300.0\n",
      "3581848.5\n",
      "11299546.0\n",
      "4618731.0\n",
      "12384330.0\n",
      "6805072.0\n",
      "7839694.5\n",
      "5167609.5\n",
      "8048240.0\n",
      "7174624.0\n",
      "7939472.5\n"
     ]
    },
    {
     "name": "stderr",
     "output_type": "stream",
     "text": [
      " 99%|█████████▊| 2466/2500 [00:28<00:00, 87.68it/s]"
     ]
    },
    {
     "name": "stdout",
     "output_type": "stream",
     "text": [
      "7346999.0\n",
      "6358643.0\n"
     ]
    },
    {
     "name": "stderr",
     "output_type": "stream",
     "text": [
      " 99%|█████████▉| 2475/2500 [00:28<00:00, 87.67it/s]"
     ]
    },
    {
     "name": "stdout",
     "output_type": "stream",
     "text": [
      "4447136.0\n",
      "11720479.0\n",
      "9103090.0\n",
      "6137539.0\n",
      "10795990.0\n",
      "13201352.0\n",
      "11371129.0\n",
      "20786884.0\n",
      "30480418.0\n",
      "19493696.0\n",
      "28429412.0\n",
      "35531404.0\n",
      "32127944.0\n",
      "26520144.0\n",
      "26652782.0\n",
      "29016710.0\n"
     ]
    },
    {
     "name": "stderr",
     "output_type": "stream",
     "text": [
      " 99%|█████████▉| 2484/2500 [00:28<00:00, 87.56it/s]"
     ]
    },
    {
     "name": "stdout",
     "output_type": "stream",
     "text": [
      "9070704.0\n",
      "9371662.0\n"
     ]
    },
    {
     "name": "stderr",
     "output_type": "stream",
     "text": [
      "100%|██████████| 2500/2500 [00:28<00:00, 86.83it/s]"
     ]
    },
    {
     "name": "stdout",
     "output_type": "stream",
     "text": [
      "16337590.0\n",
      "11862210.0\n",
      "11453648.0\n",
      "12147162.0\n",
      "31824314.0\n",
      "7647021.0\n",
      "25542084.0\n",
      "22149692.0\n",
      "14165288.0\n",
      "16238430.0\n",
      "39681080.0\n",
      "17329832.0\n",
      "20541764.0\n",
      "14654788.0\n",
      "10873334.0\n",
      "10310601.0\n"
     ]
    },
    {
     "name": "stderr",
     "output_type": "stream",
     "text": [
      "\n"
     ]
    },
    {
     "name": "stdout",
     "output_type": "stream",
     "text": [
      "Epoch: 2, Train Loss: 1856032640.8704, Test Loss: 1856030204.7232\n"
     ]
    }
   ],
   "source": [
    "for epoch in range(2):\n",
    "    train()\n",
    "    train_loss = test(train_loader)\n",
    "    test_loss = test(test_loader)\n",
    "    print(f'Epoch: {epoch + 1}, Train Loss: {train_loss:.4f}, Test Loss: {test_loss:.4f}')"
   ]
  },
  {
   "cell_type": "code",
   "execution_count": null,
   "metadata": {},
   "outputs": [],
   "source": []
  }
 ],
 "metadata": {
  "kernelspec": {
   "display_name": "nequip",
   "language": "python",
   "name": "python3"
  },
  "language_info": {
   "codemirror_mode": {
    "name": "ipython",
    "version": 3
   },
   "file_extension": ".py",
   "mimetype": "text/x-python",
   "name": "python",
   "nbconvert_exporter": "python",
   "pygments_lexer": "ipython3",
   "version": "3.10.0"
  },
  "orig_nbformat": 4
 },
 "nbformat": 4,
 "nbformat_minor": 2
}
